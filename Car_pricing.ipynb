{
 "cells": [
  {
   "cell_type": "code",
   "execution_count": 1,
   "id": "89451e0a",
   "metadata": {},
   "outputs": [],
   "source": [
    "import pandas as pd\n",
    "import numpy as np\n",
    "import regex as re\n",
    "import seaborn as sns"
   ]
  },
  {
   "cell_type": "code",
   "execution_count": 2,
   "id": "cdabde1d",
   "metadata": {},
   "outputs": [
    {
     "data": {
      "text/html": [
       "<div>\n",
       "<style scoped>\n",
       "    .dataframe tbody tr th:only-of-type {\n",
       "        vertical-align: middle;\n",
       "    }\n",
       "\n",
       "    .dataframe tbody tr th {\n",
       "        vertical-align: top;\n",
       "    }\n",
       "\n",
       "    .dataframe thead th {\n",
       "        text-align: right;\n",
       "    }\n",
       "</style>\n",
       "<table border=\"1\" class=\"dataframe\">\n",
       "  <thead>\n",
       "    <tr style=\"text-align: right;\">\n",
       "      <th></th>\n",
       "      <th>Price</th>\n",
       "      <th>Desc</th>\n",
       "      <th>Loc</th>\n",
       "      <th>kms</th>\n",
       "      <th>Transmision</th>\n",
       "      <th>engine</th>\n",
       "      <th>Engi</th>\n",
       "      <th>body type</th>\n",
       "      <th>Year</th>\n",
       "    </tr>\n",
       "  </thead>\n",
       "  <tbody>\n",
       "    <tr>\n",
       "      <th>0</th>\n",
       "      <td>$9,999</td>\n",
       "      <td>2010 Hyundai i30 SX Auto White</td>\n",
       "      <td>Greenslopes, QLD</td>\n",
       "      <td>102000</td>\n",
       "      <td>Auto</td>\n",
       "      <td>4 cyl 2.0L</td>\n",
       "      <td>2</td>\n",
       "      <td>Hatchback</td>\n",
       "      <td>2010</td>\n",
       "    </tr>\n",
       "    <tr>\n",
       "      <th>1</th>\n",
       "      <td>$9,999</td>\n",
       "      <td>2009 Hyundai i30 FD MY09 SX Red 5 Speed Manual...</td>\n",
       "      <td>Invermay, TAS</td>\n",
       "      <td>132931</td>\n",
       "      <td>Manual</td>\n",
       "      <td>4 cyl 2.0L</td>\n",
       "      <td>2</td>\n",
       "      <td>Hatchback</td>\n",
       "      <td>2009</td>\n",
       "    </tr>\n",
       "    <tr>\n",
       "      <th>2</th>\n",
       "      <td>$9,999</td>\n",
       "      <td>2008 Hyundai i30 FD SR White 4 Speed Automatic...</td>\n",
       "      <td>Victoria Park, WA</td>\n",
       "      <td>161000</td>\n",
       "      <td>Auto</td>\n",
       "      <td>4 cyl 2.0L</td>\n",
       "      <td>2</td>\n",
       "      <td>Hatchback</td>\n",
       "      <td>2008</td>\n",
       "    </tr>\n",
       "    <tr>\n",
       "      <th>3</th>\n",
       "      <td>$9,995</td>\n",
       "      <td>2011 Hyundai i30 FD MY11 SX 1.6 CRDi Blue 5 Sp...</td>\n",
       "      <td>Capalaba, QLD</td>\n",
       "      <td>177305</td>\n",
       "      <td>Manual</td>\n",
       "      <td>4 cyl 1.6L</td>\n",
       "      <td>1,6</td>\n",
       "      <td>Hatchback</td>\n",
       "      <td>2011</td>\n",
       "    </tr>\n",
       "    <tr>\n",
       "      <th>4</th>\n",
       "      <td>$9,995</td>\n",
       "      <td>2010 Hyundai i30 SX</td>\n",
       "      <td>Moorooka, QLD</td>\n",
       "      <td>187703</td>\n",
       "      <td>Auto</td>\n",
       "      <td>4 cyl 1.6L</td>\n",
       "      <td>1,6</td>\n",
       "      <td>Hatchback</td>\n",
       "      <td>2010</td>\n",
       "    </tr>\n",
       "  </tbody>\n",
       "</table>\n",
       "</div>"
      ],
      "text/plain": [
       "      Price                                               Desc  \\\n",
       "0   $9,999                      2010 Hyundai i30 SX Auto White   \n",
       "1   $9,999   2009 Hyundai i30 FD MY09 SX Red 5 Speed Manual...   \n",
       "2   $9,999   2008 Hyundai i30 FD SR White 4 Speed Automatic...   \n",
       "3   $9,995   2011 Hyundai i30 FD MY11 SX 1.6 CRDi Blue 5 Sp...   \n",
       "4   $9,995                                 2010 Hyundai i30 SX   \n",
       "\n",
       "                 Loc     kms Transmision      engine Engi  body type  Year  \n",
       "0   Greenslopes, QLD  102000        Auto  4 cyl 2.0L    2  Hatchback  2010  \n",
       "1      Invermay, TAS  132931      Manual  4 cyl 2.0L    2  Hatchback  2009  \n",
       "2  Victoria Park, WA  161000        Auto  4 cyl 2.0L    2  Hatchback  2008  \n",
       "3      Capalaba, QLD  177305      Manual  4 cyl 1.6L  1,6  Hatchback  2011  \n",
       "4      Moorooka, QLD  187703        Auto  4 cyl 1.6L  1,6  Hatchback  2010  "
      ]
     },
     "execution_count": 2,
     "metadata": {},
     "output_type": "execute_result"
    }
   ],
   "source": [
    "data = pd.read_csv('i30.csv')\n",
    "data.head(5)"
   ]
  },
  {
   "cell_type": "code",
   "execution_count": 3,
   "id": "9511751a",
   "metadata": {},
   "outputs": [
    {
     "data": {
      "text/plain": [
       "(689, 9)"
      ]
     },
     "execution_count": 3,
     "metadata": {},
     "output_type": "execute_result"
    }
   ],
   "source": [
    "data.shape"
   ]
  },
  {
   "cell_type": "code",
   "execution_count": 4,
   "id": "f1cc8522",
   "metadata": {},
   "outputs": [
    {
     "data": {
      "text/plain": [
       "Index(['Price', 'Desc', 'Loc', 'kms', 'Transmision', 'engine', 'Engi',\n",
       "       'body type', 'Year'],\n",
       "      dtype='object')"
      ]
     },
     "execution_count": 4,
     "metadata": {},
     "output_type": "execute_result"
    }
   ],
   "source": [
    "data.columns"
   ]
  },
  {
   "cell_type": "code",
   "execution_count": 5,
   "id": "ebb343ba",
   "metadata": {},
   "outputs": [
    {
     "data": {
      "text/plain": [
       "Price          object\n",
       "Desc           object\n",
       "Loc            object\n",
       "kms             int64\n",
       "Transmision    object\n",
       "engine         object\n",
       "Engi           object\n",
       "body type      object\n",
       "Year           object\n",
       "dtype: object"
      ]
     },
     "execution_count": 5,
     "metadata": {},
     "output_type": "execute_result"
    }
   ],
   "source": [
    "data.dtypes"
   ]
  },
  {
   "cell_type": "markdown",
   "id": "e5a2bb74",
   "metadata": {},
   "source": [
    "### Data Cleansing"
   ]
  },
  {
   "cell_type": "code",
   "execution_count": 6,
   "id": "e6a12ff8",
   "metadata": {},
   "outputs": [],
   "source": [
    "data['Price'] = data['Price'].str.replace('[A-Za-z]', '').str.replace('$', '')\n",
    "data['Price'] = data['Price'].str.replace('[A-Za-z]', '').str.replace(',', '')"
   ]
  },
  {
   "cell_type": "code",
   "execution_count": 7,
   "id": "48cd6fce",
   "metadata": {},
   "outputs": [],
   "source": [
    "data.Price = data.Price.astype(float)"
   ]
  },
  {
   "cell_type": "code",
   "execution_count": 8,
   "id": "7162214a",
   "metadata": {},
   "outputs": [
    {
     "data": {
      "text/plain": [
       "count      689.000000\n",
       "mean     23363.031930\n",
       "std      11742.092429\n",
       "min       4985.000000\n",
       "25%      14990.000000\n",
       "50%      21990.000000\n",
       "75%      28350.000000\n",
       "max      62990.000000\n",
       "Name: Price, dtype: float64"
      ]
     },
     "execution_count": 8,
     "metadata": {},
     "output_type": "execute_result"
    }
   ],
   "source": [
    "data.Price.describe()"
   ]
  },
  {
   "cell_type": "code",
   "execution_count": 9,
   "id": "45131844",
   "metadata": {},
   "outputs": [],
   "source": [
    "#"
   ]
  },
  {
   "cell_type": "code",
   "execution_count": 10,
   "id": "28b8c806",
   "metadata": {},
   "outputs": [],
   "source": [
    "data[\"Engi\"] = data['Engi'].str.replace('?', '')#.astype(float)\n",
    "data[\"Engi\"] = data['Engi'].str.replace(',', '.')#.astype(float)\n",
    "\n"
   ]
  },
  {
   "cell_type": "code",
   "execution_count": 11,
   "id": "2ac1c1ab",
   "metadata": {},
   "outputs": [],
   "source": [
    "data['Engi'].replace('', np.nan, inplace=True)"
   ]
  },
  {
   "cell_type": "code",
   "execution_count": 12,
   "id": "cac43b55",
   "metadata": {},
   "outputs": [],
   "source": [
    "data.dropna(inplace = True)"
   ]
  },
  {
   "cell_type": "code",
   "execution_count": 13,
   "id": "2f6ac6d5",
   "metadata": {},
   "outputs": [
    {
     "data": {
      "text/plain": [
       "2      340\n",
       "1.8    158\n",
       "1.6    145\n",
       "Name: Engi, dtype: int64"
      ]
     },
     "execution_count": 13,
     "metadata": {},
     "output_type": "execute_result"
    }
   ],
   "source": [
    "data.Engi.value_counts()"
   ]
  },
  {
   "cell_type": "code",
   "execution_count": 14,
   "id": "e56839c0",
   "metadata": {},
   "outputs": [],
   "source": [
    "data.Engi = data.Engi.astype(float)"
   ]
  },
  {
   "cell_type": "code",
   "execution_count": 15,
   "id": "3be45abc",
   "metadata": {},
   "outputs": [
    {
     "data": {
      "text/plain": [
       "4 cyl 2.0L    340\n",
       "4 cyl 1.8L    158\n",
       "4 cyl 1.6L    144\n",
       "1600            1\n",
       "Name: engine, dtype: int64"
      ]
     },
     "execution_count": 15,
     "metadata": {},
     "output_type": "execute_result"
    }
   ],
   "source": [
    "data.engine.value_counts()"
   ]
  },
  {
   "cell_type": "code",
   "execution_count": 16,
   "id": "e65a2c5a",
   "metadata": {},
   "outputs": [],
   "source": [
    "data[\"Year\"] = data['Year'].str.replace('?', '0').astype(int)"
   ]
  },
  {
   "cell_type": "code",
   "execution_count": 17,
   "id": "e3ccaaa8",
   "metadata": {},
   "outputs": [
    {
     "data": {
      "text/plain": [
       "Price          float64\n",
       "Desc            object\n",
       "Loc             object\n",
       "kms              int64\n",
       "Transmision     object\n",
       "engine          object\n",
       "Engi           float64\n",
       "body type       object\n",
       "Year             int32\n",
       "dtype: object"
      ]
     },
     "execution_count": 17,
     "metadata": {},
     "output_type": "execute_result"
    }
   ],
   "source": [
    "data.dtypes"
   ]
  },
  {
   "cell_type": "code",
   "execution_count": 18,
   "id": "c5134659",
   "metadata": {},
   "outputs": [
    {
     "data": {
      "text/plain": [
       "(643, 9)"
      ]
     },
     "execution_count": 18,
     "metadata": {},
     "output_type": "execute_result"
    }
   ],
   "source": [
    "data.shape"
   ]
  },
  {
   "cell_type": "code",
   "execution_count": 19,
   "id": "8e7e4906",
   "metadata": {},
   "outputs": [
    {
     "data": {
      "text/plain": [
       "4 cyl 2.0L    340\n",
       "4 cyl 1.8L    158\n",
       "4 cyl 1.6L    144\n",
       "1600            1\n",
       "Name: engine, dtype: int64"
      ]
     },
     "execution_count": 19,
     "metadata": {},
     "output_type": "execute_result"
    }
   ],
   "source": [
    "data.engine.value_counts()"
   ]
  },
  {
   "cell_type": "markdown",
   "id": "eaa38d6c",
   "metadata": {},
   "source": [
    "### Analisis outliers"
   ]
  },
  {
   "cell_type": "code",
   "execution_count": null,
   "id": "fcd2c5be",
   "metadata": {},
   "outputs": [],
   "source": []
  },
  {
   "cell_type": "code",
   "execution_count": 20,
   "id": "c07e9be5",
   "metadata": {},
   "outputs": [],
   "source": [
    "data_price = data.groupby(['Engi'])[['Price']]"
   ]
  },
  {
   "cell_type": "code",
   "execution_count": 21,
   "id": "2eb3fd1b",
   "metadata": {},
   "outputs": [
    {
     "data": {
      "text/html": [
       "<div>\n",
       "<style scoped>\n",
       "    .dataframe tbody tr th:only-of-type {\n",
       "        vertical-align: middle;\n",
       "    }\n",
       "\n",
       "    .dataframe tbody tr th {\n",
       "        vertical-align: top;\n",
       "    }\n",
       "\n",
       "    .dataframe thead tr th {\n",
       "        text-align: left;\n",
       "    }\n",
       "\n",
       "    .dataframe thead tr:last-of-type th {\n",
       "        text-align: right;\n",
       "    }\n",
       "</style>\n",
       "<table border=\"1\" class=\"dataframe\">\n",
       "  <thead>\n",
       "    <tr>\n",
       "      <th></th>\n",
       "      <th colspan=\"8\" halign=\"left\">Price</th>\n",
       "    </tr>\n",
       "    <tr>\n",
       "      <th></th>\n",
       "      <th>count</th>\n",
       "      <th>mean</th>\n",
       "      <th>std</th>\n",
       "      <th>min</th>\n",
       "      <th>25%</th>\n",
       "      <th>50%</th>\n",
       "      <th>75%</th>\n",
       "      <th>max</th>\n",
       "    </tr>\n",
       "    <tr>\n",
       "      <th>Engi</th>\n",
       "      <th></th>\n",
       "      <th></th>\n",
       "      <th></th>\n",
       "      <th></th>\n",
       "      <th></th>\n",
       "      <th></th>\n",
       "      <th></th>\n",
       "      <th></th>\n",
       "    </tr>\n",
       "  </thead>\n",
       "  <tbody>\n",
       "    <tr>\n",
       "      <th>1.6</th>\n",
       "      <td>145.0</td>\n",
       "      <td>25497.689655</td>\n",
       "      <td>11959.363869</td>\n",
       "      <td>4990.0</td>\n",
       "      <td>12990.0</td>\n",
       "      <td>28999.0</td>\n",
       "      <td>35415.0</td>\n",
       "      <td>55750.0</td>\n",
       "    </tr>\n",
       "    <tr>\n",
       "      <th>1.8</th>\n",
       "      <td>158.0</td>\n",
       "      <td>16783.531646</td>\n",
       "      <td>3276.866475</td>\n",
       "      <td>7690.0</td>\n",
       "      <td>14990.0</td>\n",
       "      <td>16994.5</td>\n",
       "      <td>18990.0</td>\n",
       "      <td>23990.0</td>\n",
       "    </tr>\n",
       "    <tr>\n",
       "      <th>2.0</th>\n",
       "      <td>340.0</td>\n",
       "      <td>26011.255882</td>\n",
       "      <td>12794.092561</td>\n",
       "      <td>4985.0</td>\n",
       "      <td>18998.0</td>\n",
       "      <td>24919.0</td>\n",
       "      <td>29490.0</td>\n",
       "      <td>62990.0</td>\n",
       "    </tr>\n",
       "  </tbody>\n",
       "</table>\n",
       "</div>"
      ],
      "text/plain": [
       "      Price                                                                 \\\n",
       "      count          mean           std     min      25%      50%      75%   \n",
       "Engi                                                                         \n",
       "1.6   145.0  25497.689655  11959.363869  4990.0  12990.0  28999.0  35415.0   \n",
       "1.8   158.0  16783.531646   3276.866475  7690.0  14990.0  16994.5  18990.0   \n",
       "2.0   340.0  26011.255882  12794.092561  4985.0  18998.0  24919.0  29490.0   \n",
       "\n",
       "               \n",
       "          max  \n",
       "Engi           \n",
       "1.6   55750.0  \n",
       "1.8   23990.0  \n",
       "2.0   62990.0  "
      ]
     },
     "execution_count": 21,
     "metadata": {},
     "output_type": "execute_result"
    }
   ],
   "source": [
    "data_price.describe()"
   ]
  },
  {
   "cell_type": "code",
   "execution_count": 22,
   "id": "9cc5eb3d",
   "metadata": {},
   "outputs": [
    {
     "name": "stdout",
     "output_type": "stream",
     "text": [
      "        Price\n",
      "Engi         \n",
      "1.6   12990.0\n",
      "1.8   14990.0\n",
      "2.0   18998.0\n",
      "        Price\n",
      "Engi         \n",
      "1.6   28999.0\n",
      "1.8   16994.5\n",
      "2.0   24919.0\n",
      "        Price\n",
      "Engi         \n",
      "1.6   35415.0\n",
      "1.8   18990.0\n",
      "2.0   29490.0\n"
     ]
    }
   ],
   "source": [
    "q1 = data_price.quantile(0.25)\n",
    "print(q1)\n",
    "q2 = data_price.quantile(0.5)\n",
    "print(q2)\n",
    "q3 = data_price.quantile(0.75)\n",
    "print(q3)"
   ]
  },
  {
   "cell_type": "code",
   "execution_count": 23,
   "id": "035dfba2",
   "metadata": {},
   "outputs": [
    {
     "name": "stdout",
     "output_type": "stream",
     "text": [
      "        Price\n",
      "Engi         \n",
      "1.6   69052.5\n",
      "1.8   24990.0\n",
      "2.0   45228.0\n",
      "        Price\n",
      "Engi         \n",
      "1.6  -20647.5\n",
      "1.8    8990.0\n",
      "2.0    3260.0\n"
     ]
    }
   ],
   "source": [
    "#Se calculan los valores límites a partir de los cuales se delimitarán los valores outliers\n",
    "iqr = (q3 - q1) * 1.5\n",
    "\n",
    "up_threshold = q3 + iqr\n",
    "low_threshold = q1 - iqr\n",
    "\n",
    "print(up_threshold)\n",
    "print(low_threshold)"
   ]
  },
  {
   "cell_type": "code",
   "execution_count": 24,
   "id": "0f91dd02",
   "metadata": {},
   "outputs": [],
   "source": [
    "data[\"outliers\"] = data.groupby(\"Engi\")[\"Price\"].transform(lambda grp:  (grp < up_threshold['Price'][grp.name]))\n"
   ]
  },
  {
   "cell_type": "code",
   "execution_count": 25,
   "id": "d6bb9106",
   "metadata": {},
   "outputs": [
    {
     "data": {
      "image/png": "[encoded data removed]",
      "text/plain": [
       "<Figure size 432x288 with 1 Axes>"
      ]
     },
     "metadata": {
      "needs_background": "light"
     },
     "output_type": "display_data"
    }
   ],
   "source": [
    "fig = data.boxplot(by='Engi',column= ['Price']) "
   ]
  },
  {
   "cell_type": "code",
   "execution_count": 26,
   "id": "eec868c7",
   "metadata": {},
   "outputs": [
    {
     "data": {
      "text/html": [
       "<div>\n",
       "<style scoped>\n",
       "    .dataframe tbody tr th:only-of-type {\n",
       "        vertical-align: middle;\n",
       "    }\n",
       "\n",
       "    .dataframe tbody tr th {\n",
       "        vertical-align: top;\n",
       "    }\n",
       "\n",
       "    .dataframe thead th {\n",
       "        text-align: right;\n",
       "    }\n",
       "</style>\n",
       "<table border=\"1\" class=\"dataframe\">\n",
       "  <thead>\n",
       "    <tr style=\"text-align: right;\">\n",
       "      <th></th>\n",
       "      <th>Price</th>\n",
       "      <th>Desc</th>\n",
       "      <th>Loc</th>\n",
       "      <th>kms</th>\n",
       "      <th>Transmision</th>\n",
       "      <th>engine</th>\n",
       "      <th>Engi</th>\n",
       "      <th>body type</th>\n",
       "      <th>Year</th>\n",
       "      <th>outliers</th>\n",
       "    </tr>\n",
       "  </thead>\n",
       "  <tbody>\n",
       "    <tr>\n",
       "      <th>0</th>\n",
       "      <td>9999.0</td>\n",
       "      <td>2010 Hyundai i30 SX Auto White</td>\n",
       "      <td>Greenslopes, QLD</td>\n",
       "      <td>102000</td>\n",
       "      <td>Auto</td>\n",
       "      <td>4 cyl 2.0L</td>\n",
       "      <td>2.0</td>\n",
       "      <td>Hatchback</td>\n",
       "      <td>2010</td>\n",
       "      <td>True</td>\n",
       "    </tr>\n",
       "    <tr>\n",
       "      <th>1</th>\n",
       "      <td>9999.0</td>\n",
       "      <td>2009 Hyundai i30 FD MY09 SX Red 5 Speed Manual...</td>\n",
       "      <td>Invermay, TAS</td>\n",
       "      <td>132931</td>\n",
       "      <td>Manual</td>\n",
       "      <td>4 cyl 2.0L</td>\n",
       "      <td>2.0</td>\n",
       "      <td>Hatchback</td>\n",
       "      <td>2009</td>\n",
       "      <td>True</td>\n",
       "    </tr>\n",
       "    <tr>\n",
       "      <th>2</th>\n",
       "      <td>9999.0</td>\n",
       "      <td>2008 Hyundai i30 FD SR White 4 Speed Automatic...</td>\n",
       "      <td>Victoria Park, WA</td>\n",
       "      <td>161000</td>\n",
       "      <td>Auto</td>\n",
       "      <td>4 cyl 2.0L</td>\n",
       "      <td>2.0</td>\n",
       "      <td>Hatchback</td>\n",
       "      <td>2008</td>\n",
       "      <td>True</td>\n",
       "    </tr>\n",
       "    <tr>\n",
       "      <th>3</th>\n",
       "      <td>9995.0</td>\n",
       "      <td>2011 Hyundai i30 FD MY11 SX 1.6 CRDi Blue 5 Sp...</td>\n",
       "      <td>Capalaba, QLD</td>\n",
       "      <td>177305</td>\n",
       "      <td>Manual</td>\n",
       "      <td>4 cyl 1.6L</td>\n",
       "      <td>1.6</td>\n",
       "      <td>Hatchback</td>\n",
       "      <td>2011</td>\n",
       "      <td>True</td>\n",
       "    </tr>\n",
       "    <tr>\n",
       "      <th>4</th>\n",
       "      <td>9995.0</td>\n",
       "      <td>2010 Hyundai i30 SX</td>\n",
       "      <td>Moorooka, QLD</td>\n",
       "      <td>187703</td>\n",
       "      <td>Auto</td>\n",
       "      <td>4 cyl 1.6L</td>\n",
       "      <td>1.6</td>\n",
       "      <td>Hatchback</td>\n",
       "      <td>2010</td>\n",
       "      <td>True</td>\n",
       "    </tr>\n",
       "    <tr>\n",
       "      <th>...</th>\n",
       "      <td>...</td>\n",
       "      <td>...</td>\n",
       "      <td>...</td>\n",
       "      <td>...</td>\n",
       "      <td>...</td>\n",
       "      <td>...</td>\n",
       "      <td>...</td>\n",
       "      <td>...</td>\n",
       "      <td>...</td>\n",
       "      <td>...</td>\n",
       "    </tr>\n",
       "    <tr>\n",
       "      <th>684</th>\n",
       "      <td>10898.0</td>\n",
       "      <td>2012 Hyundai i30 FD MY11 SLX Grey 4 Speed Auto...</td>\n",
       "      <td>Canning Vale, WA</td>\n",
       "      <td>155338</td>\n",
       "      <td>Auto</td>\n",
       "      <td>4 cyl 1.6L</td>\n",
       "      <td>1.6</td>\n",
       "      <td>Hatchback</td>\n",
       "      <td>2012</td>\n",
       "      <td>True</td>\n",
       "    </tr>\n",
       "    <tr>\n",
       "      <th>685</th>\n",
       "      <td>10800.0</td>\n",
       "      <td>2013 Hyundai i30 GD Active White 6 Speed Manua...</td>\n",
       "      <td>Minchinbury, NSW</td>\n",
       "      <td>199172</td>\n",
       "      <td>Manual</td>\n",
       "      <td>4 cyl 1.8L</td>\n",
       "      <td>1.8</td>\n",
       "      <td>Hatchback</td>\n",
       "      <td>2013</td>\n",
       "      <td>True</td>\n",
       "    </tr>\n",
       "    <tr>\n",
       "      <th>686</th>\n",
       "      <td>10460.0</td>\n",
       "      <td>2012 Hyundai i30 FD MY12 Trophy White 5 Speed ...</td>\n",
       "      <td>Traralgon, VIC</td>\n",
       "      <td>167201</td>\n",
       "      <td>Manual</td>\n",
       "      <td>4 cyl 2.0L</td>\n",
       "      <td>2.0</td>\n",
       "      <td>Hatchback</td>\n",
       "      <td>2012</td>\n",
       "      <td>True</td>\n",
       "    </tr>\n",
       "    <tr>\n",
       "      <th>687</th>\n",
       "      <td>10451.0</td>\n",
       "      <td>2012 Hyundai i30 FD MY12 Trophy Red 5 Speed Ma...</td>\n",
       "      <td>Traralgon, VIC</td>\n",
       "      <td>105747</td>\n",
       "      <td>Manual</td>\n",
       "      <td>4 cyl 2.0L</td>\n",
       "      <td>2.0</td>\n",
       "      <td>Hatchback</td>\n",
       "      <td>2012</td>\n",
       "      <td>True</td>\n",
       "    </tr>\n",
       "    <tr>\n",
       "      <th>688</th>\n",
       "      <td>10000.0</td>\n",
       "      <td>2010 Hyundai i30 FD MY10 CW SX 1.6 CRDi Grey 4...</td>\n",
       "      <td>Coorparoo, QLD</td>\n",
       "      <td>133998</td>\n",
       "      <td>Auto</td>\n",
       "      <td>4 cyl 1.6L</td>\n",
       "      <td>1.6</td>\n",
       "      <td>Wagon</td>\n",
       "      <td>2010</td>\n",
       "      <td>True</td>\n",
       "    </tr>\n",
       "  </tbody>\n",
       "</table>\n",
       "<p>643 rows × 10 columns</p>\n",
       "</div>"
      ],
      "text/plain": [
       "       Price                                               Desc  \\\n",
       "0     9999.0                     2010 Hyundai i30 SX Auto White   \n",
       "1     9999.0  2009 Hyundai i30 FD MY09 SX Red 5 Speed Manual...   \n",
       "2     9999.0  2008 Hyundai i30 FD SR White 4 Speed Automatic...   \n",
       "3     9995.0  2011 Hyundai i30 FD MY11 SX 1.6 CRDi Blue 5 Sp...   \n",
       "4     9995.0                                2010 Hyundai i30 SX   \n",
       "..       ...                                                ...   \n",
       "684  10898.0  2012 Hyundai i30 FD MY11 SLX Grey 4 Speed Auto...   \n",
       "685  10800.0  2013 Hyundai i30 GD Active White 6 Speed Manua...   \n",
       "686  10460.0  2012 Hyundai i30 FD MY12 Trophy White 5 Speed ...   \n",
       "687  10451.0  2012 Hyundai i30 FD MY12 Trophy Red 5 Speed Ma...   \n",
       "688  10000.0  2010 Hyundai i30 FD MY10 CW SX 1.6 CRDi Grey 4...   \n",
       "\n",
       "                   Loc     kms Transmision      engine  Engi  body type  Year  \\\n",
       "0     Greenslopes, QLD  102000        Auto  4 cyl 2.0L   2.0  Hatchback  2010   \n",
       "1        Invermay, TAS  132931      Manual  4 cyl 2.0L   2.0  Hatchback  2009   \n",
       "2    Victoria Park, WA  161000        Auto  4 cyl 2.0L   2.0  Hatchback  2008   \n",
       "3        Capalaba, QLD  177305      Manual  4 cyl 1.6L   1.6  Hatchback  2011   \n",
       "4        Moorooka, QLD  187703        Auto  4 cyl 1.6L   1.6  Hatchback  2010   \n",
       "..                 ...     ...         ...         ...   ...        ...   ...   \n",
       "684   Canning Vale, WA  155338        Auto  4 cyl 1.6L   1.6  Hatchback  2012   \n",
       "685   Minchinbury, NSW  199172      Manual  4 cyl 1.8L   1.8  Hatchback  2013   \n",
       "686     Traralgon, VIC  167201      Manual  4 cyl 2.0L   2.0  Hatchback  2012   \n",
       "687     Traralgon, VIC  105747      Manual  4 cyl 2.0L   2.0  Hatchback  2012   \n",
       "688     Coorparoo, QLD  133998        Auto  4 cyl 1.6L   1.6      Wagon  2010   \n",
       "\n",
       "     outliers  \n",
       "0        True  \n",
       "1        True  \n",
       "2        True  \n",
       "3        True  \n",
       "4        True  \n",
       "..        ...  \n",
       "684      True  \n",
       "685      True  \n",
       "686      True  \n",
       "687      True  \n",
       "688      True  \n",
       "\n",
       "[643 rows x 10 columns]"
      ]
     },
     "execution_count": 26,
     "metadata": {},
     "output_type": "execute_result"
    }
   ],
   "source": [
    "data"
   ]
  },
  {
   "cell_type": "code",
   "execution_count": 27,
   "id": "944be438",
   "metadata": {},
   "outputs": [],
   "source": [
    "data = data[data.outliers != False]"
   ]
  },
  {
   "cell_type": "code",
   "execution_count": 28,
   "id": "a0e7b220",
   "metadata": {},
   "outputs": [
    {
     "data": {
      "text/plain": [
       "(608, 10)"
      ]
     },
     "execution_count": 28,
     "metadata": {},
     "output_type": "execute_result"
    }
   ],
   "source": [
    "data.shape"
   ]
  },
  {
   "cell_type": "code",
   "execution_count": 29,
   "id": "3508ac24",
   "metadata": {},
   "outputs": [
    {
     "data": {
      "text/plain": [
       "<AxesSubplot:title={'center':'Price'}, xlabel='Engi'>"
      ]
     },
     "execution_count": 29,
     "metadata": {},
     "output_type": "execute_result"
    },
    {
     "data": {
      "image/png": "[encoded data removed]",
      "text/plain": [
       "<Figure size 432x288 with 1 Axes>"
      ]
     },
     "metadata": {
      "needs_background": "light"
     },
     "output_type": "display_data"
    }
   ],
   "source": [
    "data.boxplot(by='Engi',column= ['Price']) "
   ]
  },
  {
   "cell_type": "code",
   "execution_count": null,
   "id": "403f4c5c",
   "metadata": {},
   "outputs": [],
   "source": []
  },
  {
   "cell_type": "code",
   "execution_count": null,
   "id": "60928005",
   "metadata": {},
   "outputs": [],
   "source": []
  }
 ],
 "metadata": {
  "kernelspec": {
   "display_name": "Python 3 (ipykernel)",
   "language": "python",
   "name": "python3"
  },
  "language_info": {
   "codemirror_mode": {
    "name": "ipython",
    "version": 3
   },
   "file_extension": ".py",
   "mimetype": "text/x-python",
   "name": "python",
   "nbconvert_exporter": "python",
   "pygments_lexer": "ipython3",
   "version": "3.8.12"
  }
 },
 "nbformat": 4,
 "nbformat_minor": 5
}
