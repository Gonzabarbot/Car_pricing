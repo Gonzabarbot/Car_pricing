{
 "cells": [
  {
   "cell_type": "code",
   "execution_count": 59,
   "id": "7aa82c34",
   "metadata": {},
   "outputs": [],
   "source": [
    "import pandas as pd\n",
    "import numpy as np\n",
    "import regex as re\n",
    "import seaborn as sns\n",
    "import matplotlib.pyplot as plt"
   ]
  },
  {
   "cell_type": "code",
   "execution_count": 60,
   "id": "81108b81",
   "metadata": {},
   "outputs": [
    {
     "data": {
      "text/html": [
       "<div>\n",
       "<style scoped>\n",
       "    .dataframe tbody tr th:only-of-type {\n",
       "        vertical-align: middle;\n",
       "    }\n",
       "\n",
       "    .dataframe tbody tr th {\n",
       "        vertical-align: top;\n",
       "    }\n",
       "\n",
       "    .dataframe thead th {\n",
       "        text-align: right;\n",
       "    }\n",
       "</style>\n",
       "<table border=\"1\" class=\"dataframe\">\n",
       "  <thead>\n",
       "    <tr style=\"text-align: right;\">\n",
       "      <th></th>\n",
       "      <th>Price</th>\n",
       "      <th>Desc</th>\n",
       "      <th>Loc</th>\n",
       "      <th>kms</th>\n",
       "      <th>Transmision</th>\n",
       "      <th>engine</th>\n",
       "      <th>Engi</th>\n",
       "      <th>body type</th>\n",
       "      <th>Year</th>\n",
       "    </tr>\n",
       "  </thead>\n",
       "  <tbody>\n",
       "    <tr>\n",
       "      <th>0</th>\n",
       "      <td>$9,999</td>\n",
       "      <td>2010 Hyundai i30 SX Auto White</td>\n",
       "      <td>Greenslopes, QLD</td>\n",
       "      <td>102000</td>\n",
       "      <td>Auto</td>\n",
       "      <td>4 cyl 2.0L</td>\n",
       "      <td>2</td>\n",
       "      <td>Hatchback</td>\n",
       "      <td>2010</td>\n",
       "    </tr>\n",
       "    <tr>\n",
       "      <th>1</th>\n",
       "      <td>$9,999</td>\n",
       "      <td>2009 Hyundai i30 FD MY09 SX Red 5 Speed Manual...</td>\n",
       "      <td>Invermay, TAS</td>\n",
       "      <td>132931</td>\n",
       "      <td>Manual</td>\n",
       "      <td>4 cyl 2.0L</td>\n",
       "      <td>2</td>\n",
       "      <td>Hatchback</td>\n",
       "      <td>2009</td>\n",
       "    </tr>\n",
       "    <tr>\n",
       "      <th>2</th>\n",
       "      <td>$9,999</td>\n",
       "      <td>2008 Hyundai i30 FD SR White 4 Speed Automatic...</td>\n",
       "      <td>Victoria Park, WA</td>\n",
       "      <td>161000</td>\n",
       "      <td>Auto</td>\n",
       "      <td>4 cyl 2.0L</td>\n",
       "      <td>2</td>\n",
       "      <td>Hatchback</td>\n",
       "      <td>2008</td>\n",
       "    </tr>\n",
       "    <tr>\n",
       "      <th>3</th>\n",
       "      <td>$9,995</td>\n",
       "      <td>2011 Hyundai i30 FD MY11 SX 1.6 CRDi Blue 5 Sp...</td>\n",
       "      <td>Capalaba, QLD</td>\n",
       "      <td>177305</td>\n",
       "      <td>Manual</td>\n",
       "      <td>4 cyl 1.6L</td>\n",
       "      <td>1,6</td>\n",
       "      <td>Hatchback</td>\n",
       "      <td>2011</td>\n",
       "    </tr>\n",
       "    <tr>\n",
       "      <th>4</th>\n",
       "      <td>$9,995</td>\n",
       "      <td>2010 Hyundai i30 SX</td>\n",
       "      <td>Moorooka, QLD</td>\n",
       "      <td>187703</td>\n",
       "      <td>Auto</td>\n",
       "      <td>4 cyl 1.6L</td>\n",
       "      <td>1,6</td>\n",
       "      <td>Hatchback</td>\n",
       "      <td>2010</td>\n",
       "    </tr>\n",
       "  </tbody>\n",
       "</table>\n",
       "</div>"
      ],
      "text/plain": [
       "      Price                                               Desc  \\\n",
       "0   $9,999                      2010 Hyundai i30 SX Auto White   \n",
       "1   $9,999   2009 Hyundai i30 FD MY09 SX Red 5 Speed Manual...   \n",
       "2   $9,999   2008 Hyundai i30 FD SR White 4 Speed Automatic...   \n",
       "3   $9,995   2011 Hyundai i30 FD MY11 SX 1.6 CRDi Blue 5 Sp...   \n",
       "4   $9,995                                 2010 Hyundai i30 SX   \n",
       "\n",
       "                 Loc     kms Transmision      engine Engi  body type  Year  \n",
       "0   Greenslopes, QLD  102000        Auto  4 cyl 2.0L    2  Hatchback  2010  \n",
       "1      Invermay, TAS  132931      Manual  4 cyl 2.0L    2  Hatchback  2009  \n",
       "2  Victoria Park, WA  161000        Auto  4 cyl 2.0L    2  Hatchback  2008  \n",
       "3      Capalaba, QLD  177305      Manual  4 cyl 1.6L  1,6  Hatchback  2011  \n",
       "4      Moorooka, QLD  187703        Auto  4 cyl 1.6L  1,6  Hatchback  2010  "
      ]
     },
     "execution_count": 60,
     "metadata": {},
     "output_type": "execute_result"
    }
   ],
   "source": [
    "data = pd.read_csv('i30.csv')\n",
    "data.head(5)"
   ]
  },
  {
   "cell_type": "code",
   "execution_count": 61,
   "id": "dd96818c",
   "metadata": {},
   "outputs": [
    {
     "data": {
      "text/plain": [
       "(689, 9)"
      ]
     },
     "execution_count": 61,
     "metadata": {},
     "output_type": "execute_result"
    }
   ],
   "source": [
    "data.shape"
   ]
  },
  {
   "cell_type": "code",
   "execution_count": 62,
   "id": "6f5c1875",
   "metadata": {},
   "outputs": [
    {
     "data": {
      "text/plain": [
       "Index(['Price', 'Desc', 'Loc', 'kms', 'Transmision', 'engine', 'Engi',\n",
       "       'body type', 'Year'],\n",
       "      dtype='object')"
      ]
     },
     "execution_count": 62,
     "metadata": {},
     "output_type": "execute_result"
    }
   ],
   "source": [
    "data.columns"
   ]
  },
  {
   "cell_type": "code",
   "execution_count": 63,
   "id": "a9b362d2",
   "metadata": {},
   "outputs": [
    {
     "data": {
      "text/plain": [
       "Price          object\n",
       "Desc           object\n",
       "Loc            object\n",
       "kms             int64\n",
       "Transmision    object\n",
       "engine         object\n",
       "Engi           object\n",
       "body type      object\n",
       "Year           object\n",
       "dtype: object"
      ]
     },
     "execution_count": 63,
     "metadata": {},
     "output_type": "execute_result"
    }
   ],
   "source": [
    "data.dtypes"
   ]
  },
  {
   "cell_type": "markdown",
   "id": "7a01763c",
   "metadata": {},
   "source": [
    "### Data Cleansing\n",
    "\n",
    "---"
   ]
  },
  {
   "cell_type": "markdown",
   "id": "e8eb0a89",
   "metadata": {},
   "source": [
    "#### Price"
   ]
  },
  {
   "cell_type": "code",
   "execution_count": 64,
   "id": "d84c5bb7",
   "metadata": {},
   "outputs": [],
   "source": [
    "data['Price'] = data['Price'].str.replace('[A-Za-z]', '').str.replace('$', '')\n",
    "data['Price'] = data['Price'].str.replace('[A-Za-z]', '').str.replace(',', '')"
   ]
  },
  {
   "cell_type": "code",
   "execution_count": 65,
   "id": "1a445d8a",
   "metadata": {},
   "outputs": [],
   "source": [
    "data.Price = data.Price.astype(float)"
   ]
  },
  {
   "cell_type": "code",
   "execution_count": 66,
   "id": "8e8cc5a2",
   "metadata": {},
   "outputs": [
    {
     "data": {
      "text/plain": [
       "count      689.000000\n",
       "mean     23363.031930\n",
       "std      11742.092429\n",
       "min       4985.000000\n",
       "25%      14990.000000\n",
       "50%      21990.000000\n",
       "75%      28350.000000\n",
       "max      62990.000000\n",
       "Name: Price, dtype: float64"
      ]
     },
     "execution_count": 66,
     "metadata": {},
     "output_type": "execute_result"
    }
   ],
   "source": [
    "data.Price.describe()"
   ]
  },
  {
   "cell_type": "markdown",
   "id": "dcd46b40",
   "metadata": {},
   "source": [
    "#### Engi-Engine"
   ]
  },
  {
   "cell_type": "code",
   "execution_count": 67,
   "id": "74f56118",
   "metadata": {},
   "outputs": [],
   "source": [
    "data[\"Engi\"] = data['Engi'].str.replace('?', '')#.astype(float)\n",
    "data[\"Engi\"] = data['Engi'].str.replace(',', '.')#.astype(float)\n",
    "\n"
   ]
  },
  {
   "cell_type": "code",
   "execution_count": 68,
   "id": "8d527ec1",
   "metadata": {},
   "outputs": [],
   "source": [
    "data['Engi'].replace('', np.nan, inplace=True)"
   ]
  },
  {
   "cell_type": "code",
   "execution_count": 69,
   "id": "ce39b724",
   "metadata": {},
   "outputs": [],
   "source": [
    "data.dropna(inplace = True)"
   ]
  },
  {
   "cell_type": "code",
   "execution_count": 70,
   "id": "14d55485",
   "metadata": {},
   "outputs": [
    {
     "data": {
      "text/plain": [
       "2      340\n",
       "1.8    158\n",
       "1.6    145\n",
       "Name: Engi, dtype: int64"
      ]
     },
     "execution_count": 70,
     "metadata": {},
     "output_type": "execute_result"
    }
   ],
   "source": [
    "data.Engi.value_counts()"
   ]
  },
  {
   "cell_type": "code",
   "execution_count": 71,
   "id": "4dd76a35",
   "metadata": {},
   "outputs": [],
   "source": [
    "data.Engi = data.Engi.astype(float)"
   ]
  },
  {
   "cell_type": "code",
   "execution_count": 72,
   "id": "3ed0e0ca",
   "metadata": {},
   "outputs": [
    {
     "data": {
      "text/plain": [
       "4 cyl 2.0L    340\n",
       "4 cyl 1.8L    158\n",
       "4 cyl 1.6L    144\n",
       "1600            1\n",
       "Name: engine, dtype: int64"
      ]
     },
     "execution_count": 72,
     "metadata": {},
     "output_type": "execute_result"
    }
   ],
   "source": [
    "data.engine.value_counts()"
   ]
  },
  {
   "cell_type": "code",
   "execution_count": 73,
   "id": "5f01bd91",
   "metadata": {},
   "outputs": [],
   "source": [
    "# Engine has the same values that Engi, so we can drop the column\n",
    "data.drop(columns = 'engine' , inplace = True)"
   ]
  },
  {
   "cell_type": "markdown",
   "id": "2e6ddccc",
   "metadata": {},
   "source": [
    "#### Year"
   ]
  },
  {
   "cell_type": "code",
   "execution_count": 74,
   "id": "c288169a",
   "metadata": {},
   "outputs": [],
   "source": [
    "data[\"Year\"] = data['Year'].str.replace('?', '')#.astype(int)"
   ]
  },
  {
   "cell_type": "code",
   "execution_count": 75,
   "id": "494f0ed3",
   "metadata": {},
   "outputs": [],
   "source": [
    "#Drop values with 0 in year column\n",
    "data['Year'].replace('', np.nan, inplace=True)"
   ]
  },
  {
   "cell_type": "code",
   "execution_count": 76,
   "id": "e5e0d9ca",
   "metadata": {},
   "outputs": [],
   "source": [
    "data.dropna(inplace = True)"
   ]
  },
  {
   "cell_type": "code",
   "execution_count": 77,
   "id": "8cb83bd5",
   "metadata": {},
   "outputs": [],
   "source": [
    "data.Year = data.Year.astype(int)"
   ]
  },
  {
   "cell_type": "code",
   "execution_count": 78,
   "id": "a46c6f0f",
   "metadata": {},
   "outputs": [
    {
     "data": {
      "text/plain": [
       "2018    89\n",
       "2021    64\n",
       "2019    63\n",
       "2020    60\n",
       "2017    50\n",
       "2015    47\n",
       "2014    42\n",
       "2013    40\n",
       "2012    40\n",
       "2009    35\n",
       "2016    30\n",
       "2022    27\n",
       "2011    19\n",
       "2010    16\n",
       "2008    13\n",
       "Name: Year, dtype: int64"
      ]
     },
     "execution_count": 78,
     "metadata": {},
     "output_type": "execute_result"
    }
   ],
   "source": [
    "data.Year.value_counts()"
   ]
  },
  {
   "cell_type": "code",
   "execution_count": 79,
   "id": "f90e613e",
   "metadata": {},
   "outputs": [],
   "source": [
    "data = data[data.Year>2011]"
   ]
  },
  {
   "cell_type": "markdown",
   "id": "a5283299",
   "metadata": {},
   "source": [
    "#### Body Type"
   ]
  },
  {
   "cell_type": "code",
   "execution_count": 20,
   "id": "3f949cd4",
   "metadata": {},
   "outputs": [
    {
     "data": {
      "text/plain": [
       "Hatchback         561\n",
       "Wagon              38\n",
       "Sedan              32\n",
       "Coupe (2 door)      4\n",
       "Name: body type, dtype: int64"
      ]
     },
     "execution_count": 20,
     "metadata": {},
     "output_type": "execute_result"
    }
   ],
   "source": [
    "data['body type'].value_counts()"
   ]
  },
  {
   "cell_type": "code",
   "execution_count": 82,
   "id": "65ceeae5",
   "metadata": {},
   "outputs": [],
   "source": [
    "data = data[data['body type']!= 'Coupe (2 door)']"
   ]
  },
  {
   "cell_type": "code",
   "execution_count": null,
   "id": "00392879",
   "metadata": {},
   "outputs": [],
   "source": []
  },
  {
   "cell_type": "code",
   "execution_count": 83,
   "id": "6a31a249",
   "metadata": {},
   "outputs": [
    {
     "data": {
      "text/plain": [
       "Price          float64\n",
       "Desc            object\n",
       "Loc             object\n",
       "kms              int64\n",
       "Transmision     object\n",
       "Engi           float64\n",
       "body type       object\n",
       "Year             int32\n",
       "dtype: object"
      ]
     },
     "execution_count": 83,
     "metadata": {},
     "output_type": "execute_result"
    }
   ],
   "source": [
    "data.dtypes"
   ]
  },
  {
   "cell_type": "code",
   "execution_count": 84,
   "id": "ea2bf0f5",
   "metadata": {},
   "outputs": [
    {
     "data": {
      "text/plain": [
       "(548, 8)"
      ]
     },
     "execution_count": 84,
     "metadata": {},
     "output_type": "execute_result"
    }
   ],
   "source": [
    "data.shape"
   ]
  },
  {
   "cell_type": "markdown",
   "id": "97ea35ce",
   "metadata": {},
   "source": [
    "### Outliers Analysis\n",
    "\n",
    "---"
   ]
  },
  {
   "cell_type": "code",
   "execution_count": 23,
   "id": "a15fedc6",
   "metadata": {},
   "outputs": [],
   "source": [
    "data_price = data.groupby(['Engi'])[['Price']]"
   ]
  },
  {
   "cell_type": "code",
   "execution_count": 24,
   "id": "879633d1",
   "metadata": {},
   "outputs": [
    {
     "data": {
      "text/html": [
       "<div>\n",
       "<style scoped>\n",
       "    .dataframe tbody tr th:only-of-type {\n",
       "        vertical-align: middle;\n",
       "    }\n",
       "\n",
       "    .dataframe tbody tr th {\n",
       "        vertical-align: top;\n",
       "    }\n",
       "\n",
       "    .dataframe thead tr th {\n",
       "        text-align: left;\n",
       "    }\n",
       "\n",
       "    .dataframe thead tr:last-of-type th {\n",
       "        text-align: right;\n",
       "    }\n",
       "</style>\n",
       "<table border=\"1\" class=\"dataframe\">\n",
       "  <thead>\n",
       "    <tr>\n",
       "      <th></th>\n",
       "      <th colspan=\"8\" halign=\"left\">Price</th>\n",
       "    </tr>\n",
       "    <tr>\n",
       "      <th></th>\n",
       "      <th>count</th>\n",
       "      <th>mean</th>\n",
       "      <th>std</th>\n",
       "      <th>min</th>\n",
       "      <th>25%</th>\n",
       "      <th>50%</th>\n",
       "      <th>75%</th>\n",
       "      <th>max</th>\n",
       "    </tr>\n",
       "    <tr>\n",
       "      <th>Engi</th>\n",
       "      <th></th>\n",
       "      <th></th>\n",
       "      <th></th>\n",
       "      <th></th>\n",
       "      <th></th>\n",
       "      <th></th>\n",
       "      <th></th>\n",
       "      <th></th>\n",
       "    </tr>\n",
       "  </thead>\n",
       "  <tbody>\n",
       "    <tr>\n",
       "      <th>1.6</th>\n",
       "      <td>142.0</td>\n",
       "      <td>25649.978873</td>\n",
       "      <td>11978.367987</td>\n",
       "      <td>4990.0</td>\n",
       "      <td>13243.75</td>\n",
       "      <td>29489.5</td>\n",
       "      <td>35415.0</td>\n",
       "      <td>55750.0</td>\n",
       "    </tr>\n",
       "    <tr>\n",
       "      <th>1.8</th>\n",
       "      <td>155.0</td>\n",
       "      <td>16902.000000</td>\n",
       "      <td>3177.299750</td>\n",
       "      <td>7690.0</td>\n",
       "      <td>14990.00</td>\n",
       "      <td>16999.0</td>\n",
       "      <td>18990.0</td>\n",
       "      <td>23990.0</td>\n",
       "    </tr>\n",
       "    <tr>\n",
       "      <th>2.0</th>\n",
       "      <td>338.0</td>\n",
       "      <td>26118.423077</td>\n",
       "      <td>12755.471005</td>\n",
       "      <td>4985.0</td>\n",
       "      <td>19487.00</td>\n",
       "      <td>24950.0</td>\n",
       "      <td>29490.0</td>\n",
       "      <td>62990.0</td>\n",
       "    </tr>\n",
       "  </tbody>\n",
       "</table>\n",
       "</div>"
      ],
      "text/plain": [
       "      Price                                                                  \\\n",
       "      count          mean           std     min       25%      50%      75%   \n",
       "Engi                                                                          \n",
       "1.6   142.0  25649.978873  11978.367987  4990.0  13243.75  29489.5  35415.0   \n",
       "1.8   155.0  16902.000000   3177.299750  7690.0  14990.00  16999.0  18990.0   \n",
       "2.0   338.0  26118.423077  12755.471005  4985.0  19487.00  24950.0  29490.0   \n",
       "\n",
       "               \n",
       "          max  \n",
       "Engi           \n",
       "1.6   55750.0  \n",
       "1.8   23990.0  \n",
       "2.0   62990.0  "
      ]
     },
     "execution_count": 24,
     "metadata": {},
     "output_type": "execute_result"
    }
   ],
   "source": [
    "data_price.describe()"
   ]
  },
  {
   "cell_type": "code",
   "execution_count": 25,
   "id": "3e7c6518",
   "metadata": {},
   "outputs": [
    {
     "name": "stdout",
     "output_type": "stream",
     "text": [
      "         Price\n",
      "Engi          \n",
      "1.6   13243.75\n",
      "1.8   14990.00\n",
      "2.0   19487.00\n",
      "        Price\n",
      "Engi         \n",
      "1.6   29489.5\n",
      "1.8   16999.0\n",
      "2.0   24950.0\n",
      "        Price\n",
      "Engi         \n",
      "1.6   35415.0\n",
      "1.8   18990.0\n",
      "2.0   29490.0\n"
     ]
    }
   ],
   "source": [
    "q1 = data_price.quantile(0.25)\n",
    "print(q1)\n",
    "q2 = data_price.quantile(0.5)\n",
    "print(q2)\n",
    "q3 = data_price.quantile(0.75)\n",
    "print(q3)"
   ]
  },
  {
   "cell_type": "code",
   "execution_count": 26,
   "id": "7056faf0",
   "metadata": {},
   "outputs": [
    {
     "name": "stdout",
     "output_type": "stream",
     "text": [
      "          Price\n",
      "Engi           \n",
      "1.6   68671.875\n",
      "1.8   24990.000\n",
      "2.0   44494.500\n",
      "          Price\n",
      "Engi           \n",
      "1.6  -20013.125\n",
      "1.8    8990.000\n",
      "2.0    4482.500\n"
     ]
    }
   ],
   "source": [
    "#Se calculan los valores límites a partir de los cuales se delimitarán los valores outliers\n",
    "iqr = (q3 - q1) * 1.5\n",
    "\n",
    "up_threshold = q3 + iqr\n",
    "low_threshold = q1 - iqr\n",
    "\n",
    "print(up_threshold)\n",
    "print(low_threshold)"
   ]
  },
  {
   "cell_type": "code",
   "execution_count": 27,
   "id": "7baaa408",
   "metadata": {},
   "outputs": [],
   "source": [
    "data[\"outliers\"] = data.groupby(\"Engi\")[\"Price\"].transform(lambda grp:  (grp < up_threshold['Price'][grp.name]))\n"
   ]
  },
  {
   "cell_type": "code",
   "execution_count": 28,
   "id": "0a6b26a0",
   "metadata": {},
   "outputs": [
    {
     "data": {
      "image/png": "[encoded data removed]",
      "text/plain": [
       "<Figure size 432x288 with 1 Axes>"
      ]
     },
     "metadata": {
      "needs_background": "light"
     },
     "output_type": "display_data"
    }
   ],
   "source": [
    "fig = data.boxplot(by='Engi',column= ['Price']) "
   ]
  },
  {
   "cell_type": "code",
   "execution_count": 29,
   "id": "8cc87313",
   "metadata": {},
   "outputs": [
    {
     "data": {
      "text/html": [
       "<div>\n",
       "<style scoped>\n",
       "    .dataframe tbody tr th:only-of-type {\n",
       "        vertical-align: middle;\n",
       "    }\n",
       "\n",
       "    .dataframe tbody tr th {\n",
       "        vertical-align: top;\n",
       "    }\n",
       "\n",
       "    .dataframe thead th {\n",
       "        text-align: right;\n",
       "    }\n",
       "</style>\n",
       "<table border=\"1\" class=\"dataframe\">\n",
       "  <thead>\n",
       "    <tr style=\"text-align: right;\">\n",
       "      <th></th>\n",
       "      <th>Price</th>\n",
       "      <th>Desc</th>\n",
       "      <th>Loc</th>\n",
       "      <th>kms</th>\n",
       "      <th>Transmision</th>\n",
       "      <th>Engi</th>\n",
       "      <th>body type</th>\n",
       "      <th>Year</th>\n",
       "      <th>outliers</th>\n",
       "    </tr>\n",
       "  </thead>\n",
       "  <tbody>\n",
       "    <tr>\n",
       "      <th>0</th>\n",
       "      <td>9999.0</td>\n",
       "      <td>2010 Hyundai i30 SX Auto White</td>\n",
       "      <td>Greenslopes, QLD</td>\n",
       "      <td>102000</td>\n",
       "      <td>Auto</td>\n",
       "      <td>2.0</td>\n",
       "      <td>Hatchback</td>\n",
       "      <td>2010</td>\n",
       "      <td>True</td>\n",
       "    </tr>\n",
       "    <tr>\n",
       "      <th>1</th>\n",
       "      <td>9999.0</td>\n",
       "      <td>2009 Hyundai i30 FD MY09 SX Red 5 Speed Manual...</td>\n",
       "      <td>Invermay, TAS</td>\n",
       "      <td>132931</td>\n",
       "      <td>Manual</td>\n",
       "      <td>2.0</td>\n",
       "      <td>Hatchback</td>\n",
       "      <td>2009</td>\n",
       "      <td>True</td>\n",
       "    </tr>\n",
       "    <tr>\n",
       "      <th>2</th>\n",
       "      <td>9999.0</td>\n",
       "      <td>2008 Hyundai i30 FD SR White 4 Speed Automatic...</td>\n",
       "      <td>Victoria Park, WA</td>\n",
       "      <td>161000</td>\n",
       "      <td>Auto</td>\n",
       "      <td>2.0</td>\n",
       "      <td>Hatchback</td>\n",
       "      <td>2008</td>\n",
       "      <td>True</td>\n",
       "    </tr>\n",
       "    <tr>\n",
       "      <th>3</th>\n",
       "      <td>9995.0</td>\n",
       "      <td>2011 Hyundai i30 FD MY11 SX 1.6 CRDi Blue 5 Sp...</td>\n",
       "      <td>Capalaba, QLD</td>\n",
       "      <td>177305</td>\n",
       "      <td>Manual</td>\n",
       "      <td>1.6</td>\n",
       "      <td>Hatchback</td>\n",
       "      <td>2011</td>\n",
       "      <td>True</td>\n",
       "    </tr>\n",
       "    <tr>\n",
       "      <th>4</th>\n",
       "      <td>9995.0</td>\n",
       "      <td>2010 Hyundai i30 SX</td>\n",
       "      <td>Moorooka, QLD</td>\n",
       "      <td>187703</td>\n",
       "      <td>Auto</td>\n",
       "      <td>1.6</td>\n",
       "      <td>Hatchback</td>\n",
       "      <td>2010</td>\n",
       "      <td>True</td>\n",
       "    </tr>\n",
       "  </tbody>\n",
       "</table>\n",
       "</div>"
      ],
      "text/plain": [
       "    Price                                               Desc  \\\n",
       "0  9999.0                     2010 Hyundai i30 SX Auto White   \n",
       "1  9999.0  2009 Hyundai i30 FD MY09 SX Red 5 Speed Manual...   \n",
       "2  9999.0  2008 Hyundai i30 FD SR White 4 Speed Automatic...   \n",
       "3  9995.0  2011 Hyundai i30 FD MY11 SX 1.6 CRDi Blue 5 Sp...   \n",
       "4  9995.0                                2010 Hyundai i30 SX   \n",
       "\n",
       "                 Loc     kms Transmision  Engi  body type  Year  outliers  \n",
       "0   Greenslopes, QLD  102000        Auto   2.0  Hatchback  2010      True  \n",
       "1      Invermay, TAS  132931      Manual   2.0  Hatchback  2009      True  \n",
       "2  Victoria Park, WA  161000        Auto   2.0  Hatchback  2008      True  \n",
       "3      Capalaba, QLD  177305      Manual   1.6  Hatchback  2011      True  \n",
       "4      Moorooka, QLD  187703        Auto   1.6  Hatchback  2010      True  "
      ]
     },
     "execution_count": 29,
     "metadata": {},
     "output_type": "execute_result"
    }
   ],
   "source": [
    "data.head()"
   ]
  },
  {
   "cell_type": "code",
   "execution_count": 30,
   "id": "8bf7b945",
   "metadata": {},
   "outputs": [
    {
     "data": {
      "text/plain": [
       "(635, 9)"
      ]
     },
     "execution_count": 30,
     "metadata": {},
     "output_type": "execute_result"
    }
   ],
   "source": [
    "data.shape"
   ]
  },
  {
   "cell_type": "code",
   "execution_count": 31,
   "id": "9081aeed",
   "metadata": {},
   "outputs": [],
   "source": [
    "data = data[data.outliers != False]"
   ]
  },
  {
   "cell_type": "code",
   "execution_count": 32,
   "id": "317574c6",
   "metadata": {},
   "outputs": [
    {
     "data": {
      "text/plain": [
       "(598, 9)"
      ]
     },
     "execution_count": 32,
     "metadata": {},
     "output_type": "execute_result"
    }
   ],
   "source": [
    "#Checking that the outliers have been deleted\n",
    "data.shape"
   ]
  },
  {
   "cell_type": "code",
   "execution_count": 33,
   "id": "29338ded",
   "metadata": {},
   "outputs": [
    {
     "data": {
      "text/plain": [
       "<AxesSubplot:title={'center':'Price'}, xlabel='Engi'>"
      ]
     },
     "execution_count": 33,
     "metadata": {},
     "output_type": "execute_result"
    },
    {
     "data": {
      "image/png": "[encoded data removed]",
      "text/plain": [
       "<Figure size 432x288 with 1 Axes>"
      ]
     },
     "metadata": {
      "needs_background": "light"
     },
     "output_type": "display_data"
    }
   ],
   "source": [
    "data.boxplot(by='Engi',column= ['Price']) "
   ]
  },
  {
   "cell_type": "code",
   "execution_count": 35,
   "id": "73a171c5",
   "metadata": {},
   "outputs": [],
   "source": [
    "#Dummies creation of Year variable \n",
    "\n",
    "data = pd.get_dummies(data,columns=['Year'],drop_first=True)"
   ]
  },
  {
   "cell_type": "code",
   "execution_count": 36,
   "id": "564350ee",
   "metadata": {},
   "outputs": [],
   "source": [
    "#Dummies creation of Transmision variable \n",
    "data = pd.get_dummies(data,columns=['Transmision'],drop_first=True)\n"
   ]
  },
  {
   "cell_type": "code",
   "execution_count": 37,
   "id": "eb4fdc9d",
   "metadata": {},
   "outputs": [],
   "source": [
    "#Dummies creation of Body type variable \n",
    "data = pd.get_dummies(data,columns=['body type'],drop_first=True)"
   ]
  },
  {
   "cell_type": "code",
   "execution_count": 38,
   "id": "79971909",
   "metadata": {},
   "outputs": [],
   "source": [
    "#Dummies creation of Engi type variable \n",
    "data = pd.get_dummies(data,columns=['Engi'],drop_first=True)"
   ]
  },
  {
   "cell_type": "markdown",
   "id": "1a11a984",
   "metadata": {},
   "source": [
    "### Machine Learning\n",
    "\n",
    "---"
   ]
  },
  {
   "cell_type": "code",
   "execution_count": 39,
   "id": "d006dc79",
   "metadata": {},
   "outputs": [
    {
     "data": {
      "image/png": "[encoded data removed]",
      "text/plain": [
       "<Figure size 432x288 with 1 Axes>"
      ]
     },
     "metadata": {
      "needs_background": "light"
     },
     "output_type": "display_data"
    }
   ],
   "source": [
    "#Template of linear regression\n",
    "g=sns.regplot(data = data, x = \"kms\", y = \"Price\", \n",
    "            ci = 95,\n",
    "            scatter_kws = {\"color\": \"blue\", 's': 10},\n",
    "            line_kws = {\"color\": \"red\"});"
   ]
  },
  {
   "cell_type": "code",
   "execution_count": 40,
   "id": "9a46439f",
   "metadata": {},
   "outputs": [],
   "source": [
    "from sklearn.model_selection import train_test_split\n",
    "import statsmodels.api as sm"
   ]
  },
  {
   "cell_type": "code",
   "execution_count": 41,
   "id": "5bc4207c",
   "metadata": {},
   "outputs": [
    {
     "data": {
      "text/plain": [
       "Index(['Price', 'Desc', 'Loc', 'kms', 'outliers', 'Year_2009', 'Year_2010',\n",
       "       'Year_2011', 'Year_2012', 'Year_2013', 'Year_2014', 'Year_2015',\n",
       "       'Year_2016', 'Year_2017', 'Year_2018', 'Year_2019', 'Year_2020',\n",
       "       'Year_2021', 'Year_2022', 'Transmision_Manual', 'body type_Hatchback',\n",
       "       'body type_Sedan', 'body type_Wagon', 'Engi_1.8', 'Engi_2.0'],\n",
       "      dtype='object')"
      ]
     },
     "execution_count": 41,
     "metadata": {},
     "output_type": "execute_result"
    }
   ],
   "source": [
    "data.columns"
   ]
  },
  {
   "cell_type": "code",
   "execution_count": 42,
   "id": "c588c910",
   "metadata": {},
   "outputs": [],
   "source": [
    "X = data.drop(['Price','Loc','Desc','outliers'], axis=1)\n",
    "y = data['Price']"
   ]
  },
  {
   "cell_type": "code",
   "execution_count": 43,
   "id": "799b5fe3",
   "metadata": {},
   "outputs": [
    {
     "data": {
      "text/plain": [
       "Index(['kms', 'Year_2009', 'Year_2010', 'Year_2011', 'Year_2012', 'Year_2013',\n",
       "       'Year_2014', 'Year_2015', 'Year_2016', 'Year_2017', 'Year_2018',\n",
       "       'Year_2019', 'Year_2020', 'Year_2021', 'Year_2022',\n",
       "       'Transmision_Manual', 'body type_Hatchback', 'body type_Sedan',\n",
       "       'body type_Wagon', 'Engi_1.8', 'Engi_2.0'],\n",
       "      dtype='object')"
      ]
     },
     "execution_count": 43,
     "metadata": {},
     "output_type": "execute_result"
    }
   ],
   "source": [
    "X.columns"
   ]
  },
  {
   "cell_type": "code",
   "execution_count": 44,
   "id": "6f7d4d1b",
   "metadata": {},
   "outputs": [
    {
     "data": {
      "text/plain": [
       "(598, 21)"
      ]
     },
     "execution_count": 44,
     "metadata": {},
     "output_type": "execute_result"
    }
   ],
   "source": [
    "X.shape"
   ]
  },
  {
   "cell_type": "code",
   "execution_count": 45,
   "id": "d37c93ce",
   "metadata": {},
   "outputs": [],
   "source": [
    "# Tenemos que agregar explícitamente a una constante:\n",
    "X = sm.add_constant(X)\n",
    "\n",
    "X_train, X_test, y_train, y_test = train_test_split(X, y, random_state=123)\n"
   ]
  },
  {
   "cell_type": "code",
   "execution_count": 46,
   "id": "458da54b",
   "metadata": {},
   "outputs": [],
   "source": [
    "model = sm.OLS(y, X).fit()"
   ]
  },
  {
   "cell_type": "code",
   "execution_count": 47,
   "id": "dd3fb435",
   "metadata": {},
   "outputs": [],
   "source": [
    "y_pred = model.predict(X_test)"
   ]
  },
  {
   "cell_type": "code",
   "execution_count": 48,
   "id": "ee1772df",
   "metadata": {},
   "outputs": [
    {
     "data": {
      "image/png": "[encoded data removed]",
      "text/plain": [
       "<Figure size 432x288 with 1 Axes>"
      ]
     },
     "metadata": {
      "needs_background": "light"
     },
     "output_type": "display_data"
    }
   ],
   "source": [
    "plt.plot(y_test,y_test, '.',c='black')\n",
    "plt.scatter(y_pred, y_test, s=30, c='r', marker='+', zorder=50)\n",
    "plt.xlabel(\"Predictions\")\n",
    "plt.ylabel(\"Real values\")\n",
    "plt.title('Real values vs Prediction')\n",
    "plt.show()"
   ]
  },
  {
   "cell_type": "code",
   "execution_count": 49,
   "id": "a793313f",
   "metadata": {},
   "outputs": [
    {
     "data": {
      "text/html": [
       "<table class=\"simpletable\">\n",
       "<caption>OLS Regression Results</caption>\n",
       "<tr>\n",
       "  <th>Dep. Variable:</th>          <td>Price</td>      <th>  R-squared:         </th> <td>   0.832</td> \n",
       "</tr>\n",
       "<tr>\n",
       "  <th>Model:</th>                   <td>OLS</td>       <th>  Adj. R-squared:    </th> <td>   0.826</td> \n",
       "</tr>\n",
       "<tr>\n",
       "  <th>Method:</th>             <td>Least Squares</td>  <th>  F-statistic:       </th> <td>   135.9</td> \n",
       "</tr>\n",
       "<tr>\n",
       "  <th>Date:</th>             <td>Tue, 28 Jun 2022</td> <th>  Prob (F-statistic):</th> <td>2.89e-207</td>\n",
       "</tr>\n",
       "<tr>\n",
       "  <th>Time:</th>                 <td>12:06:20</td>     <th>  Log-Likelihood:    </th> <td> -5774.7</td> \n",
       "</tr>\n",
       "<tr>\n",
       "  <th>No. Observations:</th>      <td>   598</td>      <th>  AIC:               </th> <td>1.159e+04</td>\n",
       "</tr>\n",
       "<tr>\n",
       "  <th>Df Residuals:</th>          <td>   576</td>      <th>  BIC:               </th> <td>1.169e+04</td>\n",
       "</tr>\n",
       "<tr>\n",
       "  <th>Df Model:</th>              <td>    21</td>      <th>                     </th>     <td> </td>    \n",
       "</tr>\n",
       "<tr>\n",
       "  <th>Covariance Type:</th>      <td>nonrobust</td>    <th>                     </th>     <td> </td>    \n",
       "</tr>\n",
       "</table>\n",
       "<table class=\"simpletable\">\n",
       "<tr>\n",
       "           <td></td>              <th>coef</th>     <th>std err</th>      <th>t</th>      <th>P>|t|</th>  <th>[0.025</th>    <th>0.975]</th>  \n",
       "</tr>\n",
       "<tr>\n",
       "  <th>const</th>               <td> 3.304e+04</td> <td> 4124.400</td> <td>    8.012</td> <td> 0.000</td> <td> 2.49e+04</td> <td> 4.11e+04</td>\n",
       "</tr>\n",
       "<tr>\n",
       "  <th>kms</th>                 <td>   -0.0558</td> <td>    0.004</td> <td>  -12.528</td> <td> 0.000</td> <td>   -0.064</td> <td>   -0.047</td>\n",
       "</tr>\n",
       "<tr>\n",
       "  <th>Year_2009</th>           <td> 1442.5702</td> <td> 1286.205</td> <td>    1.122</td> <td> 0.263</td> <td>-1083.654</td> <td> 3968.795</td>\n",
       "</tr>\n",
       "<tr>\n",
       "  <th>Year_2010</th>           <td>  847.7669</td> <td> 1507.323</td> <td>    0.562</td> <td> 0.574</td> <td>-2112.753</td> <td> 3808.287</td>\n",
       "</tr>\n",
       "<tr>\n",
       "  <th>Year_2011</th>           <td>  999.3160</td> <td> 1439.930</td> <td>    0.694</td> <td> 0.488</td> <td>-1828.838</td> <td> 3827.470</td>\n",
       "</tr>\n",
       "<tr>\n",
       "  <th>Year_2012</th>           <td> 3150.9148</td> <td> 1283.465</td> <td>    2.455</td> <td> 0.014</td> <td>  630.072</td> <td> 5671.758</td>\n",
       "</tr>\n",
       "<tr>\n",
       "  <th>Year_2013</th>           <td> 3490.9566</td> <td> 1350.217</td> <td>    2.585</td> <td> 0.010</td> <td>  839.008</td> <td> 6142.905</td>\n",
       "</tr>\n",
       "<tr>\n",
       "  <th>Year_2014</th>           <td> 4645.4202</td> <td> 1432.804</td> <td>    3.242</td> <td> 0.001</td> <td> 1831.263</td> <td> 7459.578</td>\n",
       "</tr>\n",
       "<tr>\n",
       "  <th>Year_2015</th>           <td> 5679.6854</td> <td> 1384.971</td> <td>    4.101</td> <td> 0.000</td> <td> 2959.477</td> <td> 8399.894</td>\n",
       "</tr>\n",
       "<tr>\n",
       "  <th>Year_2016</th>           <td> 6180.3151</td> <td> 1465.727</td> <td>    4.217</td> <td> 0.000</td> <td> 3301.494</td> <td> 9059.137</td>\n",
       "</tr>\n",
       "<tr>\n",
       "  <th>Year_2017</th>           <td> 9184.2316</td> <td> 1290.064</td> <td>    7.119</td> <td> 0.000</td> <td> 6650.429</td> <td> 1.17e+04</td>\n",
       "</tr>\n",
       "<tr>\n",
       "  <th>Year_2018</th>           <td> 1.288e+04</td> <td> 1283.162</td> <td>   10.039</td> <td> 0.000</td> <td> 1.04e+04</td> <td> 1.54e+04</td>\n",
       "</tr>\n",
       "<tr>\n",
       "  <th>Year_2019</th>           <td> 1.364e+04</td> <td> 1334.656</td> <td>   10.218</td> <td> 0.000</td> <td>  1.1e+04</td> <td> 1.63e+04</td>\n",
       "</tr>\n",
       "<tr>\n",
       "  <th>Year_2020</th>           <td> 1.342e+04</td> <td> 1382.396</td> <td>    9.705</td> <td> 0.000</td> <td> 1.07e+04</td> <td> 1.61e+04</td>\n",
       "</tr>\n",
       "<tr>\n",
       "  <th>Year_2021</th>           <td> 1.511e+04</td> <td> 1440.219</td> <td>   10.494</td> <td> 0.000</td> <td> 1.23e+04</td> <td> 1.79e+04</td>\n",
       "</tr>\n",
       "<tr>\n",
       "  <th>Year_2022</th>           <td>  1.38e+04</td> <td> 1606.988</td> <td>    8.589</td> <td> 0.000</td> <td> 1.06e+04</td> <td>  1.7e+04</td>\n",
       "</tr>\n",
       "<tr>\n",
       "  <th>Transmision_Manual</th>  <td> 2734.0731</td> <td>  446.396</td> <td>    6.125</td> <td> 0.000</td> <td> 1857.311</td> <td> 3610.835</td>\n",
       "</tr>\n",
       "<tr>\n",
       "  <th>body type_Hatchback</th> <td>-1.246e+04</td> <td> 3908.805</td> <td>   -3.187</td> <td> 0.002</td> <td>-2.01e+04</td> <td>-4778.839</td>\n",
       "</tr>\n",
       "<tr>\n",
       "  <th>body type_Sedan</th>     <td>-6253.5575</td> <td> 4040.787</td> <td>   -1.548</td> <td> 0.122</td> <td>-1.42e+04</td> <td> 1682.917</td>\n",
       "</tr>\n",
       "<tr>\n",
       "  <th>body type_Wagon</th>     <td>-1.325e+04</td> <td> 3993.955</td> <td>   -3.317</td> <td> 0.001</td> <td>-2.11e+04</td> <td>-5403.002</td>\n",
       "</tr>\n",
       "<tr>\n",
       "  <th>Engi_1.8</th>            <td>-3733.8968</td> <td>  684.667</td> <td>   -5.454</td> <td> 0.000</td> <td>-5078.645</td> <td>-2389.148</td>\n",
       "</tr>\n",
       "<tr>\n",
       "  <th>Engi_2.0</th>            <td>-4649.5593</td> <td>  411.006</td> <td>  -11.313</td> <td> 0.000</td> <td>-5456.812</td> <td>-3842.306</td>\n",
       "</tr>\n",
       "</table>\n",
       "<table class=\"simpletable\">\n",
       "<tr>\n",
       "  <th>Omnibus:</th>       <td>130.001</td> <th>  Durbin-Watson:     </th> <td>   1.172</td>\n",
       "</tr>\n",
       "<tr>\n",
       "  <th>Prob(Omnibus):</th> <td> 0.000</td>  <th>  Jarque-Bera (JB):  </th> <td> 297.722</td>\n",
       "</tr>\n",
       "<tr>\n",
       "  <th>Skew:</th>          <td> 1.142</td>  <th>  Prob(JB):          </th> <td>2.24e-65</td>\n",
       "</tr>\n",
       "<tr>\n",
       "  <th>Kurtosis:</th>      <td> 5.594</td>  <th>  Cond. No.          </th> <td>5.07e+06</td>\n",
       "</tr>\n",
       "</table><br/><br/>Notes:<br/>[1] Standard Errors assume that the covariance matrix of the errors is correctly specified.<br/>[2] The condition number is large, 5.07e+06. This might indicate that there are<br/>strong multicollinearity or other numerical problems."
      ],
      "text/plain": [
       "<class 'statsmodels.iolib.summary.Summary'>\n",
       "\"\"\"\n",
       "                            OLS Regression Results                            \n",
       "==============================================================================\n",
       "Dep. Variable:                  Price   R-squared:                       0.832\n",
       "Model:                            OLS   Adj. R-squared:                  0.826\n",
       "Method:                 Least Squares   F-statistic:                     135.9\n",
       "Date:                Tue, 28 Jun 2022   Prob (F-statistic):          2.89e-207\n",
       "Time:                        12:06:20   Log-Likelihood:                -5774.7\n",
       "No. Observations:                 598   AIC:                         1.159e+04\n",
       "Df Residuals:                     576   BIC:                         1.169e+04\n",
       "Df Model:                          21                                         \n",
       "Covariance Type:            nonrobust                                         \n",
       "=======================================================================================\n",
       "                          coef    std err          t      P>|t|      [0.025      0.975]\n",
       "---------------------------------------------------------------------------------------\n",
       "const                3.304e+04   4124.400      8.012      0.000    2.49e+04    4.11e+04\n",
       "kms                    -0.0558      0.004    -12.528      0.000      -0.064      -0.047\n",
       "Year_2009            1442.5702   1286.205      1.122      0.263   -1083.654    3968.795\n",
       "Year_2010             847.7669   1507.323      0.562      0.574   -2112.753    3808.287\n",
       "Year_2011             999.3160   1439.930      0.694      0.488   -1828.838    3827.470\n",
       "Year_2012            3150.9148   1283.465      2.455      0.014     630.072    5671.758\n",
       "Year_2013            3490.9566   1350.217      2.585      0.010     839.008    6142.905\n",
       "Year_2014            4645.4202   1432.804      3.242      0.001    1831.263    7459.578\n",
       "Year_2015            5679.6854   1384.971      4.101      0.000    2959.477    8399.894\n",
       "Year_2016            6180.3151   1465.727      4.217      0.000    3301.494    9059.137\n",
       "Year_2017            9184.2316   1290.064      7.119      0.000    6650.429    1.17e+04\n",
       "Year_2018            1.288e+04   1283.162     10.039      0.000    1.04e+04    1.54e+04\n",
       "Year_2019            1.364e+04   1334.656     10.218      0.000     1.1e+04    1.63e+04\n",
       "Year_2020            1.342e+04   1382.396      9.705      0.000    1.07e+04    1.61e+04\n",
       "Year_2021            1.511e+04   1440.219     10.494      0.000    1.23e+04    1.79e+04\n",
       "Year_2022             1.38e+04   1606.988      8.589      0.000    1.06e+04     1.7e+04\n",
       "Transmision_Manual   2734.0731    446.396      6.125      0.000    1857.311    3610.835\n",
       "body type_Hatchback -1.246e+04   3908.805     -3.187      0.002   -2.01e+04   -4778.839\n",
       "body type_Sedan     -6253.5575   4040.787     -1.548      0.122   -1.42e+04    1682.917\n",
       "body type_Wagon     -1.325e+04   3993.955     -3.317      0.001   -2.11e+04   -5403.002\n",
       "Engi_1.8            -3733.8968    684.667     -5.454      0.000   -5078.645   -2389.148\n",
       "Engi_2.0            -4649.5593    411.006    -11.313      0.000   -5456.812   -3842.306\n",
       "==============================================================================\n",
       "Omnibus:                      130.001   Durbin-Watson:                   1.172\n",
       "Prob(Omnibus):                  0.000   Jarque-Bera (JB):              297.722\n",
       "Skew:                           1.142   Prob(JB):                     2.24e-65\n",
       "Kurtosis:                       5.594   Cond. No.                     5.07e+06\n",
       "==============================================================================\n",
       "\n",
       "Notes:\n",
       "[1] Standard Errors assume that the covariance matrix of the errors is correctly specified.\n",
       "[2] The condition number is large, 5.07e+06. This might indicate that there are\n",
       "strong multicollinearity or other numerical problems.\n",
       "\"\"\""
      ]
     },
     "execution_count": 49,
     "metadata": {},
     "output_type": "execute_result"
    }
   ],
   "source": [
    "model.summary()"
   ]
  },
  {
   "cell_type": "markdown",
   "id": "e8b80576",
   "metadata": {},
   "source": [
    "High p-values on years before 2012"
   ]
  },
  {
   "cell_type": "code",
   "execution_count": 50,
   "id": "fb1f8388",
   "metadata": {},
   "outputs": [],
   "source": [
    "X_2 = X.drop(columns = ['Year_2009', 'Year_2010', 'Year_2011'])"
   ]
  },
  {
   "cell_type": "code",
   "execution_count": 51,
   "id": "ffad4cad",
   "metadata": {},
   "outputs": [
    {
     "data": {
      "text/html": [
       "<div>\n",
       "<style scoped>\n",
       "    .dataframe tbody tr th:only-of-type {\n",
       "        vertical-align: middle;\n",
       "    }\n",
       "\n",
       "    .dataframe tbody tr th {\n",
       "        vertical-align: top;\n",
       "    }\n",
       "\n",
       "    .dataframe thead th {\n",
       "        text-align: right;\n",
       "    }\n",
       "</style>\n",
       "<table border=\"1\" class=\"dataframe\">\n",
       "  <thead>\n",
       "    <tr style=\"text-align: right;\">\n",
       "      <th></th>\n",
       "      <th>const</th>\n",
       "      <th>kms</th>\n",
       "      <th>Year_2012</th>\n",
       "      <th>Year_2013</th>\n",
       "      <th>Year_2014</th>\n",
       "      <th>Year_2015</th>\n",
       "      <th>Year_2016</th>\n",
       "      <th>Year_2017</th>\n",
       "      <th>Year_2018</th>\n",
       "      <th>Year_2019</th>\n",
       "      <th>Year_2020</th>\n",
       "      <th>Year_2021</th>\n",
       "      <th>Year_2022</th>\n",
       "      <th>Transmision_Manual</th>\n",
       "      <th>body type_Hatchback</th>\n",
       "      <th>body type_Sedan</th>\n",
       "      <th>body type_Wagon</th>\n",
       "      <th>Engi_1.8</th>\n",
       "      <th>Engi_2.0</th>\n",
       "    </tr>\n",
       "  </thead>\n",
       "  <tbody>\n",
       "    <tr>\n",
       "      <th>0</th>\n",
       "      <td>1.0</td>\n",
       "      <td>102000</td>\n",
       "      <td>0</td>\n",
       "      <td>0</td>\n",
       "      <td>0</td>\n",
       "      <td>0</td>\n",
       "      <td>0</td>\n",
       "      <td>0</td>\n",
       "      <td>0</td>\n",
       "      <td>0</td>\n",
       "      <td>0</td>\n",
       "      <td>0</td>\n",
       "      <td>0</td>\n",
       "      <td>0</td>\n",
       "      <td>1</td>\n",
       "      <td>0</td>\n",
       "      <td>0</td>\n",
       "      <td>0</td>\n",
       "      <td>1</td>\n",
       "    </tr>\n",
       "    <tr>\n",
       "      <th>1</th>\n",
       "      <td>1.0</td>\n",
       "      <td>132931</td>\n",
       "      <td>0</td>\n",
       "      <td>0</td>\n",
       "      <td>0</td>\n",
       "      <td>0</td>\n",
       "      <td>0</td>\n",
       "      <td>0</td>\n",
       "      <td>0</td>\n",
       "      <td>0</td>\n",
       "      <td>0</td>\n",
       "      <td>0</td>\n",
       "      <td>0</td>\n",
       "      <td>1</td>\n",
       "      <td>1</td>\n",
       "      <td>0</td>\n",
       "      <td>0</td>\n",
       "      <td>0</td>\n",
       "      <td>1</td>\n",
       "    </tr>\n",
       "    <tr>\n",
       "      <th>2</th>\n",
       "      <td>1.0</td>\n",
       "      <td>161000</td>\n",
       "      <td>0</td>\n",
       "      <td>0</td>\n",
       "      <td>0</td>\n",
       "      <td>0</td>\n",
       "      <td>0</td>\n",
       "      <td>0</td>\n",
       "      <td>0</td>\n",
       "      <td>0</td>\n",
       "      <td>0</td>\n",
       "      <td>0</td>\n",
       "      <td>0</td>\n",
       "      <td>0</td>\n",
       "      <td>1</td>\n",
       "      <td>0</td>\n",
       "      <td>0</td>\n",
       "      <td>0</td>\n",
       "      <td>1</td>\n",
       "    </tr>\n",
       "    <tr>\n",
       "      <th>3</th>\n",
       "      <td>1.0</td>\n",
       "      <td>177305</td>\n",
       "      <td>0</td>\n",
       "      <td>0</td>\n",
       "      <td>0</td>\n",
       "      <td>0</td>\n",
       "      <td>0</td>\n",
       "      <td>0</td>\n",
       "      <td>0</td>\n",
       "      <td>0</td>\n",
       "      <td>0</td>\n",
       "      <td>0</td>\n",
       "      <td>0</td>\n",
       "      <td>1</td>\n",
       "      <td>1</td>\n",
       "      <td>0</td>\n",
       "      <td>0</td>\n",
       "      <td>0</td>\n",
       "      <td>0</td>\n",
       "    </tr>\n",
       "    <tr>\n",
       "      <th>4</th>\n",
       "      <td>1.0</td>\n",
       "      <td>187703</td>\n",
       "      <td>0</td>\n",
       "      <td>0</td>\n",
       "      <td>0</td>\n",
       "      <td>0</td>\n",
       "      <td>0</td>\n",
       "      <td>0</td>\n",
       "      <td>0</td>\n",
       "      <td>0</td>\n",
       "      <td>0</td>\n",
       "      <td>0</td>\n",
       "      <td>0</td>\n",
       "      <td>0</td>\n",
       "      <td>1</td>\n",
       "      <td>0</td>\n",
       "      <td>0</td>\n",
       "      <td>0</td>\n",
       "      <td>0</td>\n",
       "    </tr>\n",
       "    <tr>\n",
       "      <th>...</th>\n",
       "      <td>...</td>\n",
       "      <td>...</td>\n",
       "      <td>...</td>\n",
       "      <td>...</td>\n",
       "      <td>...</td>\n",
       "      <td>...</td>\n",
       "      <td>...</td>\n",
       "      <td>...</td>\n",
       "      <td>...</td>\n",
       "      <td>...</td>\n",
       "      <td>...</td>\n",
       "      <td>...</td>\n",
       "      <td>...</td>\n",
       "      <td>...</td>\n",
       "      <td>...</td>\n",
       "      <td>...</td>\n",
       "      <td>...</td>\n",
       "      <td>...</td>\n",
       "      <td>...</td>\n",
       "    </tr>\n",
       "    <tr>\n",
       "      <th>684</th>\n",
       "      <td>1.0</td>\n",
       "      <td>155338</td>\n",
       "      <td>1</td>\n",
       "      <td>0</td>\n",
       "      <td>0</td>\n",
       "      <td>0</td>\n",
       "      <td>0</td>\n",
       "      <td>0</td>\n",
       "      <td>0</td>\n",
       "      <td>0</td>\n",
       "      <td>0</td>\n",
       "      <td>0</td>\n",
       "      <td>0</td>\n",
       "      <td>0</td>\n",
       "      <td>1</td>\n",
       "      <td>0</td>\n",
       "      <td>0</td>\n",
       "      <td>0</td>\n",
       "      <td>0</td>\n",
       "    </tr>\n",
       "    <tr>\n",
       "      <th>685</th>\n",
       "      <td>1.0</td>\n",
       "      <td>199172</td>\n",
       "      <td>0</td>\n",
       "      <td>1</td>\n",
       "      <td>0</td>\n",
       "      <td>0</td>\n",
       "      <td>0</td>\n",
       "      <td>0</td>\n",
       "      <td>0</td>\n",
       "      <td>0</td>\n",
       "      <td>0</td>\n",
       "      <td>0</td>\n",
       "      <td>0</td>\n",
       "      <td>1</td>\n",
       "      <td>1</td>\n",
       "      <td>0</td>\n",
       "      <td>0</td>\n",
       "      <td>1</td>\n",
       "      <td>0</td>\n",
       "    </tr>\n",
       "    <tr>\n",
       "      <th>686</th>\n",
       "      <td>1.0</td>\n",
       "      <td>167201</td>\n",
       "      <td>1</td>\n",
       "      <td>0</td>\n",
       "      <td>0</td>\n",
       "      <td>0</td>\n",
       "      <td>0</td>\n",
       "      <td>0</td>\n",
       "      <td>0</td>\n",
       "      <td>0</td>\n",
       "      <td>0</td>\n",
       "      <td>0</td>\n",
       "      <td>0</td>\n",
       "      <td>1</td>\n",
       "      <td>1</td>\n",
       "      <td>0</td>\n",
       "      <td>0</td>\n",
       "      <td>0</td>\n",
       "      <td>1</td>\n",
       "    </tr>\n",
       "    <tr>\n",
       "      <th>687</th>\n",
       "      <td>1.0</td>\n",
       "      <td>105747</td>\n",
       "      <td>1</td>\n",
       "      <td>0</td>\n",
       "      <td>0</td>\n",
       "      <td>0</td>\n",
       "      <td>0</td>\n",
       "      <td>0</td>\n",
       "      <td>0</td>\n",
       "      <td>0</td>\n",
       "      <td>0</td>\n",
       "      <td>0</td>\n",
       "      <td>0</td>\n",
       "      <td>1</td>\n",
       "      <td>1</td>\n",
       "      <td>0</td>\n",
       "      <td>0</td>\n",
       "      <td>0</td>\n",
       "      <td>1</td>\n",
       "    </tr>\n",
       "    <tr>\n",
       "      <th>688</th>\n",
       "      <td>1.0</td>\n",
       "      <td>133998</td>\n",
       "      <td>0</td>\n",
       "      <td>0</td>\n",
       "      <td>0</td>\n",
       "      <td>0</td>\n",
       "      <td>0</td>\n",
       "      <td>0</td>\n",
       "      <td>0</td>\n",
       "      <td>0</td>\n",
       "      <td>0</td>\n",
       "      <td>0</td>\n",
       "      <td>0</td>\n",
       "      <td>0</td>\n",
       "      <td>0</td>\n",
       "      <td>0</td>\n",
       "      <td>1</td>\n",
       "      <td>0</td>\n",
       "      <td>0</td>\n",
       "    </tr>\n",
       "  </tbody>\n",
       "</table>\n",
       "<p>598 rows × 19 columns</p>\n",
       "</div>"
      ],
      "text/plain": [
       "     const     kms  Year_2012  Year_2013  Year_2014  Year_2015  Year_2016  \\\n",
       "0      1.0  102000          0          0          0          0          0   \n",
       "1      1.0  132931          0          0          0          0          0   \n",
       "2      1.0  161000          0          0          0          0          0   \n",
       "3      1.0  177305          0          0          0          0          0   \n",
       "4      1.0  187703          0          0          0          0          0   \n",
       "..     ...     ...        ...        ...        ...        ...        ...   \n",
       "684    1.0  155338          1          0          0          0          0   \n",
       "685    1.0  199172          0          1          0          0          0   \n",
       "686    1.0  167201          1          0          0          0          0   \n",
       "687    1.0  105747          1          0          0          0          0   \n",
       "688    1.0  133998          0          0          0          0          0   \n",
       "\n",
       "     Year_2017  Year_2018  Year_2019  Year_2020  Year_2021  Year_2022  \\\n",
       "0            0          0          0          0          0          0   \n",
       "1            0          0          0          0          0          0   \n",
       "2            0          0          0          0          0          0   \n",
       "3            0          0          0          0          0          0   \n",
       "4            0          0          0          0          0          0   \n",
       "..         ...        ...        ...        ...        ...        ...   \n",
       "684          0          0          0          0          0          0   \n",
       "685          0          0          0          0          0          0   \n",
       "686          0          0          0          0          0          0   \n",
       "687          0          0          0          0          0          0   \n",
       "688          0          0          0          0          0          0   \n",
       "\n",
       "     Transmision_Manual  body type_Hatchback  body type_Sedan  \\\n",
       "0                     0                    1                0   \n",
       "1                     1                    1                0   \n",
       "2                     0                    1                0   \n",
       "3                     1                    1                0   \n",
       "4                     0                    1                0   \n",
       "..                  ...                  ...              ...   \n",
       "684                   0                    1                0   \n",
       "685                   1                    1                0   \n",
       "686                   1                    1                0   \n",
       "687                   1                    1                0   \n",
       "688                   0                    0                0   \n",
       "\n",
       "     body type_Wagon  Engi_1.8  Engi_2.0  \n",
       "0                  0         0         1  \n",
       "1                  0         0         1  \n",
       "2                  0         0         1  \n",
       "3                  0         0         0  \n",
       "4                  0         0         0  \n",
       "..               ...       ...       ...  \n",
       "684                0         0         0  \n",
       "685                0         1         0  \n",
       "686                0         0         1  \n",
       "687                0         0         1  \n",
       "688                1         0         0  \n",
       "\n",
       "[598 rows x 19 columns]"
      ]
     },
     "execution_count": 51,
     "metadata": {},
     "output_type": "execute_result"
    }
   ],
   "source": [
    "X_2"
   ]
  },
  {
   "cell_type": "code",
   "execution_count": 57,
   "id": "ff832c81",
   "metadata": {},
   "outputs": [],
   "source": [
    "X_2 = sm.add_constant(X_2)\n",
    "\n",
    "X_2_train, X_2_test, y_2_train, y_2_test = train_test_split(X_2, y, random_state=123)\n",
    "\n",
    "model_2 = sm.OLS(y, X_2).fit()\n",
    "\n"
   ]
  },
  {
   "cell_type": "code",
   "execution_count": 55,
   "id": "a6cd5ffe",
   "metadata": {},
   "outputs": [
    {
     "data": {
      "text/html": [
       "<table class=\"simpletable\">\n",
       "<caption>OLS Regression Results</caption>\n",
       "<tr>\n",
       "  <th>Dep. Variable:</th>          <td>Price</td>      <th>  R-squared:         </th> <td>   0.832</td> \n",
       "</tr>\n",
       "<tr>\n",
       "  <th>Model:</th>                   <td>OLS</td>       <th>  Adj. R-squared:    </th> <td>   0.826</td> \n",
       "</tr>\n",
       "<tr>\n",
       "  <th>Method:</th>             <td>Least Squares</td>  <th>  F-statistic:       </th> <td>   159.0</td> \n",
       "</tr>\n",
       "<tr>\n",
       "  <th>Date:</th>             <td>Tue, 28 Jun 2022</td> <th>  Prob (F-statistic):</th> <td>2.87e-210</td>\n",
       "</tr>\n",
       "<tr>\n",
       "  <th>Time:</th>                 <td>12:08:16</td>     <th>  Log-Likelihood:    </th> <td> -5775.3</td> \n",
       "</tr>\n",
       "<tr>\n",
       "  <th>No. Observations:</th>      <td>   598</td>      <th>  AIC:               </th> <td>1.159e+04</td>\n",
       "</tr>\n",
       "<tr>\n",
       "  <th>Df Residuals:</th>          <td>   579</td>      <th>  BIC:               </th> <td>1.167e+04</td>\n",
       "</tr>\n",
       "<tr>\n",
       "  <th>Df Model:</th>              <td>    18</td>      <th>                     </th>     <td> </td>    \n",
       "</tr>\n",
       "<tr>\n",
       "  <th>Covariance Type:</th>      <td>nonrobust</td>    <th>                     </th>     <td> </td>    \n",
       "</tr>\n",
       "</table>\n",
       "<table class=\"simpletable\">\n",
       "<tr>\n",
       "           <td></td>              <th>coef</th>     <th>std err</th>      <th>t</th>      <th>P>|t|</th>  <th>[0.025</th>    <th>0.975]</th>  \n",
       "</tr>\n",
       "<tr>\n",
       "  <th>const</th>               <td> 3.399e+04</td> <td> 3995.856</td> <td>    8.507</td> <td> 0.000</td> <td> 2.61e+04</td> <td> 4.18e+04</td>\n",
       "</tr>\n",
       "<tr>\n",
       "  <th>kms</th>                 <td>   -0.0560</td> <td>    0.004</td> <td>  -12.681</td> <td> 0.000</td> <td>   -0.065</td> <td>   -0.047</td>\n",
       "</tr>\n",
       "<tr>\n",
       "  <th>Year_2012</th>           <td> 2165.1142</td> <td>  798.639</td> <td>    2.711</td> <td> 0.007</td> <td>  596.532</td> <td> 3733.696</td>\n",
       "</tr>\n",
       "<tr>\n",
       "  <th>Year_2013</th>           <td> 2515.1525</td> <td>  904.529</td> <td>    2.781</td> <td> 0.006</td> <td>  738.594</td> <td> 4291.711</td>\n",
       "</tr>\n",
       "<tr>\n",
       "  <th>Year_2014</th>           <td> 3659.0241</td> <td> 1010.330</td> <td>    3.622</td> <td> 0.000</td> <td> 1674.666</td> <td> 5643.382</td>\n",
       "</tr>\n",
       "<tr>\n",
       "  <th>Year_2015</th>           <td> 4688.5575</td> <td>  932.391</td> <td>    5.029</td> <td> 0.000</td> <td> 2857.277</td> <td> 6519.838</td>\n",
       "</tr>\n",
       "<tr>\n",
       "  <th>Year_2016</th>           <td> 5195.4932</td> <td> 1056.195</td> <td>    4.919</td> <td> 0.000</td> <td> 3121.054</td> <td> 7269.933</td>\n",
       "</tr>\n",
       "<tr>\n",
       "  <th>Year_2017</th>           <td> 8202.8491</td> <td>  816.503</td> <td>   10.046</td> <td> 0.000</td> <td> 6599.181</td> <td> 9806.517</td>\n",
       "</tr>\n",
       "<tr>\n",
       "  <th>Year_2018</th>           <td> 1.189e+04</td> <td>  790.923</td> <td>   15.029</td> <td> 0.000</td> <td> 1.03e+04</td> <td> 1.34e+04</td>\n",
       "</tr>\n",
       "<tr>\n",
       "  <th>Year_2019</th>           <td> 1.264e+04</td> <td>  870.858</td> <td>   14.519</td> <td> 0.000</td> <td> 1.09e+04</td> <td> 1.44e+04</td>\n",
       "</tr>\n",
       "<tr>\n",
       "  <th>Year_2020</th>           <td> 1.241e+04</td> <td>  928.543</td> <td>   13.369</td> <td> 0.000</td> <td> 1.06e+04</td> <td> 1.42e+04</td>\n",
       "</tr>\n",
       "<tr>\n",
       "  <th>Year_2021</th>           <td> 1.411e+04</td> <td> 1010.345</td> <td>   13.969</td> <td> 0.000</td> <td> 1.21e+04</td> <td> 1.61e+04</td>\n",
       "</tr>\n",
       "<tr>\n",
       "  <th>Year_2022</th>           <td> 1.281e+04</td> <td> 1241.556</td> <td>   10.321</td> <td> 0.000</td> <td> 1.04e+04</td> <td> 1.53e+04</td>\n",
       "</tr>\n",
       "<tr>\n",
       "  <th>Transmision_Manual</th>  <td> 2718.7707</td> <td>  444.839</td> <td>    6.112</td> <td> 0.000</td> <td> 1845.077</td> <td> 3592.464</td>\n",
       "</tr>\n",
       "<tr>\n",
       "  <th>body type_Hatchback</th> <td>-1.244e+04</td> <td> 3903.070</td> <td>   -3.188</td> <td> 0.002</td> <td>-2.01e+04</td> <td>-4778.557</td>\n",
       "</tr>\n",
       "<tr>\n",
       "  <th>body type_Sedan</th>     <td>-6237.5892</td> <td> 4034.841</td> <td>   -1.546</td> <td> 0.123</td> <td>-1.42e+04</td> <td> 1687.120</td>\n",
       "</tr>\n",
       "<tr>\n",
       "  <th>body type_Wagon</th>     <td>-1.311e+04</td> <td> 3980.980</td> <td>   -3.292</td> <td> 0.001</td> <td>-2.09e+04</td> <td>-5286.170</td>\n",
       "</tr>\n",
       "<tr>\n",
       "  <th>Engi_1.8</th>            <td>-3683.3648</td> <td>  681.605</td> <td>   -5.404</td> <td> 0.000</td> <td>-5022.084</td> <td>-2344.646</td>\n",
       "</tr>\n",
       "<tr>\n",
       "  <th>Engi_2.0</th>            <td>-4587.5359</td> <td>  406.071</td> <td>  -11.297</td> <td> 0.000</td> <td>-5385.088</td> <td>-3789.984</td>\n",
       "</tr>\n",
       "</table>\n",
       "<table class=\"simpletable\">\n",
       "<tr>\n",
       "  <th>Omnibus:</th>       <td>129.678</td> <th>  Durbin-Watson:     </th> <td>   1.164</td>\n",
       "</tr>\n",
       "<tr>\n",
       "  <th>Prob(Omnibus):</th> <td> 0.000</td>  <th>  Jarque-Bera (JB):  </th> <td> 295.672</td>\n",
       "</tr>\n",
       "<tr>\n",
       "  <th>Skew:</th>          <td> 1.141</td>  <th>  Prob(JB):          </th> <td>6.25e-65</td>\n",
       "</tr>\n",
       "<tr>\n",
       "  <th>Kurtosis:</th>      <td> 5.580</td>  <th>  Cond. No.          </th> <td>5.06e+06</td>\n",
       "</tr>\n",
       "</table><br/><br/>Notes:<br/>[1] Standard Errors assume that the covariance matrix of the errors is correctly specified.<br/>[2] The condition number is large, 5.06e+06. This might indicate that there are<br/>strong multicollinearity or other numerical problems."
      ],
      "text/plain": [
       "<class 'statsmodels.iolib.summary.Summary'>\n",
       "\"\"\"\n",
       "                            OLS Regression Results                            \n",
       "==============================================================================\n",
       "Dep. Variable:                  Price   R-squared:                       0.832\n",
       "Model:                            OLS   Adj. R-squared:                  0.826\n",
       "Method:                 Least Squares   F-statistic:                     159.0\n",
       "Date:                Tue, 28 Jun 2022   Prob (F-statistic):          2.87e-210\n",
       "Time:                        12:08:16   Log-Likelihood:                -5775.3\n",
       "No. Observations:                 598   AIC:                         1.159e+04\n",
       "Df Residuals:                     579   BIC:                         1.167e+04\n",
       "Df Model:                          18                                         \n",
       "Covariance Type:            nonrobust                                         \n",
       "=======================================================================================\n",
       "                          coef    std err          t      P>|t|      [0.025      0.975]\n",
       "---------------------------------------------------------------------------------------\n",
       "const                3.399e+04   3995.856      8.507      0.000    2.61e+04    4.18e+04\n",
       "kms                    -0.0560      0.004    -12.681      0.000      -0.065      -0.047\n",
       "Year_2012            2165.1142    798.639      2.711      0.007     596.532    3733.696\n",
       "Year_2013            2515.1525    904.529      2.781      0.006     738.594    4291.711\n",
       "Year_2014            3659.0241   1010.330      3.622      0.000    1674.666    5643.382\n",
       "Year_2015            4688.5575    932.391      5.029      0.000    2857.277    6519.838\n",
       "Year_2016            5195.4932   1056.195      4.919      0.000    3121.054    7269.933\n",
       "Year_2017            8202.8491    816.503     10.046      0.000    6599.181    9806.517\n",
       "Year_2018            1.189e+04    790.923     15.029      0.000    1.03e+04    1.34e+04\n",
       "Year_2019            1.264e+04    870.858     14.519      0.000    1.09e+04    1.44e+04\n",
       "Year_2020            1.241e+04    928.543     13.369      0.000    1.06e+04    1.42e+04\n",
       "Year_2021            1.411e+04   1010.345     13.969      0.000    1.21e+04    1.61e+04\n",
       "Year_2022            1.281e+04   1241.556     10.321      0.000    1.04e+04    1.53e+04\n",
       "Transmision_Manual   2718.7707    444.839      6.112      0.000    1845.077    3592.464\n",
       "body type_Hatchback -1.244e+04   3903.070     -3.188      0.002   -2.01e+04   -4778.557\n",
       "body type_Sedan     -6237.5892   4034.841     -1.546      0.123   -1.42e+04    1687.120\n",
       "body type_Wagon     -1.311e+04   3980.980     -3.292      0.001   -2.09e+04   -5286.170\n",
       "Engi_1.8            -3683.3648    681.605     -5.404      0.000   -5022.084   -2344.646\n",
       "Engi_2.0            -4587.5359    406.071    -11.297      0.000   -5385.088   -3789.984\n",
       "==============================================================================\n",
       "Omnibus:                      129.678   Durbin-Watson:                   1.164\n",
       "Prob(Omnibus):                  0.000   Jarque-Bera (JB):              295.672\n",
       "Skew:                           1.141   Prob(JB):                     6.25e-65\n",
       "Kurtosis:                       5.580   Cond. No.                     5.06e+06\n",
       "==============================================================================\n",
       "\n",
       "Notes:\n",
       "[1] Standard Errors assume that the covariance matrix of the errors is correctly specified.\n",
       "[2] The condition number is large, 5.06e+06. This might indicate that there are\n",
       "strong multicollinearity or other numerical problems.\n",
       "\"\"\""
      ]
     },
     "execution_count": 55,
     "metadata": {},
     "output_type": "execute_result"
    }
   ],
   "source": [
    "model_2.summary()"
   ]
  },
  {
   "cell_type": "code",
   "execution_count": null,
   "id": "5c17fe84",
   "metadata": {},
   "outputs": [],
   "source": [
    "# Comments:\n",
    "#Probar modelo XGBOOST con linear regression a ver si ajusta mejor?\n",
    "# Como trato una regresion multiple donde una variable es en anios? esta bien usar dummies?"
   ]
  }
 ],
 "metadata": {
  "kernelspec": {
   "display_name": "Python 3 (ipykernel)",
   "language": "python",
   "name": "python3"
  },
  "language_info": {
   "codemirror_mode": {
    "name": "ipython",
    "version": 3
   },
   "file_extension": ".py",
   "mimetype": "text/x-python",
   "name": "python",
   "nbconvert_exporter": "python",
   "pygments_lexer": "ipython3",
   "version": "3.8.12"
  }
 },
 "nbformat": 4,
 "nbformat_minor": 5
}
