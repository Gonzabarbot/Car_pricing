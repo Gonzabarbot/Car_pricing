{
 "cells": [
  {
   "cell_type": "code",
   "execution_count": 105,
   "id": "b28e7dde",
   "metadata": {},
   "outputs": [],
   "source": [
    "import pandas as pd\n",
    "import numpy as np\n",
    "import regex as re\n",
    "import seaborn as sns"
   ]
  },
  {
   "cell_type": "code",
   "execution_count": 106,
   "id": "02ca35cc",
   "metadata": {},
   "outputs": [
    {
     "data": {
      "text/html": [
       "<div>\n",
       "<style scoped>\n",
       "    .dataframe tbody tr th:only-of-type {\n",
       "        vertical-align: middle;\n",
       "    }\n",
       "\n",
       "    .dataframe tbody tr th {\n",
       "        vertical-align: top;\n",
       "    }\n",
       "\n",
       "    .dataframe thead th {\n",
       "        text-align: right;\n",
       "    }\n",
       "</style>\n",
       "<table border=\"1\" class=\"dataframe\">\n",
       "  <thead>\n",
       "    <tr style=\"text-align: right;\">\n",
       "      <th></th>\n",
       "      <th>Price</th>\n",
       "      <th>Desc</th>\n",
       "      <th>Loc</th>\n",
       "      <th>kms</th>\n",
       "      <th>Transmision</th>\n",
       "      <th>engine</th>\n",
       "      <th>Engi</th>\n",
       "      <th>body type</th>\n",
       "      <th>Year</th>\n",
       "    </tr>\n",
       "  </thead>\n",
       "  <tbody>\n",
       "    <tr>\n",
       "      <th>0</th>\n",
       "      <td>$9,999</td>\n",
       "      <td>2010 Hyundai i30 SX Auto White</td>\n",
       "      <td>Greenslopes, QLD</td>\n",
       "      <td>102000</td>\n",
       "      <td>Auto</td>\n",
       "      <td>4 cyl 2.0L</td>\n",
       "      <td>2</td>\n",
       "      <td>Hatchback</td>\n",
       "      <td>2010</td>\n",
       "    </tr>\n",
       "    <tr>\n",
       "      <th>1</th>\n",
       "      <td>$9,999</td>\n",
       "      <td>2009 Hyundai i30 FD MY09 SX Red 5 Speed Manual...</td>\n",
       "      <td>Invermay, TAS</td>\n",
       "      <td>132931</td>\n",
       "      <td>Manual</td>\n",
       "      <td>4 cyl 2.0L</td>\n",
       "      <td>2</td>\n",
       "      <td>Hatchback</td>\n",
       "      <td>2009</td>\n",
       "    </tr>\n",
       "    <tr>\n",
       "      <th>2</th>\n",
       "      <td>$9,999</td>\n",
       "      <td>2008 Hyundai i30 FD SR White 4 Speed Automatic...</td>\n",
       "      <td>Victoria Park, WA</td>\n",
       "      <td>161000</td>\n",
       "      <td>Auto</td>\n",
       "      <td>4 cyl 2.0L</td>\n",
       "      <td>2</td>\n",
       "      <td>Hatchback</td>\n",
       "      <td>2008</td>\n",
       "    </tr>\n",
       "    <tr>\n",
       "      <th>3</th>\n",
       "      <td>$9,995</td>\n",
       "      <td>2011 Hyundai i30 FD MY11 SX 1.6 CRDi Blue 5 Sp...</td>\n",
       "      <td>Capalaba, QLD</td>\n",
       "      <td>177305</td>\n",
       "      <td>Manual</td>\n",
       "      <td>4 cyl 1.6L</td>\n",
       "      <td>1,6</td>\n",
       "      <td>Hatchback</td>\n",
       "      <td>2011</td>\n",
       "    </tr>\n",
       "    <tr>\n",
       "      <th>4</th>\n",
       "      <td>$9,995</td>\n",
       "      <td>2010 Hyundai i30 SX</td>\n",
       "      <td>Moorooka, QLD</td>\n",
       "      <td>187703</td>\n",
       "      <td>Auto</td>\n",
       "      <td>4 cyl 1.6L</td>\n",
       "      <td>1,6</td>\n",
       "      <td>Hatchback</td>\n",
       "      <td>2010</td>\n",
       "    </tr>\n",
       "  </tbody>\n",
       "</table>\n",
       "</div>"
      ],
      "text/plain": [
       "      Price                                               Desc  \\\n",
       "0   $9,999                      2010 Hyundai i30 SX Auto White   \n",
       "1   $9,999   2009 Hyundai i30 FD MY09 SX Red 5 Speed Manual...   \n",
       "2   $9,999   2008 Hyundai i30 FD SR White 4 Speed Automatic...   \n",
       "3   $9,995   2011 Hyundai i30 FD MY11 SX 1.6 CRDi Blue 5 Sp...   \n",
       "4   $9,995                                 2010 Hyundai i30 SX   \n",
       "\n",
       "                 Loc     kms Transmision      engine Engi  body type  Year  \n",
       "0   Greenslopes, QLD  102000        Auto  4 cyl 2.0L    2  Hatchback  2010  \n",
       "1      Invermay, TAS  132931      Manual  4 cyl 2.0L    2  Hatchback  2009  \n",
       "2  Victoria Park, WA  161000        Auto  4 cyl 2.0L    2  Hatchback  2008  \n",
       "3      Capalaba, QLD  177305      Manual  4 cyl 1.6L  1,6  Hatchback  2011  \n",
       "4      Moorooka, QLD  187703        Auto  4 cyl 1.6L  1,6  Hatchback  2010  "
      ]
     },
     "execution_count": 106,
     "metadata": {},
     "output_type": "execute_result"
    }
   ],
   "source": [
    "data = pd.read_csv('i30.csv')\n",
    "data.head(5)"
   ]
  },
  {
   "cell_type": "code",
   "execution_count": 107,
   "id": "07a6d205",
   "metadata": {},
   "outputs": [
    {
     "data": {
      "text/plain": [
       "(689, 9)"
      ]
     },
     "execution_count": 107,
     "metadata": {},
     "output_type": "execute_result"
    }
   ],
   "source": [
    "data.shape"
   ]
  },
  {
   "cell_type": "code",
   "execution_count": 108,
   "id": "05ce851c",
   "metadata": {},
   "outputs": [
    {
     "data": {
      "text/plain": [
       "Index(['Price', 'Desc', 'Loc', 'kms', 'Transmision', 'engine', 'Engi',\n",
       "       'body type', 'Year'],\n",
       "      dtype='object')"
      ]
     },
     "execution_count": 108,
     "metadata": {},
     "output_type": "execute_result"
    }
   ],
   "source": [
    "data.columns"
   ]
  },
  {
   "cell_type": "code",
   "execution_count": 109,
   "id": "f1ad5105",
   "metadata": {},
   "outputs": [
    {
     "data": {
      "text/plain": [
       "Price          object\n",
       "Desc           object\n",
       "Loc            object\n",
       "kms             int64\n",
       "Transmision    object\n",
       "engine         object\n",
       "Engi           object\n",
       "body type      object\n",
       "Year           object\n",
       "dtype: object"
      ]
     },
     "execution_count": 109,
     "metadata": {},
     "output_type": "execute_result"
    }
   ],
   "source": [
    "data.dtypes"
   ]
  },
  {
   "cell_type": "markdown",
   "id": "5d79dbb4",
   "metadata": {},
   "source": [
    "### Data Cleansing"
   ]
  },
  {
   "cell_type": "code",
   "execution_count": 110,
   "id": "a768a1ac",
   "metadata": {},
   "outputs": [],
   "source": [
    "data['Price'] = data['Price'].str.replace('[A-Za-z]', '').str.replace('$', '')"
   ]
  },
  {
   "cell_type": "code",
   "execution_count": 111,
   "id": "52744943",
   "metadata": {},
   "outputs": [],
   "source": [
    "data['Price'] = data['Price'].str.replace('[A-Za-z]', '').str.replace(',', '').astype(float)"
   ]
  },
  {
   "cell_type": "code",
   "execution_count": 112,
   "id": "ca4425b4",
   "metadata": {},
   "outputs": [],
   "source": [
    "data[\"Engi\"] = data['Engi'].str.replace('?', '0')#.astype(float)\n",
    "data[\"Engi\"] = data['Engi'].str.replace(',', '').astype(float)\n"
   ]
  },
  {
   "cell_type": "code",
   "execution_count": 113,
   "id": "21ec004b",
   "metadata": {},
   "outputs": [
    {
     "data": {
      "text/plain": [
       "24990.0    18\n",
       "16990.0    15\n",
       "18990.0    14\n",
       "26990.0    14\n",
       "13990.0    12\n",
       "           ..\n",
       "18895.0     1\n",
       "10985.0     1\n",
       "11885.0     1\n",
       "50888.0     1\n",
       "9984.0      1\n",
       "Name: Price, Length: 332, dtype: int64"
      ]
     },
     "execution_count": 113,
     "metadata": {},
     "output_type": "execute_result"
    }
   ],
   "source": [
    "data.Price.value_counts()"
   ]
  },
  {
   "cell_type": "code",
   "execution_count": 114,
   "id": "36c04216",
   "metadata": {},
   "outputs": [
    {
     "data": {
      "text/plain": [
       "2.0     340\n",
       "18.0    158\n",
       "16.0    145\n",
       "0.0      46\n",
       "Name: Engi, dtype: int64"
      ]
     },
     "execution_count": 114,
     "metadata": {},
     "output_type": "execute_result"
    }
   ],
   "source": [
    "data.Engi.value_counts()"
   ]
  },
  {
   "cell_type": "code",
   "execution_count": 115,
   "id": "045758bf",
   "metadata": {},
   "outputs": [
    {
     "data": {
      "text/plain": [
       "4 cyl 2.0L    340\n",
       "4 cyl 1.8L    158\n",
       "4 cyl 1.6L    144\n",
       "?              46\n",
       "1600            1\n",
       "Name: engine, dtype: int64"
      ]
     },
     "execution_count": 115,
     "metadata": {},
     "output_type": "execute_result"
    }
   ],
   "source": [
    "data.engine.value_counts()"
   ]
  },
  {
   "cell_type": "code",
   "execution_count": 116,
   "id": "be5215b1",
   "metadata": {},
   "outputs": [],
   "source": [
    "data[\"Year\"] = data['Year'].str.replace('?', '0').astype(int)"
   ]
  },
  {
   "cell_type": "code",
   "execution_count": 117,
   "id": "e3e215b0",
   "metadata": {},
   "outputs": [
    {
     "data": {
      "text/plain": [
       "0       9999.0\n",
       "1       9999.0\n",
       "2       9999.0\n",
       "3       9995.0\n",
       "4       9995.0\n",
       "        ...   \n",
       "684    10898.0\n",
       "685    10800.0\n",
       "686    10460.0\n",
       "687    10451.0\n",
       "688    10000.0\n",
       "Name: Price, Length: 689, dtype: float64"
      ]
     },
     "execution_count": 117,
     "metadata": {},
     "output_type": "execute_result"
    }
   ],
   "source": [
    "data.Price"
   ]
  },
  {
   "cell_type": "code",
   "execution_count": 118,
   "id": "4ec56ec6",
   "metadata": {},
   "outputs": [
    {
     "data": {
      "text/plain": [
       "Price          float64\n",
       "Desc            object\n",
       "Loc             object\n",
       "kms              int64\n",
       "Transmision     object\n",
       "engine          object\n",
       "Engi           float64\n",
       "body type       object\n",
       "Year             int32\n",
       "dtype: object"
      ]
     },
     "execution_count": 118,
     "metadata": {},
     "output_type": "execute_result"
    }
   ],
   "source": [
    "data.dtypes"
   ]
  },
  {
   "cell_type": "code",
   "execution_count": null,
   "id": "f17fd351",
   "metadata": {},
   "outputs": [],
   "source": []
  },
  {
   "cell_type": "markdown",
   "id": "7464aba2",
   "metadata": {},
   "source": [
    "### Analisis outliers"
   ]
  },
  {
   "cell_type": "code",
   "execution_count": null,
   "id": "e6b1caaa",
   "metadata": {},
   "outputs": [],
   "source": []
  },
  {
   "cell_type": "code",
   "execution_count": 122,
   "id": "7924b8ed",
   "metadata": {},
   "outputs": [],
   "source": [
    "data_price = data.groupby(['Engi'])[['Price']]"
   ]
  },
  {
   "cell_type": "code",
   "execution_count": 124,
   "id": "f507a19d",
   "metadata": {},
   "outputs": [
    {
     "data": {
      "text/html": [
       "<div>\n",
       "<style scoped>\n",
       "    .dataframe tbody tr th:only-of-type {\n",
       "        vertical-align: middle;\n",
       "    }\n",
       "\n",
       "    .dataframe tbody tr th {\n",
       "        vertical-align: top;\n",
       "    }\n",
       "\n",
       "    .dataframe thead tr th {\n",
       "        text-align: left;\n",
       "    }\n",
       "\n",
       "    .dataframe thead tr:last-of-type th {\n",
       "        text-align: right;\n",
       "    }\n",
       "</style>\n",
       "<table border=\"1\" class=\"dataframe\">\n",
       "  <thead>\n",
       "    <tr>\n",
       "      <th></th>\n",
       "      <th colspan=\"8\" halign=\"left\">Price</th>\n",
       "    </tr>\n",
       "    <tr>\n",
       "      <th></th>\n",
       "      <th>count</th>\n",
       "      <th>mean</th>\n",
       "      <th>std</th>\n",
       "      <th>min</th>\n",
       "      <th>25%</th>\n",
       "      <th>50%</th>\n",
       "      <th>75%</th>\n",
       "      <th>max</th>\n",
       "    </tr>\n",
       "    <tr>\n",
       "      <th>Engi</th>\n",
       "      <th></th>\n",
       "      <th></th>\n",
       "      <th></th>\n",
       "      <th></th>\n",
       "      <th></th>\n",
       "      <th></th>\n",
       "      <th></th>\n",
       "      <th></th>\n",
       "    </tr>\n",
       "  </thead>\n",
       "  <tbody>\n",
       "    <tr>\n",
       "      <th>0.0</th>\n",
       "      <td>46.0</td>\n",
       "      <td>19659.543478</td>\n",
       "      <td>12084.098583</td>\n",
       "      <td>6880.0</td>\n",
       "      <td>10490.0</td>\n",
       "      <td>15474.5</td>\n",
       "      <td>23866.75</td>\n",
       "      <td>55990.0</td>\n",
       "    </tr>\n",
       "    <tr>\n",
       "      <th>2.0</th>\n",
       "      <td>340.0</td>\n",
       "      <td>26011.255882</td>\n",
       "      <td>12794.092561</td>\n",
       "      <td>4985.0</td>\n",
       "      <td>18998.0</td>\n",
       "      <td>24919.0</td>\n",
       "      <td>29490.00</td>\n",
       "      <td>62990.0</td>\n",
       "    </tr>\n",
       "    <tr>\n",
       "      <th>16.0</th>\n",
       "      <td>145.0</td>\n",
       "      <td>25497.689655</td>\n",
       "      <td>11959.363869</td>\n",
       "      <td>4990.0</td>\n",
       "      <td>12990.0</td>\n",
       "      <td>28999.0</td>\n",
       "      <td>35415.00</td>\n",
       "      <td>55750.0</td>\n",
       "    </tr>\n",
       "    <tr>\n",
       "      <th>18.0</th>\n",
       "      <td>158.0</td>\n",
       "      <td>16783.531646</td>\n",
       "      <td>3276.866475</td>\n",
       "      <td>7690.0</td>\n",
       "      <td>14990.0</td>\n",
       "      <td>16994.5</td>\n",
       "      <td>18990.00</td>\n",
       "      <td>23990.0</td>\n",
       "    </tr>\n",
       "  </tbody>\n",
       "</table>\n",
       "</div>"
      ],
      "text/plain": [
       "      Price                                                                  \\\n",
       "      count          mean           std     min      25%      50%       75%   \n",
       "Engi                                                                          \n",
       "0.0    46.0  19659.543478  12084.098583  6880.0  10490.0  15474.5  23866.75   \n",
       "2.0   340.0  26011.255882  12794.092561  4985.0  18998.0  24919.0  29490.00   \n",
       "16.0  145.0  25497.689655  11959.363869  4990.0  12990.0  28999.0  35415.00   \n",
       "18.0  158.0  16783.531646   3276.866475  7690.0  14990.0  16994.5  18990.00   \n",
       "\n",
       "               \n",
       "          max  \n",
       "Engi           \n",
       "0.0   55990.0  \n",
       "2.0   62990.0  \n",
       "16.0  55750.0  \n",
       "18.0  23990.0  "
      ]
     },
     "execution_count": 124,
     "metadata": {},
     "output_type": "execute_result"
    }
   ],
   "source": [
    "data_price.describe()"
   ]
  },
  {
   "cell_type": "code",
   "execution_count": 131,
   "id": "4986ee75",
   "metadata": {},
   "outputs": [
    {
     "name": "stdout",
     "output_type": "stream",
     "text": [
      "        Price\n",
      "Engi         \n",
      "0.0   10490.0\n",
      "2.0   18998.0\n",
      "16.0  12990.0\n",
      "18.0  14990.0\n",
      "        Price\n",
      "Engi         \n",
      "0.0   15474.5\n",
      "2.0   24919.0\n",
      "16.0  28999.0\n",
      "18.0  16994.5\n",
      "         Price\n",
      "Engi          \n",
      "0.0   23866.75\n",
      "2.0   29490.00\n",
      "16.0  35415.00\n",
      "18.0  18990.00\n"
     ]
    }
   ],
   "source": [
    "q1 = data_price.quantile(0.25)\n",
    "print(q1)\n",
    "q2 = data_price.quantile(0.5)\n",
    "print(q2)\n",
    "q3 = data_price.quantile(0.75)\n",
    "print(q3)"
   ]
  },
  {
   "cell_type": "code",
   "execution_count": 132,
   "id": "d1238736",
   "metadata": {},
   "outputs": [
    {
     "name": "stdout",
     "output_type": "stream",
     "text": [
      "          Price\n",
      "Engi           \n",
      "0.0   43931.875\n",
      "2.0   45228.000\n",
      "16.0  69052.500\n",
      "18.0  24990.000\n",
      "          Price\n",
      "Engi           \n",
      "0.0   -9575.125\n",
      "2.0    3260.000\n",
      "16.0 -20647.500\n",
      "18.0   8990.000\n"
     ]
    }
   ],
   "source": [
    "#Se calculan los valores límites a partir de los cuales se delimitarán los valores outliers\n",
    "iqr = (q3 - q1) * 1.5\n",
    "\n",
    "up_threshold = q3 + iqr\n",
    "low_threshold = q1 - iqr\n",
    "\n",
    "print(up_threshold)\n",
    "print(low_threshold)"
   ]
  },
  {
   "cell_type": "code",
   "execution_count": null,
   "id": "ab61975a",
   "metadata": {},
   "outputs": [],
   "source": []
  },
  {
   "cell_type": "markdown",
   "id": "3d00bab1",
   "metadata": {},
   "source": [
    "**Análisis de valores nulos en el Dataset**\n",
    "\n",
    "Porcentaje de nulos con respecto a cada columna en orden ascendente. \n",
    "\n",
    "Esto nos va a permitir poder sacar conclusiones acerca sobre cuales columnas van a ser completadas a partir de otros datos y cuales van a ser descartadas.  "
   ]
  },
  {
   "cell_type": "code",
   "execution_count": 4,
   "id": "2b1ce1de",
   "metadata": {},
   "outputs": [
    {
     "data": {
      "text/plain": [
       "floor                         93.483749\n",
       "expenses                      88.234615\n",
       "rooms                         60.905791\n",
       "price_usd_per_m2              43.394654\n",
       "lon                           42.525986\n",
       "lat-lon                       42.525986\n",
       "lat                           42.525986\n",
       "surface_total_in_m2           32.443491\n",
       "price_per_m2                  27.686850\n",
       "currency                      16.837981\n",
       "price_aprox_usd               16.837156\n",
       "price_aprox_local_currency    16.837156\n",
       "price                         16.837156\n",
       "surface_covered_in_m2         16.422208\n",
       "geonames_id                   15.440521\n",
       "image_thumbnail                2.567233\n",
       "place_name                     0.018974\n",
       "description                    0.001650\n",
       "title                          0.000000\n",
       "properati_url                  0.000000\n",
       "state_name                     0.000000\n",
       "country_name                   0.000000\n",
       "place_with_parent_names        0.000000\n",
       "property_type                  0.000000\n",
       "operation                      0.000000\n",
       "Unnamed: 0                     0.000000\n",
       "dtype: float64"
      ]
     },
     "execution_count": 4,
     "metadata": {},
     "output_type": "execute_result"
    }
   ],
   "source": [
    "(data.isnull().sum()/data.shape[0]*100).sort_values(ascending=False)"
   ]
  },
  {
   "cell_type": "markdown",
   "id": "9e0e4ba7",
   "metadata": {},
   "source": [
    "Exploramos un poco los datos para poder visualizar el contenido y las posibles relaciones\n"
   ]
  },
  {
   "cell_type": "code",
   "execution_count": 5,
   "id": "6b3a32db",
   "metadata": {},
   "outputs": [
    {
     "data": {
      "text/plain": [
       "Capital Federal                 32316\n",
       "Bs.As. G.B.A. Zona Norte        25560\n",
       "Bs.As. G.B.A. Zona Sur          13952\n",
       "Córdoba                         12069\n",
       "Santa Fe                        10172\n",
       "Buenos Aires Costa Atlántica    10006\n",
       "Bs.As. G.B.A. Zona Oeste         9322\n",
       "Buenos Aires Interior            2291\n",
       "Río Negro                         808\n",
       "Neuquén                           733\n",
       "Mendoza                           681\n",
       "Tucumán                           674\n",
       "Corrientes                        583\n",
       "Misiones                          464\n",
       "Entre Ríos                        369\n",
       "Salta                             278\n",
       "Chubut                            259\n",
       "San Luis                          252\n",
       "La Pampa                          157\n",
       "Formosa                            65\n",
       "Chaco                              57\n",
       "San Juan                           40\n",
       "Tierra Del Fuego                   31\n",
       "Catamarca                          27\n",
       "Jujuy                              26\n",
       "Santa Cruz                         20\n",
       "Santiago Del Estero                 4\n",
       "La Rioja                            4\n",
       "Name: state_name, dtype: int64"
      ]
     },
     "execution_count": 5,
     "metadata": {},
     "output_type": "execute_result"
    }
   ],
   "source": [
    "#Visualizamos el contenido de state_name\n",
    "data.state_name.value_counts()"
   ]
  },
  {
   "cell_type": "code",
   "execution_count": 6,
   "id": "af30277f",
   "metadata": {},
   "outputs": [
    {
     "data": {
      "text/plain": [
       "apartment    71065\n",
       "house        40268\n",
       "PH            5751\n",
       "store         4136\n",
       "Name: property_type, dtype: int64"
      ]
     },
     "execution_count": 6,
     "metadata": {},
     "output_type": "execute_result"
    }
   ],
   "source": [
    "#Tipos de propiedad y cantidad. Esto nos servirá para poder ver qué clasificación tenemos dentro de venta  \n",
    "tipo_propiedad = data[\"property_type\"]\n",
    "tipo_propiedad.value_counts()"
   ]
  },
  {
   "cell_type": "code",
   "execution_count": 7,
   "id": "2ae01f02",
   "metadata": {},
   "outputs": [
    {
     "data": {
      "text/plain": [
       "USD    87587\n",
       "ARS    13219\n",
       "PEN        2\n",
       "UYU        1\n",
       "Name: currency, dtype: int64"
      ]
     },
     "execution_count": 7,
     "metadata": {},
     "output_type": "execute_result"
    }
   ],
   "source": [
    "#Queremos ver cuantas divisas tiene la data\n",
    "\n",
    "divisas = data[\"currency\"]\n",
    "divisas.value_counts()"
   ]
  },
  {
   "cell_type": "code",
   "execution_count": 8,
   "id": "cac4a838",
   "metadata": {},
   "outputs": [
    {
     "data": {
      "text/html": [
       "<div>\n",
       "<style scoped>\n",
       "    .dataframe tbody tr th:only-of-type {\n",
       "        vertical-align: middle;\n",
       "    }\n",
       "\n",
       "    .dataframe tbody tr th {\n",
       "        vertical-align: top;\n",
       "    }\n",
       "\n",
       "    .dataframe thead th {\n",
       "        text-align: right;\n",
       "    }\n",
       "</style>\n",
       "<table border=\"1\" class=\"dataframe\">\n",
       "  <thead>\n",
       "    <tr style=\"text-align: right;\">\n",
       "      <th></th>\n",
       "      <th>surface_total_in_m2</th>\n",
       "    </tr>\n",
       "    <tr>\n",
       "      <th>property_type</th>\n",
       "      <th></th>\n",
       "    </tr>\n",
       "  </thead>\n",
       "  <tbody>\n",
       "    <tr>\n",
       "      <th>PH</th>\n",
       "      <td>122.297417</td>\n",
       "    </tr>\n",
       "    <tr>\n",
       "      <th>apartment</th>\n",
       "      <td>96.605873</td>\n",
       "    </tr>\n",
       "    <tr>\n",
       "      <th>house</th>\n",
       "      <td>507.438686</td>\n",
       "    </tr>\n",
       "    <tr>\n",
       "      <th>store</th>\n",
       "      <td>494.512403</td>\n",
       "    </tr>\n",
       "  </tbody>\n",
       "</table>\n",
       "</div>"
      ],
      "text/plain": [
       "               surface_total_in_m2\n",
       "property_type                     \n",
       "PH                      122.297417\n",
       "apartment                96.605873\n",
       "house                   507.438686\n",
       "store                   494.512403"
      ]
     },
     "execution_count": 8,
     "metadata": {},
     "output_type": "execute_result"
    }
   ],
   "source": [
    "#Media de m2 por propiedad\n",
    "data.groupby(['property_type'])[['surface_total_in_m2']].mean()"
   ]
  },
  {
   "cell_type": "markdown",
   "id": "9bc53bd6",
   "metadata": {},
   "source": [
    "Como podemos observar se trata de una base de datos de venta de inmuebles. Para poder completar de manera correcta los valores nulos, primero se debe comprender cuáles son las variables que más afectan en al valor de un inmueble.\n",
    "Luego de investigar, los variables que más afectan son: Tipo de propiedad, Ubicación, Tamaño, Altura, Conservación, Exterior, Orientación, Garaje, Piscina y Transporte público. (https://www.pisos.com/aldia/que-factores-influyen-mas-en-el-precio-de-una-vivienda/74990/)\n",
    "\n",
    "Es por ello que nos centraremos en poder completar las columnas que más afectan, en este caso serían: \n",
    "\n",
    "**Variable Tipo de propiedad**: Columna property_type se encuentra completa, sin nulos.\n",
    "**Variable Ubicación**: respecto a esta variable observamos que los datos se encuentran completos, sin nulos (Columnas: place_with_parent_names,country_name, state_name) \n",
    "**Variable Tamaño**: Columna surface_total_in_m2, de la cual nos falta el 32.44% es una columna prioritaria a completar al igual que la columna surface_covered_in_m2 y la columna rooms.\n",
    "**Variable Altura**: Columna floor por el momento no completaremos esta columna ya que nos falta el 93.48% \n",
    "\n",
    "Tambien nos centraremos en completar la **Variable Precio** price_aprox_usd y price_per_m2 en donde a ambas les falta un 16,83% de datos.\n"
   ]
  },
  {
   "cell_type": "markdown",
   "id": "1b516dbc",
   "metadata": {},
   "source": [
    "**Se completan los datos faltantes de Superficie total usando los datos de superficie cubierta**"
   ]
  },
  {
   "cell_type": "code",
   "execution_count": 9,
   "id": "5c71511c",
   "metadata": {},
   "outputs": [],
   "source": [
    "#Se crea una mascara para poder ver los datos de superficie cubierta no nulos\n",
    "m2_cubierto_mask=data['surface_covered_in_m2'].notnull()\n",
    "m2_cubierto_clean = data.surface_covered_in_m2.loc[m2_cubierto_mask]"
   ]
  },
  {
   "cell_type": "code",
   "execution_count": 10,
   "id": "a8d1b183",
   "metadata": {},
   "outputs": [],
   "source": [
    "#Se aplica la mascara \n",
    "data['m2_cubierto_clean'] = m2_cubierto_clean"
   ]
  },
  {
   "cell_type": "code",
   "execution_count": 11,
   "id": "4e415da4",
   "metadata": {},
   "outputs": [],
   "source": [
    "#Se rellena los datos nulos de surface_total_in_m2 con los datos no nulos de la columna surface_covered_in_m2\n",
    "data.surface_total_in_m2.fillna(data.m2_cubierto_clean, inplace = True)"
   ]
  },
  {
   "cell_type": "code",
   "execution_count": 12,
   "id": "ea15e87b",
   "metadata": {},
   "outputs": [
    {
     "data": {
      "text/html": [
       "<div>\n",
       "<style scoped>\n",
       "    .dataframe tbody tr th:only-of-type {\n",
       "        vertical-align: middle;\n",
       "    }\n",
       "\n",
       "    .dataframe tbody tr th {\n",
       "        vertical-align: top;\n",
       "    }\n",
       "\n",
       "    .dataframe thead th {\n",
       "        text-align: right;\n",
       "    }\n",
       "</style>\n",
       "<table border=\"1\" class=\"dataframe\">\n",
       "  <thead>\n",
       "    <tr style=\"text-align: right;\">\n",
       "      <th></th>\n",
       "      <th>surface_total_in_m2</th>\n",
       "      <th>m2_cubierto_clean</th>\n",
       "    </tr>\n",
       "  </thead>\n",
       "  <tbody>\n",
       "    <tr>\n",
       "      <th>0</th>\n",
       "      <td>55.0</td>\n",
       "      <td>40.0</td>\n",
       "    </tr>\n",
       "    <tr>\n",
       "      <th>1</th>\n",
       "      <td>NaN</td>\n",
       "      <td>NaN</td>\n",
       "    </tr>\n",
       "    <tr>\n",
       "      <th>2</th>\n",
       "      <td>55.0</td>\n",
       "      <td>55.0</td>\n",
       "    </tr>\n",
       "    <tr>\n",
       "      <th>3</th>\n",
       "      <td>NaN</td>\n",
       "      <td>NaN</td>\n",
       "    </tr>\n",
       "    <tr>\n",
       "      <th>4</th>\n",
       "      <td>35.0</td>\n",
       "      <td>35.0</td>\n",
       "    </tr>\n",
       "    <tr>\n",
       "      <th>...</th>\n",
       "      <td>...</td>\n",
       "      <td>...</td>\n",
       "    </tr>\n",
       "    <tr>\n",
       "      <th>451</th>\n",
       "      <td>55.0</td>\n",
       "      <td>55.0</td>\n",
       "    </tr>\n",
       "    <tr>\n",
       "      <th>452</th>\n",
       "      <td>NaN</td>\n",
       "      <td>NaN</td>\n",
       "    </tr>\n",
       "    <tr>\n",
       "      <th>453</th>\n",
       "      <td>100.0</td>\n",
       "      <td>100.0</td>\n",
       "    </tr>\n",
       "    <tr>\n",
       "      <th>454</th>\n",
       "      <td>53.0</td>\n",
       "      <td>53.0</td>\n",
       "    </tr>\n",
       "    <tr>\n",
       "      <th>455</th>\n",
       "      <td>170.0</td>\n",
       "      <td>430.0</td>\n",
       "    </tr>\n",
       "  </tbody>\n",
       "</table>\n",
       "<p>456 rows × 2 columns</p>\n",
       "</div>"
      ],
      "text/plain": [
       "     surface_total_in_m2  m2_cubierto_clean\n",
       "0                   55.0               40.0\n",
       "1                    NaN                NaN\n",
       "2                   55.0               55.0\n",
       "3                    NaN                NaN\n",
       "4                   35.0               35.0\n",
       "..                   ...                ...\n",
       "451                 55.0               55.0\n",
       "452                  NaN                NaN\n",
       "453                100.0              100.0\n",
       "454                 53.0               53.0\n",
       "455                170.0              430.0\n",
       "\n",
       "[456 rows x 2 columns]"
      ]
     },
     "execution_count": 12,
     "metadata": {},
     "output_type": "execute_result"
    }
   ],
   "source": [
    "#Visualización de cómo han quedado las columnas\n",
    "data[['surface_total_in_m2','m2_cubierto_clean']].head(456)"
   ]
  },
  {
   "cell_type": "code",
   "execution_count": 13,
   "id": "09cfbba9",
   "metadata": {},
   "outputs": [
    {
     "data": {
      "text/plain": [
       "10.203761755485893"
      ]
     },
     "execution_count": 13,
     "metadata": {},
     "output_type": "execute_result"
    }
   ],
   "source": [
    "(data.surface_total_in_m2.isnull().sum()/data.surface_total_in_m2.shape[0]*100)"
   ]
  },
  {
   "cell_type": "markdown",
   "id": "c05572a3",
   "metadata": {},
   "source": [
    "*Conclusión*\n",
    "La columna surface_total_in_m2, de la cual faltaba el 32.44% de los datos ahora sólo falta el 10%"
   ]
  },
  {
   "cell_type": "code",
   "execution_count": 14,
   "id": "86d06f79",
   "metadata": {},
   "outputs": [
    {
     "data": {
      "text/plain": [
       "121220"
      ]
     },
     "execution_count": 14,
     "metadata": {},
     "output_type": "execute_result"
    }
   ],
   "source": [
    "#Se crea un condicional para quedar con la mayor superficie como superficie total, \n",
    "#y de esa forma, corregir errores en algunas lineas\n",
    "sup_total = data.surface_total_in_m2\n",
    "sup_covered = data.m2_cubierto_clean\n",
    "\n",
    "len(sup_total)"
   ]
  },
  {
   "cell_type": "code",
   "execution_count": 15,
   "id": "b90bc473",
   "metadata": {},
   "outputs": [
    {
     "name": "stderr",
     "output_type": "stream",
     "text": [
      "C:\\Users\\gonza\\AppData\\Local\\Temp/ipykernel_15736/3673626874.py:3: SettingWithCopyWarning: \n",
      "A value is trying to be set on a copy of a slice from a DataFrame\n",
      "\n",
      "See the caveats in the documentation: https://pandas.pydata.org/pandas-docs/stable/user_guide/indexing.html#returning-a-view-versus-a-copy\n",
      "  sup_total[i] = sup_covered[i]\n"
     ]
    }
   ],
   "source": [
    "for i in range(len(sup_total)):\n",
    "    if  sup_covered[i] > sup_total[i]:\n",
    "            sup_total[i] = sup_covered[i] "
   ]
  },
  {
   "cell_type": "code",
   "execution_count": 16,
   "id": "bf175caf",
   "metadata": {},
   "outputs": [
    {
     "data": {
      "text/plain": [
       "0     55.0\n",
       "1      NaN\n",
       "2     55.0\n",
       "3      NaN\n",
       "4     35.0\n",
       "5     53.0\n",
       "6    106.0\n",
       "7     45.0\n",
       "8     65.0\n",
       "9      NaN\n",
       "Name: surface_total_in_m2, dtype: float64"
      ]
     },
     "execution_count": 16,
     "metadata": {},
     "output_type": "execute_result"
    }
   ],
   "source": [
    "sup_total.head(10)"
   ]
  },
  {
   "cell_type": "code",
   "execution_count": 17,
   "id": "1e9947a7",
   "metadata": {},
   "outputs": [],
   "source": [
    "data['surface_total_in_m2'] = sup_total"
   ]
  },
  {
   "cell_type": "code",
   "execution_count": 18,
   "id": "3d0a7599",
   "metadata": {},
   "outputs": [
    {
     "data": {
      "text/html": [
       "<div>\n",
       "<style scoped>\n",
       "    .dataframe tbody tr th:only-of-type {\n",
       "        vertical-align: middle;\n",
       "    }\n",
       "\n",
       "    .dataframe tbody tr th {\n",
       "        vertical-align: top;\n",
       "    }\n",
       "\n",
       "    .dataframe thead th {\n",
       "        text-align: right;\n",
       "    }\n",
       "</style>\n",
       "<table border=\"1\" class=\"dataframe\">\n",
       "  <thead>\n",
       "    <tr style=\"text-align: right;\">\n",
       "      <th></th>\n",
       "      <th>surface_total_in_m2</th>\n",
       "      <th>m2_cubierto_clean</th>\n",
       "    </tr>\n",
       "  </thead>\n",
       "  <tbody>\n",
       "    <tr>\n",
       "      <th>0</th>\n",
       "      <td>55.0</td>\n",
       "      <td>40.0</td>\n",
       "    </tr>\n",
       "    <tr>\n",
       "      <th>1</th>\n",
       "      <td>NaN</td>\n",
       "      <td>NaN</td>\n",
       "    </tr>\n",
       "    <tr>\n",
       "      <th>2</th>\n",
       "      <td>55.0</td>\n",
       "      <td>55.0</td>\n",
       "    </tr>\n",
       "    <tr>\n",
       "      <th>3</th>\n",
       "      <td>NaN</td>\n",
       "      <td>NaN</td>\n",
       "    </tr>\n",
       "    <tr>\n",
       "      <th>4</th>\n",
       "      <td>35.0</td>\n",
       "      <td>35.0</td>\n",
       "    </tr>\n",
       "    <tr>\n",
       "      <th>...</th>\n",
       "      <td>...</td>\n",
       "      <td>...</td>\n",
       "    </tr>\n",
       "    <tr>\n",
       "      <th>455</th>\n",
       "      <td>430.0</td>\n",
       "      <td>430.0</td>\n",
       "    </tr>\n",
       "    <tr>\n",
       "      <th>456</th>\n",
       "      <td>51.0</td>\n",
       "      <td>51.0</td>\n",
       "    </tr>\n",
       "    <tr>\n",
       "      <th>457</th>\n",
       "      <td>69.0</td>\n",
       "      <td>69.0</td>\n",
       "    </tr>\n",
       "    <tr>\n",
       "      <th>458</th>\n",
       "      <td>20.0</td>\n",
       "      <td>20.0</td>\n",
       "    </tr>\n",
       "    <tr>\n",
       "      <th>459</th>\n",
       "      <td>69.0</td>\n",
       "      <td>69.0</td>\n",
       "    </tr>\n",
       "  </tbody>\n",
       "</table>\n",
       "<p>460 rows × 2 columns</p>\n",
       "</div>"
      ],
      "text/plain": [
       "     surface_total_in_m2  m2_cubierto_clean\n",
       "0                   55.0               40.0\n",
       "1                    NaN                NaN\n",
       "2                   55.0               55.0\n",
       "3                    NaN                NaN\n",
       "4                   35.0               35.0\n",
       "..                   ...                ...\n",
       "455                430.0              430.0\n",
       "456                 51.0               51.0\n",
       "457                 69.0               69.0\n",
       "458                 20.0               20.0\n",
       "459                 69.0               69.0\n",
       "\n",
       "[460 rows x 2 columns]"
      ]
     },
     "execution_count": 18,
     "metadata": {},
     "output_type": "execute_result"
    }
   ],
   "source": [
    "#Visualización de cómo han quedado las columnas. Se pone la cantidad de 460 debido a que el indice 455 anteriormente era uno de los\n",
    "#valores a corregir\n",
    "data[['surface_total_in_m2','m2_cubierto_clean']].head(460)"
   ]
  },
  {
   "cell_type": "markdown",
   "id": "3a99ad01",
   "metadata": {},
   "source": [
    "**Se identifican Outliers de Superficie**\n"
   ]
  },
  {
   "cell_type": "code",
   "execution_count": 19,
   "id": "ba3516fa",
   "metadata": {},
   "outputs": [
    {
     "data": {
      "text/html": [
       "<div>\n",
       "<style scoped>\n",
       "    .dataframe tbody tr th:only-of-type {\n",
       "        vertical-align: middle;\n",
       "    }\n",
       "\n",
       "    .dataframe tbody tr th {\n",
       "        vertical-align: top;\n",
       "    }\n",
       "\n",
       "    .dataframe thead tr th {\n",
       "        text-align: left;\n",
       "    }\n",
       "\n",
       "    .dataframe thead tr:last-of-type th {\n",
       "        text-align: right;\n",
       "    }\n",
       "</style>\n",
       "<table border=\"1\" class=\"dataframe\">\n",
       "  <thead>\n",
       "    <tr>\n",
       "      <th></th>\n",
       "      <th colspan=\"8\" halign=\"left\">surface_total_in_m2</th>\n",
       "    </tr>\n",
       "    <tr>\n",
       "      <th></th>\n",
       "      <th>count</th>\n",
       "      <th>mean</th>\n",
       "      <th>std</th>\n",
       "      <th>min</th>\n",
       "      <th>25%</th>\n",
       "      <th>50%</th>\n",
       "      <th>75%</th>\n",
       "      <th>max</th>\n",
       "    </tr>\n",
       "    <tr>\n",
       "      <th>property_type</th>\n",
       "      <th></th>\n",
       "      <th></th>\n",
       "      <th></th>\n",
       "      <th></th>\n",
       "      <th></th>\n",
       "      <th></th>\n",
       "      <th></th>\n",
       "      <th></th>\n",
       "    </tr>\n",
       "  </thead>\n",
       "  <tbody>\n",
       "    <tr>\n",
       "      <th>PH</th>\n",
       "      <td>5154.0</td>\n",
       "      <td>112.252619</td>\n",
       "      <td>279.355981</td>\n",
       "      <td>0.0</td>\n",
       "      <td>58.0</td>\n",
       "      <td>85.0</td>\n",
       "      <td>130.0</td>\n",
       "      <td>14742.0</td>\n",
       "    </tr>\n",
       "    <tr>\n",
       "      <th>apartment</th>\n",
       "      <td>64764.0</td>\n",
       "      <td>97.207137</td>\n",
       "      <td>1618.932730</td>\n",
       "      <td>0.0</td>\n",
       "      <td>43.0</td>\n",
       "      <td>58.0</td>\n",
       "      <td>85.0</td>\n",
       "      <td>200000.0</td>\n",
       "    </tr>\n",
       "    <tr>\n",
       "      <th>house</th>\n",
       "      <td>35318.0</td>\n",
       "      <td>420.360808</td>\n",
       "      <td>1818.956020</td>\n",
       "      <td>0.0</td>\n",
       "      <td>150.0</td>\n",
       "      <td>240.0</td>\n",
       "      <td>395.0</td>\n",
       "      <td>154438.0</td>\n",
       "    </tr>\n",
       "    <tr>\n",
       "      <th>store</th>\n",
       "      <td>3615.0</td>\n",
       "      <td>454.254219</td>\n",
       "      <td>2101.752930</td>\n",
       "      <td>0.0</td>\n",
       "      <td>45.0</td>\n",
       "      <td>130.0</td>\n",
       "      <td>329.0</td>\n",
       "      <td>93000.0</td>\n",
       "    </tr>\n",
       "  </tbody>\n",
       "</table>\n",
       "</div>"
      ],
      "text/plain": [
       "              surface_total_in_m2                                              \\\n",
       "                            count        mean          std  min    25%    50%   \n",
       "property_type                                                                   \n",
       "PH                         5154.0  112.252619   279.355981  0.0   58.0   85.0   \n",
       "apartment                 64764.0   97.207137  1618.932730  0.0   43.0   58.0   \n",
       "house                     35318.0  420.360808  1818.956020  0.0  150.0  240.0   \n",
       "store                      3615.0  454.254219  2101.752930  0.0   45.0  130.0   \n",
       "\n",
       "                                \n",
       "                 75%       max  \n",
       "property_type                   \n",
       "PH             130.0   14742.0  \n",
       "apartment       85.0  200000.0  \n",
       "house          395.0  154438.0  \n",
       "store          329.0   93000.0  "
      ]
     },
     "execution_count": 19,
     "metadata": {},
     "output_type": "execute_result"
    }
   ],
   "source": [
    "#Identificamos nuestra problación que serán los surface_total_in_m2 según property_type\n",
    "\n",
    "data_superficie = data.groupby(['property_type'])[['surface_total_in_m2']]\n",
    "\n",
    "#data[\"condicion\"] = data.groupby(\"property_type\")[\"Surface_total_in_m2\"].transform(lambda grp: grp < up_threshold[grp.name] )\n",
    "\n",
    "data_superficie_count = data_superficie.count()\n",
    "\n",
    "data_superficie.describe()"
   ]
  },
  {
   "cell_type": "code",
   "execution_count": 20,
   "id": "94bd294f",
   "metadata": {},
   "outputs": [
    {
     "name": "stdout",
     "output_type": "stream",
     "text": [
      "               surface_total_in_m2\n",
      "property_type                     \n",
      "PH                            58.0\n",
      "apartment                     43.0\n",
      "house                        150.0\n",
      "store                         45.0\n",
      "               surface_total_in_m2\n",
      "property_type                     \n",
      "PH                            85.0\n",
      "apartment                     58.0\n",
      "house                        240.0\n",
      "store                        130.0\n",
      "               surface_total_in_m2\n",
      "property_type                     \n",
      "PH                           130.0\n",
      "apartment                     85.0\n",
      "house                        395.0\n",
      "store                        329.0\n"
     ]
    }
   ],
   "source": [
    "#Se calculan los cuartiles\n",
    "q1 = data_superficie.quantile(0.25)\n",
    "print(q1)\n",
    "q2 = data_superficie.quantile(0.5)\n",
    "print(q2)\n",
    "q3 = data_superficie.quantile(0.75)\n",
    "print(q3)"
   ]
  },
  {
   "cell_type": "code",
   "execution_count": 21,
   "id": "611e1174",
   "metadata": {},
   "outputs": [
    {
     "name": "stdout",
     "output_type": "stream",
     "text": [
      "               surface_total_in_m2\n",
      "property_type                     \n",
      "PH                           238.0\n",
      "apartment                    148.0\n",
      "house                        762.5\n",
      "store                        755.0\n",
      "               surface_total_in_m2\n",
      "property_type                     \n",
      "PH                           -50.0\n",
      "apartment                    -20.0\n",
      "house                       -217.5\n",
      "store                       -381.0\n"
     ]
    }
   ],
   "source": [
    "#Se calculan los valores límites a partir de los cuales se delimitarán los valores outliers\n",
    "iqr = (q3 - q1) * 1.5\n",
    "\n",
    "up_threshold = q3 + iqr\n",
    "low_threshold = q1 - iqr\n",
    "\n",
    "print(up_threshold)\n",
    "print(low_threshold)"
   ]
  },
  {
   "cell_type": "code",
   "execution_count": 22,
   "id": "26fb6af1",
   "metadata": {},
   "outputs": [],
   "source": [
    "data[\"condicion\"] = data.groupby(\"property_type\")[\"surface_total_in_m2\"].transform(lambda grp:  (grp < up_threshold['surface_total_in_m2'][grp.name]))\n",
    "#data[\"condicion\"] = data.groupby(\"property_type\")[\"surface_total_in_m2\"].transform(lambda grp:  (grp < up_threshold['surface_total_in_m2'][grp.name]) | (grp > low_threshold['surface_total_in_m2'][grp.name])  )"
   ]
  },
  {
   "cell_type": "code",
   "execution_count": 23,
   "id": "017dc0d9",
   "metadata": {},
   "outputs": [
    {
     "data": {
      "text/plain": [
       "Index(['PH', 'apartment', 'house', 'store'], dtype='object', name='property_type')"
      ]
     },
     "execution_count": 23,
     "metadata": {},
     "output_type": "execute_result"
    }
   ],
   "source": [
    "up_threshold.index"
   ]
  },
  {
   "cell_type": "code",
   "execution_count": 24,
   "id": "302f30e2",
   "metadata": {},
   "outputs": [
    {
     "data": {
      "text/html": [
       "<div>\n",
       "<style scoped>\n",
       "    .dataframe tbody tr th:only-of-type {\n",
       "        vertical-align: middle;\n",
       "    }\n",
       "\n",
       "    .dataframe tbody tr th {\n",
       "        vertical-align: top;\n",
       "    }\n",
       "\n",
       "    .dataframe thead th {\n",
       "        text-align: right;\n",
       "    }\n",
       "</style>\n",
       "<table border=\"1\" class=\"dataframe\">\n",
       "  <thead>\n",
       "    <tr style=\"text-align: right;\">\n",
       "      <th></th>\n",
       "      <th>surface_total_in_m2</th>\n",
       "    </tr>\n",
       "    <tr>\n",
       "      <th>property_type</th>\n",
       "      <th></th>\n",
       "    </tr>\n",
       "  </thead>\n",
       "  <tbody>\n",
       "    <tr>\n",
       "      <th>PH</th>\n",
       "      <td>238.0</td>\n",
       "    </tr>\n",
       "    <tr>\n",
       "      <th>apartment</th>\n",
       "      <td>148.0</td>\n",
       "    </tr>\n",
       "    <tr>\n",
       "      <th>house</th>\n",
       "      <td>762.5</td>\n",
       "    </tr>\n",
       "    <tr>\n",
       "      <th>store</th>\n",
       "      <td>755.0</td>\n",
       "    </tr>\n",
       "  </tbody>\n",
       "</table>\n",
       "</div>"
      ],
      "text/plain": [
       "               surface_total_in_m2\n",
       "property_type                     \n",
       "PH                           238.0\n",
       "apartment                    148.0\n",
       "house                        762.5\n",
       "store                        755.0"
      ]
     },
     "metadata": {},
     "output_type": "display_data"
    }
   ],
   "source": [
    "display(up_threshold)"
   ]
  },
  {
   "cell_type": "code",
   "execution_count": 25,
   "id": "8b4948ff",
   "metadata": {},
   "outputs": [
    {
     "data": {
      "text/html": [
       "<div>\n",
       "<style scoped>\n",
       "    .dataframe tbody tr th:only-of-type {\n",
       "        vertical-align: middle;\n",
       "    }\n",
       "\n",
       "    .dataframe tbody tr th {\n",
       "        vertical-align: top;\n",
       "    }\n",
       "\n",
       "    .dataframe thead th {\n",
       "        text-align: right;\n",
       "    }\n",
       "</style>\n",
       "<table border=\"1\" class=\"dataframe\">\n",
       "  <thead>\n",
       "    <tr style=\"text-align: right;\">\n",
       "      <th></th>\n",
       "      <th>property_type</th>\n",
       "      <th>condicion</th>\n",
       "      <th>surface_total_in_m2</th>\n",
       "    </tr>\n",
       "  </thead>\n",
       "  <tbody>\n",
       "    <tr>\n",
       "      <th>0</th>\n",
       "      <td>PH</td>\n",
       "      <td>True</td>\n",
       "      <td>55.0</td>\n",
       "    </tr>\n",
       "    <tr>\n",
       "      <th>1</th>\n",
       "      <td>apartment</td>\n",
       "      <td>False</td>\n",
       "      <td>NaN</td>\n",
       "    </tr>\n",
       "    <tr>\n",
       "      <th>2</th>\n",
       "      <td>apartment</td>\n",
       "      <td>True</td>\n",
       "      <td>55.0</td>\n",
       "    </tr>\n",
       "    <tr>\n",
       "      <th>3</th>\n",
       "      <td>PH</td>\n",
       "      <td>False</td>\n",
       "      <td>NaN</td>\n",
       "    </tr>\n",
       "    <tr>\n",
       "      <th>4</th>\n",
       "      <td>apartment</td>\n",
       "      <td>True</td>\n",
       "      <td>35.0</td>\n",
       "    </tr>\n",
       "    <tr>\n",
       "      <th>5</th>\n",
       "      <td>house</td>\n",
       "      <td>True</td>\n",
       "      <td>53.0</td>\n",
       "    </tr>\n",
       "    <tr>\n",
       "      <th>6</th>\n",
       "      <td>PH</td>\n",
       "      <td>True</td>\n",
       "      <td>106.0</td>\n",
       "    </tr>\n",
       "    <tr>\n",
       "      <th>7</th>\n",
       "      <td>apartment</td>\n",
       "      <td>True</td>\n",
       "      <td>45.0</td>\n",
       "    </tr>\n",
       "    <tr>\n",
       "      <th>8</th>\n",
       "      <td>apartment</td>\n",
       "      <td>True</td>\n",
       "      <td>65.0</td>\n",
       "    </tr>\n",
       "    <tr>\n",
       "      <th>9</th>\n",
       "      <td>house</td>\n",
       "      <td>False</td>\n",
       "      <td>NaN</td>\n",
       "    </tr>\n",
       "    <tr>\n",
       "      <th>10</th>\n",
       "      <td>house</td>\n",
       "      <td>False</td>\n",
       "      <td>1514.0</td>\n",
       "    </tr>\n",
       "    <tr>\n",
       "      <th>11</th>\n",
       "      <td>house</td>\n",
       "      <td>False</td>\n",
       "      <td>NaN</td>\n",
       "    </tr>\n",
       "    <tr>\n",
       "      <th>12</th>\n",
       "      <td>apartment</td>\n",
       "      <td>True</td>\n",
       "      <td>39.0</td>\n",
       "    </tr>\n",
       "    <tr>\n",
       "      <th>13</th>\n",
       "      <td>apartment</td>\n",
       "      <td>True</td>\n",
       "      <td>50.0</td>\n",
       "    </tr>\n",
       "    <tr>\n",
       "      <th>14</th>\n",
       "      <td>apartment</td>\n",
       "      <td>True</td>\n",
       "      <td>42.0</td>\n",
       "    </tr>\n",
       "    <tr>\n",
       "      <th>15</th>\n",
       "      <td>house</td>\n",
       "      <td>True</td>\n",
       "      <td>164.0</td>\n",
       "    </tr>\n",
       "    <tr>\n",
       "      <th>16</th>\n",
       "      <td>PH</td>\n",
       "      <td>True</td>\n",
       "      <td>140.0</td>\n",
       "    </tr>\n",
       "    <tr>\n",
       "      <th>17</th>\n",
       "      <td>apartment</td>\n",
       "      <td>False</td>\n",
       "      <td>176.0</td>\n",
       "    </tr>\n",
       "    <tr>\n",
       "      <th>18</th>\n",
       "      <td>house</td>\n",
       "      <td>True</td>\n",
       "      <td>270.0</td>\n",
       "    </tr>\n",
       "    <tr>\n",
       "      <th>19</th>\n",
       "      <td>apartment</td>\n",
       "      <td>True</td>\n",
       "      <td>104.0</td>\n",
       "    </tr>\n",
       "  </tbody>\n",
       "</table>\n",
       "</div>"
      ],
      "text/plain": [
       "   property_type  condicion  surface_total_in_m2\n",
       "0             PH       True                 55.0\n",
       "1      apartment      False                  NaN\n",
       "2      apartment       True                 55.0\n",
       "3             PH      False                  NaN\n",
       "4      apartment       True                 35.0\n",
       "5          house       True                 53.0\n",
       "6             PH       True                106.0\n",
       "7      apartment       True                 45.0\n",
       "8      apartment       True                 65.0\n",
       "9          house      False                  NaN\n",
       "10         house      False               1514.0\n",
       "11         house      False                  NaN\n",
       "12     apartment       True                 39.0\n",
       "13     apartment       True                 50.0\n",
       "14     apartment       True                 42.0\n",
       "15         house       True                164.0\n",
       "16            PH       True                140.0\n",
       "17     apartment      False                176.0\n",
       "18         house       True                270.0\n",
       "19     apartment       True                104.0"
      ]
     },
     "execution_count": 25,
     "metadata": {},
     "output_type": "execute_result"
    }
   ],
   "source": [
    "data[['property_type','condicion','surface_total_in_m2']].head(20)"
   ]
  },
  {
   "cell_type": "code",
   "execution_count": 26,
   "id": "dfd434b7",
   "metadata": {},
   "outputs": [],
   "source": [
    "#Chequeamos que lo valores para PH superiores a 238  sean outliers\n",
    "ph_mayor = data['property_type'] == 'PH'\n",
    "mayor = data['surface_total_in_m2'] > 238\n",
    "doble_mask = ph_mayor & mayor \n",
    "data_ph_mayor = data[doble_mask]"
   ]
  },
  {
   "cell_type": "code",
   "execution_count": 27,
   "id": "dbf6525a",
   "metadata": {},
   "outputs": [
    {
     "data": {
      "text/html": [
       "<div>\n",
       "<style scoped>\n",
       "    .dataframe tbody tr th:only-of-type {\n",
       "        vertical-align: middle;\n",
       "    }\n",
       "\n",
       "    .dataframe tbody tr th {\n",
       "        vertical-align: top;\n",
       "    }\n",
       "\n",
       "    .dataframe thead th {\n",
       "        text-align: right;\n",
       "    }\n",
       "</style>\n",
       "<table border=\"1\" class=\"dataframe\">\n",
       "  <thead>\n",
       "    <tr style=\"text-align: right;\">\n",
       "      <th></th>\n",
       "      <th>property_type</th>\n",
       "      <th>condicion</th>\n",
       "      <th>surface_total_in_m2</th>\n",
       "    </tr>\n",
       "  </thead>\n",
       "  <tbody>\n",
       "    <tr>\n",
       "      <th>116</th>\n",
       "      <td>PH</td>\n",
       "      <td>False</td>\n",
       "      <td>330.0</td>\n",
       "    </tr>\n",
       "    <tr>\n",
       "      <th>135</th>\n",
       "      <td>PH</td>\n",
       "      <td>False</td>\n",
       "      <td>260.0</td>\n",
       "    </tr>\n",
       "    <tr>\n",
       "      <th>203</th>\n",
       "      <td>PH</td>\n",
       "      <td>False</td>\n",
       "      <td>240.0</td>\n",
       "    </tr>\n",
       "    <tr>\n",
       "      <th>557</th>\n",
       "      <td>PH</td>\n",
       "      <td>False</td>\n",
       "      <td>326.0</td>\n",
       "    </tr>\n",
       "    <tr>\n",
       "      <th>1644</th>\n",
       "      <td>PH</td>\n",
       "      <td>False</td>\n",
       "      <td>415.0</td>\n",
       "    </tr>\n",
       "    <tr>\n",
       "      <th>1650</th>\n",
       "      <td>PH</td>\n",
       "      <td>False</td>\n",
       "      <td>265.0</td>\n",
       "    </tr>\n",
       "    <tr>\n",
       "      <th>4377</th>\n",
       "      <td>PH</td>\n",
       "      <td>False</td>\n",
       "      <td>285.0</td>\n",
       "    </tr>\n",
       "    <tr>\n",
       "      <th>4770</th>\n",
       "      <td>PH</td>\n",
       "      <td>False</td>\n",
       "      <td>324.0</td>\n",
       "    </tr>\n",
       "    <tr>\n",
       "      <th>4887</th>\n",
       "      <td>PH</td>\n",
       "      <td>False</td>\n",
       "      <td>250.0</td>\n",
       "    </tr>\n",
       "    <tr>\n",
       "      <th>4901</th>\n",
       "      <td>PH</td>\n",
       "      <td>False</td>\n",
       "      <td>310.0</td>\n",
       "    </tr>\n",
       "    <tr>\n",
       "      <th>5351</th>\n",
       "      <td>PH</td>\n",
       "      <td>False</td>\n",
       "      <td>407.0</td>\n",
       "    </tr>\n",
       "    <tr>\n",
       "      <th>5639</th>\n",
       "      <td>PH</td>\n",
       "      <td>False</td>\n",
       "      <td>522.0</td>\n",
       "    </tr>\n",
       "    <tr>\n",
       "      <th>6402</th>\n",
       "      <td>PH</td>\n",
       "      <td>False</td>\n",
       "      <td>900.0</td>\n",
       "    </tr>\n",
       "    <tr>\n",
       "      <th>6418</th>\n",
       "      <td>PH</td>\n",
       "      <td>False</td>\n",
       "      <td>290.0</td>\n",
       "    </tr>\n",
       "    <tr>\n",
       "      <th>6419</th>\n",
       "      <td>PH</td>\n",
       "      <td>False</td>\n",
       "      <td>290.0</td>\n",
       "    </tr>\n",
       "    <tr>\n",
       "      <th>6883</th>\n",
       "      <td>PH</td>\n",
       "      <td>False</td>\n",
       "      <td>300.0</td>\n",
       "    </tr>\n",
       "    <tr>\n",
       "      <th>7055</th>\n",
       "      <td>PH</td>\n",
       "      <td>False</td>\n",
       "      <td>268.0</td>\n",
       "    </tr>\n",
       "    <tr>\n",
       "      <th>7668</th>\n",
       "      <td>PH</td>\n",
       "      <td>False</td>\n",
       "      <td>250.0</td>\n",
       "    </tr>\n",
       "    <tr>\n",
       "      <th>7710</th>\n",
       "      <td>PH</td>\n",
       "      <td>False</td>\n",
       "      <td>280.0</td>\n",
       "    </tr>\n",
       "    <tr>\n",
       "      <th>7711</th>\n",
       "      <td>PH</td>\n",
       "      <td>False</td>\n",
       "      <td>280.0</td>\n",
       "    </tr>\n",
       "  </tbody>\n",
       "</table>\n",
       "</div>"
      ],
      "text/plain": [
       "     property_type  condicion  surface_total_in_m2\n",
       "116             PH      False                330.0\n",
       "135             PH      False                260.0\n",
       "203             PH      False                240.0\n",
       "557             PH      False                326.0\n",
       "1644            PH      False                415.0\n",
       "1650            PH      False                265.0\n",
       "4377            PH      False                285.0\n",
       "4770            PH      False                324.0\n",
       "4887            PH      False                250.0\n",
       "4901            PH      False                310.0\n",
       "5351            PH      False                407.0\n",
       "5639            PH      False                522.0\n",
       "6402            PH      False                900.0\n",
       "6418            PH      False                290.0\n",
       "6419            PH      False                290.0\n",
       "6883            PH      False                300.0\n",
       "7055            PH      False                268.0\n",
       "7668            PH      False                250.0\n",
       "7710            PH      False                280.0\n",
       "7711            PH      False                280.0"
      ]
     },
     "execution_count": 27,
     "metadata": {},
     "output_type": "execute_result"
    }
   ],
   "source": [
    "data_ph_mayor[['property_type','condicion','surface_total_in_m2']].head(20)"
   ]
  },
  {
   "cell_type": "code",
   "execution_count": 28,
   "id": "b254142b",
   "metadata": {},
   "outputs": [
    {
     "data": {
      "text/plain": [
       "<AxesSubplot:title={'center':'surface_total_in_m2'}, xlabel='property_type'>"
      ]
     },
     "execution_count": 28,
     "metadata": {},
     "output_type": "execute_result"
    },
    {
     "data": {
      "image/png": "[encoded data removed]",
      "text/plain": [
       "<Figure size 432x288 with 1 Axes>"
      ]
     },
     "metadata": {
      "needs_background": "light"
     },
     "output_type": "display_data"
    }
   ],
   "source": [
    "#Se grafican los valores para visualizar los outliers según property_type en la Data base\n",
    "data.boxplot(by='property_type',column= ['surface_total_in_m2']) "
   ]
  },
  {
   "cell_type": "code",
   "execution_count": 29,
   "id": "683d7ad6",
   "metadata": {},
   "outputs": [],
   "source": [
    "data = data.loc[data.condicion,:]"
   ]
  },
  {
   "cell_type": "code",
   "execution_count": 30,
   "id": "0407f33a",
   "metadata": {},
   "outputs": [
    {
     "data": {
      "text/html": [
       "<div>\n",
       "<style scoped>\n",
       "    .dataframe tbody tr th:only-of-type {\n",
       "        vertical-align: middle;\n",
       "    }\n",
       "\n",
       "    .dataframe tbody tr th {\n",
       "        vertical-align: top;\n",
       "    }\n",
       "\n",
       "    .dataframe thead tr th {\n",
       "        text-align: left;\n",
       "    }\n",
       "\n",
       "    .dataframe thead tr:last-of-type th {\n",
       "        text-align: right;\n",
       "    }\n",
       "</style>\n",
       "<table border=\"1\" class=\"dataframe\">\n",
       "  <thead>\n",
       "    <tr>\n",
       "      <th></th>\n",
       "      <th colspan=\"8\" halign=\"left\">surface_total_in_m2</th>\n",
       "    </tr>\n",
       "    <tr>\n",
       "      <th></th>\n",
       "      <th>count</th>\n",
       "      <th>mean</th>\n",
       "      <th>std</th>\n",
       "      <th>min</th>\n",
       "      <th>25%</th>\n",
       "      <th>50%</th>\n",
       "      <th>75%</th>\n",
       "      <th>max</th>\n",
       "    </tr>\n",
       "    <tr>\n",
       "      <th>property_type</th>\n",
       "      <th></th>\n",
       "      <th></th>\n",
       "      <th></th>\n",
       "      <th></th>\n",
       "      <th></th>\n",
       "      <th></th>\n",
       "      <th></th>\n",
       "      <th></th>\n",
       "    </tr>\n",
       "  </thead>\n",
       "  <tbody>\n",
       "    <tr>\n",
       "      <th>PH</th>\n",
       "      <td>4869.0</td>\n",
       "      <td>91.734648</td>\n",
       "      <td>48.681707</td>\n",
       "      <td>0.0</td>\n",
       "      <td>56.0</td>\n",
       "      <td>80.0</td>\n",
       "      <td>120.0</td>\n",
       "      <td>237.0</td>\n",
       "    </tr>\n",
       "    <tr>\n",
       "      <th>apartment</th>\n",
       "      <td>59909.0</td>\n",
       "      <td>62.259677</td>\n",
       "      <td>27.676153</td>\n",
       "      <td>0.0</td>\n",
       "      <td>42.0</td>\n",
       "      <td>55.0</td>\n",
       "      <td>77.0</td>\n",
       "      <td>147.0</td>\n",
       "    </tr>\n",
       "    <tr>\n",
       "      <th>house</th>\n",
       "      <td>31821.0</td>\n",
       "      <td>251.989881</td>\n",
       "      <td>153.180059</td>\n",
       "      <td>0.0</td>\n",
       "      <td>142.0</td>\n",
       "      <td>220.0</td>\n",
       "      <td>325.0</td>\n",
       "      <td>762.0</td>\n",
       "    </tr>\n",
       "    <tr>\n",
       "      <th>store</th>\n",
       "      <td>3234.0</td>\n",
       "      <td>170.283859</td>\n",
       "      <td>169.499001</td>\n",
       "      <td>0.0</td>\n",
       "      <td>40.0</td>\n",
       "      <td>105.0</td>\n",
       "      <td>250.0</td>\n",
       "      <td>752.0</td>\n",
       "    </tr>\n",
       "  </tbody>\n",
       "</table>\n",
       "</div>"
      ],
      "text/plain": [
       "              surface_total_in_m2                                             \\\n",
       "                            count        mean         std  min    25%    50%   \n",
       "property_type                                                                  \n",
       "PH                         4869.0   91.734648   48.681707  0.0   56.0   80.0   \n",
       "apartment                 59909.0   62.259677   27.676153  0.0   42.0   55.0   \n",
       "house                     31821.0  251.989881  153.180059  0.0  142.0  220.0   \n",
       "store                      3234.0  170.283859  169.499001  0.0   40.0  105.0   \n",
       "\n",
       "                             \n",
       "                 75%    max  \n",
       "property_type                \n",
       "PH             120.0  237.0  \n",
       "apartment       77.0  147.0  \n",
       "house          325.0  762.0  \n",
       "store          250.0  752.0  "
      ]
     },
     "execution_count": 30,
     "metadata": {},
     "output_type": "execute_result"
    }
   ],
   "source": [
    "data_superficie = data.groupby(['property_type'])[['surface_total_in_m2']]\n",
    "data_superficie.describe()"
   ]
  },
  {
   "cell_type": "code",
   "execution_count": 31,
   "id": "66acddf7",
   "metadata": {},
   "outputs": [
    {
     "data": {
      "text/plain": [
       "<AxesSubplot:title={'center':'surface_total_in_m2'}, xlabel='property_type'>"
      ]
     },
     "execution_count": 31,
     "metadata": {},
     "output_type": "execute_result"
    },
    {
     "data": {
      "image/png": "[encoded data removed]",
      "text/plain": [
       "<Figure size 432x288 with 1 Axes>"
      ]
     },
     "metadata": {
      "needs_background": "light"
     },
     "output_type": "display_data"
    }
   ],
   "source": [
    "#Se grafican los valores para visualizar los valores luego de haber realizado la limpieza de outliers\n",
    "data.boxplot(by='property_type',column= ['surface_total_in_m2']) "
   ]
  },
  {
   "cell_type": "code",
   "execution_count": 32,
   "id": "5e3dfb0a",
   "metadata": {},
   "outputs": [
    {
     "data": {
      "text/plain": [
       "(99833, 28)"
      ]
     },
     "execution_count": 32,
     "metadata": {},
     "output_type": "execute_result"
    }
   ],
   "source": [
    "#Se verifica cuantos datos han quedado luego de la limpieza\n",
    "data.shape"
   ]
  },
  {
   "cell_type": "code",
   "execution_count": 33,
   "id": "15a3316f",
   "metadata": {},
   "outputs": [
    {
     "data": {
      "text/html": [
       "<div>\n",
       "<style scoped>\n",
       "    .dataframe tbody tr th:only-of-type {\n",
       "        vertical-align: middle;\n",
       "    }\n",
       "\n",
       "    .dataframe tbody tr th {\n",
       "        vertical-align: top;\n",
       "    }\n",
       "\n",
       "    .dataframe thead th {\n",
       "        text-align: right;\n",
       "    }\n",
       "</style>\n",
       "<table border=\"1\" class=\"dataframe\">\n",
       "  <thead>\n",
       "    <tr style=\"text-align: right;\">\n",
       "      <th></th>\n",
       "      <th>Unnamed: 0</th>\n",
       "      <th>operation</th>\n",
       "      <th>property_type</th>\n",
       "      <th>place_name</th>\n",
       "      <th>place_with_parent_names</th>\n",
       "      <th>country_name</th>\n",
       "      <th>state_name</th>\n",
       "      <th>geonames_id</th>\n",
       "      <th>lat-lon</th>\n",
       "      <th>lat</th>\n",
       "      <th>...</th>\n",
       "      <th>price_per_m2</th>\n",
       "      <th>floor</th>\n",
       "      <th>rooms</th>\n",
       "      <th>expenses</th>\n",
       "      <th>properati_url</th>\n",
       "      <th>description</th>\n",
       "      <th>title</th>\n",
       "      <th>image_thumbnail</th>\n",
       "      <th>m2_cubierto_clean</th>\n",
       "      <th>condicion</th>\n",
       "    </tr>\n",
       "  </thead>\n",
       "  <tbody>\n",
       "    <tr>\n",
       "      <th>0</th>\n",
       "      <td>0</td>\n",
       "      <td>sell</td>\n",
       "      <td>PH</td>\n",
       "      <td>Mataderos</td>\n",
       "      <td>|Argentina|Capital Federal|Mataderos|</td>\n",
       "      <td>Argentina</td>\n",
       "      <td>Capital Federal</td>\n",
       "      <td>3430787.0</td>\n",
       "      <td>-34.6618237,-58.5088387</td>\n",
       "      <td>-34.661824</td>\n",
       "      <td>...</td>\n",
       "      <td>1550.000000</td>\n",
       "      <td>NaN</td>\n",
       "      <td>NaN</td>\n",
       "      <td>NaN</td>\n",
       "      <td>http://www.properati.com.ar/15bo8_venta_ph_mat...</td>\n",
       "      <td>2 AMBIENTES TIPO CASA PLANTA BAJA POR PASILLO,...</td>\n",
       "      <td>2 AMB TIPO CASA SIN EXPENSAS EN PB</td>\n",
       "      <td>https://thumbs4.properati.com/8/BluUYiHJLhgIIK...</td>\n",
       "      <td>40.0</td>\n",
       "      <td>True</td>\n",
       "    </tr>\n",
       "    <tr>\n",
       "      <th>2</th>\n",
       "      <td>2</td>\n",
       "      <td>sell</td>\n",
       "      <td>apartment</td>\n",
       "      <td>Mataderos</td>\n",
       "      <td>|Argentina|Capital Federal|Mataderos|</td>\n",
       "      <td>Argentina</td>\n",
       "      <td>Capital Federal</td>\n",
       "      <td>3430787.0</td>\n",
       "      <td>-34.6522615,-58.5229825</td>\n",
       "      <td>-34.652262</td>\n",
       "      <td>...</td>\n",
       "      <td>1309.090909</td>\n",
       "      <td>NaN</td>\n",
       "      <td>NaN</td>\n",
       "      <td>NaN</td>\n",
       "      <td>http://www.properati.com.ar/15bod_venta_depart...</td>\n",
       "      <td>2 AMBIENTES 3ER PISO LATERAL LIVING COMEDOR AM...</td>\n",
       "      <td>2 AMB 3ER PISO CON ASCENSOR APTO CREDITO</td>\n",
       "      <td>https://thumbs4.properati.com/5/SXKr34F_IwG3W_...</td>\n",
       "      <td>55.0</td>\n",
       "      <td>True</td>\n",
       "    </tr>\n",
       "    <tr>\n",
       "      <th>4</th>\n",
       "      <td>4</td>\n",
       "      <td>sell</td>\n",
       "      <td>apartment</td>\n",
       "      <td>Centro</td>\n",
       "      <td>|Argentina|Buenos Aires Costa Atlántica|Mar de...</td>\n",
       "      <td>Argentina</td>\n",
       "      <td>Buenos Aires Costa Atlántica</td>\n",
       "      <td>3435548.0</td>\n",
       "      <td>-38.0026256,-57.5494468</td>\n",
       "      <td>-38.002626</td>\n",
       "      <td>...</td>\n",
       "      <td>1828.571429</td>\n",
       "      <td>NaN</td>\n",
       "      <td>NaN</td>\n",
       "      <td>NaN</td>\n",
       "      <td>http://www.properati.com.ar/15bok_venta_depart...</td>\n",
       "      <td>DEPARTAMENTO CON FANTÁSTICA ILUMINACIÓN NATURA...</td>\n",
       "      <td>DEPTO 2 AMB AL CONTRAFRENTE ZONA CENTRO/PLAZA ...</td>\n",
       "      <td>https://thumbs4.properati.com/5/xrRqlNcSI_vs-f...</td>\n",
       "      <td>35.0</td>\n",
       "      <td>True</td>\n",
       "    </tr>\n",
       "    <tr>\n",
       "      <th>5</th>\n",
       "      <td>5</td>\n",
       "      <td>sell</td>\n",
       "      <td>house</td>\n",
       "      <td>Gualeguaychú</td>\n",
       "      <td>|Argentina|Entre Ríos|Gualeguaychú|</td>\n",
       "      <td>Argentina</td>\n",
       "      <td>Entre Ríos</td>\n",
       "      <td>3433657.0</td>\n",
       "      <td>-33.0140714,-58.519828</td>\n",
       "      <td>-33.014071</td>\n",
       "      <td>...</td>\n",
       "      <td>NaN</td>\n",
       "      <td>NaN</td>\n",
       "      <td>NaN</td>\n",
       "      <td>NaN</td>\n",
       "      <td>http://www.properati.com.ar/15bop_venta_depart...</td>\n",
       "      <td>Casa en el perímetro del barrio 338, ubicada e...</td>\n",
       "      <td>Casa Barrio 338. Sobre calle 3 de caballería, ...</td>\n",
       "      <td>https://thumbs4.properati.com/6/q-w68gvaUEQVXI...</td>\n",
       "      <td>NaN</td>\n",
       "      <td>True</td>\n",
       "    </tr>\n",
       "    <tr>\n",
       "      <th>6</th>\n",
       "      <td>6</td>\n",
       "      <td>sell</td>\n",
       "      <td>PH</td>\n",
       "      <td>Munro</td>\n",
       "      <td>|Argentina|Bs.As. G.B.A. Zona Norte|Vicente Ló...</td>\n",
       "      <td>Argentina</td>\n",
       "      <td>Bs.As. G.B.A. Zona Norte</td>\n",
       "      <td>3430511.0</td>\n",
       "      <td>-34.5329567,-58.5217825</td>\n",
       "      <td>-34.532957</td>\n",
       "      <td>...</td>\n",
       "      <td>1666.666667</td>\n",
       "      <td>NaN</td>\n",
       "      <td>NaN</td>\n",
       "      <td>NaN</td>\n",
       "      <td>http://www.properati.com.ar/15bor_venta_ph_mun...</td>\n",
       "      <td>MUY BUEN PH AL FRENTE CON ENTRADA INDEPENDIENT...</td>\n",
       "      <td>MUY BUEN PH AL FRENTE DOS DORMITORIOS , PATIO,...</td>\n",
       "      <td>https://thumbs4.properati.com/5/6GOXsHCyDu1aGx...</td>\n",
       "      <td>78.0</td>\n",
       "      <td>True</td>\n",
       "    </tr>\n",
       "    <tr>\n",
       "      <th>7</th>\n",
       "      <td>7</td>\n",
       "      <td>sell</td>\n",
       "      <td>apartment</td>\n",
       "      <td>Belgrano</td>\n",
       "      <td>|Argentina|Capital Federal|Belgrano|</td>\n",
       "      <td>Argentina</td>\n",
       "      <td>Capital Federal</td>\n",
       "      <td>3436077.0</td>\n",
       "      <td>-34.5598729,-58.443362</td>\n",
       "      <td>-34.559873</td>\n",
       "      <td>...</td>\n",
       "      <td>3450.000000</td>\n",
       "      <td>NaN</td>\n",
       "      <td>NaN</td>\n",
       "      <td>NaN</td>\n",
       "      <td>http://www.properati.com.ar/15bot_venta_depart...</td>\n",
       "      <td>EXCELENTE MONOAMBIENTE A ESTRENAR AMPLIO SUPER...</td>\n",
       "      <td>JOSE HERNANDEZ 1400 MONOAMBIENTE  ESTRENAR CAT...</td>\n",
       "      <td>https://thumbs4.properati.com/1/IHxARynlr8sPEW...</td>\n",
       "      <td>40.0</td>\n",
       "      <td>True</td>\n",
       "    </tr>\n",
       "    <tr>\n",
       "      <th>8</th>\n",
       "      <td>8</td>\n",
       "      <td>sell</td>\n",
       "      <td>apartment</td>\n",
       "      <td>Belgrano</td>\n",
       "      <td>|Argentina|Capital Federal|Belgrano|</td>\n",
       "      <td>Argentina</td>\n",
       "      <td>Capital Federal</td>\n",
       "      <td>3436077.0</td>\n",
       "      <td>-34.5598729,-58.443362</td>\n",
       "      <td>-34.559873</td>\n",
       "      <td>...</td>\n",
       "      <td>3250.000000</td>\n",
       "      <td>NaN</td>\n",
       "      <td>NaN</td>\n",
       "      <td>NaN</td>\n",
       "      <td>http://www.properati.com.ar/15bou_venta_depart...</td>\n",
       "      <td>EXCELENTE DOS AMBIENTES  ESTRENAR AMPLIO SUPER...</td>\n",
       "      <td>JOSE HERNANDEZ   1400 DOS AMBIENTES ESTRENAR ,...</td>\n",
       "      <td>https://thumbs4.properati.com/2/J3zOjgaFHrkvnv...</td>\n",
       "      <td>60.0</td>\n",
       "      <td>True</td>\n",
       "    </tr>\n",
       "    <tr>\n",
       "      <th>12</th>\n",
       "      <td>12</td>\n",
       "      <td>sell</td>\n",
       "      <td>apartment</td>\n",
       "      <td>Martínez</td>\n",
       "      <td>|Argentina|Bs.As. G.B.A. Zona Norte|San Isidro...</td>\n",
       "      <td>Argentina</td>\n",
       "      <td>Bs.As. G.B.A. Zona Norte</td>\n",
       "      <td>3430813.0</td>\n",
       "      <td>-34.4860195,-58.5038139</td>\n",
       "      <td>-34.486019</td>\n",
       "      <td>...</td>\n",
       "      <td>3194.444444</td>\n",
       "      <td>NaN</td>\n",
       "      <td>NaN</td>\n",
       "      <td>NaN</td>\n",
       "      <td>http://www.properati.com.ar/15bp4_venta_depart...</td>\n",
       "      <td>EXCELENTE DEPARTAMENTO 2 AMBIENTES CONTRAFRENT...</td>\n",
       "      <td>EXCELENTE DEPARTAMENTO 2 AMBIENTES CONTRAFRENT...</td>\n",
       "      <td>https://thumbs4.properati.com/6/wgSui4rTYqPncO...</td>\n",
       "      <td>36.0</td>\n",
       "      <td>True</td>\n",
       "    </tr>\n",
       "    <tr>\n",
       "      <th>13</th>\n",
       "      <td>13</td>\n",
       "      <td>sell</td>\n",
       "      <td>apartment</td>\n",
       "      <td>Palermo Soho</td>\n",
       "      <td>|Argentina|Capital Federal|Palermo|Palermo Soho|</td>\n",
       "      <td>Argentina</td>\n",
       "      <td>Capital Federal</td>\n",
       "      <td>3430234.0</td>\n",
       "      <td>NaN</td>\n",
       "      <td>NaN</td>\n",
       "      <td>...</td>\n",
       "      <td>3723.333333</td>\n",
       "      <td>NaN</td>\n",
       "      <td>1.0</td>\n",
       "      <td>NaN</td>\n",
       "      <td>http://www.properati.com.ar/15bp9_venta_depart...</td>\n",
       "      <td>Torre I Mondrian. 3 ambientes con terraza y d...</td>\n",
       "      <td>Vitraux Palermo</td>\n",
       "      <td>https://thumbs4.properati.com/2/ZTUjkRzTz6YvcU...</td>\n",
       "      <td>30.0</td>\n",
       "      <td>True</td>\n",
       "    </tr>\n",
       "    <tr>\n",
       "      <th>14</th>\n",
       "      <td>14</td>\n",
       "      <td>sell</td>\n",
       "      <td>apartment</td>\n",
       "      <td>Palermo Soho</td>\n",
       "      <td>|Argentina|Capital Federal|Palermo|Palermo Soho|</td>\n",
       "      <td>Argentina</td>\n",
       "      <td>Capital Federal</td>\n",
       "      <td>3430234.0</td>\n",
       "      <td>NaN</td>\n",
       "      <td>NaN</td>\n",
       "      <td>...</td>\n",
       "      <td>4770.967742</td>\n",
       "      <td>NaN</td>\n",
       "      <td>1.0</td>\n",
       "      <td>NaN</td>\n",
       "      <td>http://www.properati.com.ar/15bpa_venta_depart...</td>\n",
       "      <td>Torre II Dalí. Ambiente unico divisible.Vitrau...</td>\n",
       "      <td>Vitraux Palermo</td>\n",
       "      <td>https://thumbs4.properati.com/8/Uay2dC732CNlRw...</td>\n",
       "      <td>31.0</td>\n",
       "      <td>True</td>\n",
       "    </tr>\n",
       "  </tbody>\n",
       "</table>\n",
       "<p>10 rows × 28 columns</p>\n",
       "</div>"
      ],
      "text/plain": [
       "    Unnamed: 0 operation property_type    place_name  \\\n",
       "0            0      sell            PH     Mataderos   \n",
       "2            2      sell     apartment     Mataderos   \n",
       "4            4      sell     apartment        Centro   \n",
       "5            5      sell         house  Gualeguaychú   \n",
       "6            6      sell            PH         Munro   \n",
       "7            7      sell     apartment      Belgrano   \n",
       "8            8      sell     apartment      Belgrano   \n",
       "12          12      sell     apartment      Martínez   \n",
       "13          13      sell     apartment  Palermo Soho   \n",
       "14          14      sell     apartment  Palermo Soho   \n",
       "\n",
       "                              place_with_parent_names country_name  \\\n",
       "0               |Argentina|Capital Federal|Mataderos|    Argentina   \n",
       "2               |Argentina|Capital Federal|Mataderos|    Argentina   \n",
       "4   |Argentina|Buenos Aires Costa Atlántica|Mar de...    Argentina   \n",
       "5                 |Argentina|Entre Ríos|Gualeguaychú|    Argentina   \n",
       "6   |Argentina|Bs.As. G.B.A. Zona Norte|Vicente Ló...    Argentina   \n",
       "7                |Argentina|Capital Federal|Belgrano|    Argentina   \n",
       "8                |Argentina|Capital Federal|Belgrano|    Argentina   \n",
       "12  |Argentina|Bs.As. G.B.A. Zona Norte|San Isidro...    Argentina   \n",
       "13   |Argentina|Capital Federal|Palermo|Palermo Soho|    Argentina   \n",
       "14   |Argentina|Capital Federal|Palermo|Palermo Soho|    Argentina   \n",
       "\n",
       "                      state_name  geonames_id                  lat-lon  \\\n",
       "0                Capital Federal    3430787.0  -34.6618237,-58.5088387   \n",
       "2                Capital Federal    3430787.0  -34.6522615,-58.5229825   \n",
       "4   Buenos Aires Costa Atlántica    3435548.0  -38.0026256,-57.5494468   \n",
       "5                     Entre Ríos    3433657.0   -33.0140714,-58.519828   \n",
       "6       Bs.As. G.B.A. Zona Norte    3430511.0  -34.5329567,-58.5217825   \n",
       "7                Capital Federal    3436077.0   -34.5598729,-58.443362   \n",
       "8                Capital Federal    3436077.0   -34.5598729,-58.443362   \n",
       "12      Bs.As. G.B.A. Zona Norte    3430813.0  -34.4860195,-58.5038139   \n",
       "13               Capital Federal    3430234.0                      NaN   \n",
       "14               Capital Federal    3430234.0                      NaN   \n",
       "\n",
       "          lat  ...  price_per_m2  floor rooms  expenses  \\\n",
       "0  -34.661824  ...   1550.000000    NaN   NaN       NaN   \n",
       "2  -34.652262  ...   1309.090909    NaN   NaN       NaN   \n",
       "4  -38.002626  ...   1828.571429    NaN   NaN       NaN   \n",
       "5  -33.014071  ...           NaN    NaN   NaN       NaN   \n",
       "6  -34.532957  ...   1666.666667    NaN   NaN       NaN   \n",
       "7  -34.559873  ...   3450.000000    NaN   NaN       NaN   \n",
       "8  -34.559873  ...   3250.000000    NaN   NaN       NaN   \n",
       "12 -34.486019  ...   3194.444444    NaN   NaN       NaN   \n",
       "13        NaN  ...   3723.333333    NaN   1.0       NaN   \n",
       "14        NaN  ...   4770.967742    NaN   1.0       NaN   \n",
       "\n",
       "                                        properati_url  \\\n",
       "0   http://www.properati.com.ar/15bo8_venta_ph_mat...   \n",
       "2   http://www.properati.com.ar/15bod_venta_depart...   \n",
       "4   http://www.properati.com.ar/15bok_venta_depart...   \n",
       "5   http://www.properati.com.ar/15bop_venta_depart...   \n",
       "6   http://www.properati.com.ar/15bor_venta_ph_mun...   \n",
       "7   http://www.properati.com.ar/15bot_venta_depart...   \n",
       "8   http://www.properati.com.ar/15bou_venta_depart...   \n",
       "12  http://www.properati.com.ar/15bp4_venta_depart...   \n",
       "13  http://www.properati.com.ar/15bp9_venta_depart...   \n",
       "14  http://www.properati.com.ar/15bpa_venta_depart...   \n",
       "\n",
       "                                          description  \\\n",
       "0   2 AMBIENTES TIPO CASA PLANTA BAJA POR PASILLO,...   \n",
       "2   2 AMBIENTES 3ER PISO LATERAL LIVING COMEDOR AM...   \n",
       "4   DEPARTAMENTO CON FANTÁSTICA ILUMINACIÓN NATURA...   \n",
       "5   Casa en el perímetro del barrio 338, ubicada e...   \n",
       "6   MUY BUEN PH AL FRENTE CON ENTRADA INDEPENDIENT...   \n",
       "7   EXCELENTE MONOAMBIENTE A ESTRENAR AMPLIO SUPER...   \n",
       "8   EXCELENTE DOS AMBIENTES  ESTRENAR AMPLIO SUPER...   \n",
       "12  EXCELENTE DEPARTAMENTO 2 AMBIENTES CONTRAFRENT...   \n",
       "13   Torre I Mondrian. 3 ambientes con terraza y d...   \n",
       "14  Torre II Dalí. Ambiente unico divisible.Vitrau...   \n",
       "\n",
       "                                                title  \\\n",
       "0                  2 AMB TIPO CASA SIN EXPENSAS EN PB   \n",
       "2            2 AMB 3ER PISO CON ASCENSOR APTO CREDITO   \n",
       "4   DEPTO 2 AMB AL CONTRAFRENTE ZONA CENTRO/PLAZA ...   \n",
       "5   Casa Barrio 338. Sobre calle 3 de caballería, ...   \n",
       "6   MUY BUEN PH AL FRENTE DOS DORMITORIOS , PATIO,...   \n",
       "7   JOSE HERNANDEZ 1400 MONOAMBIENTE  ESTRENAR CAT...   \n",
       "8   JOSE HERNANDEZ   1400 DOS AMBIENTES ESTRENAR ,...   \n",
       "12  EXCELENTE DEPARTAMENTO 2 AMBIENTES CONTRAFRENT...   \n",
       "13                                    Vitraux Palermo   \n",
       "14                                    Vitraux Palermo   \n",
       "\n",
       "                                      image_thumbnail  m2_cubierto_clean  \\\n",
       "0   https://thumbs4.properati.com/8/BluUYiHJLhgIIK...               40.0   \n",
       "2   https://thumbs4.properati.com/5/SXKr34F_IwG3W_...               55.0   \n",
       "4   https://thumbs4.properati.com/5/xrRqlNcSI_vs-f...               35.0   \n",
       "5   https://thumbs4.properati.com/6/q-w68gvaUEQVXI...                NaN   \n",
       "6   https://thumbs4.properati.com/5/6GOXsHCyDu1aGx...               78.0   \n",
       "7   https://thumbs4.properati.com/1/IHxARynlr8sPEW...               40.0   \n",
       "8   https://thumbs4.properati.com/2/J3zOjgaFHrkvnv...               60.0   \n",
       "12  https://thumbs4.properati.com/6/wgSui4rTYqPncO...               36.0   \n",
       "13  https://thumbs4.properati.com/2/ZTUjkRzTz6YvcU...               30.0   \n",
       "14  https://thumbs4.properati.com/8/Uay2dC732CNlRw...               31.0   \n",
       "\n",
       "    condicion  \n",
       "0        True  \n",
       "2        True  \n",
       "4        True  \n",
       "5        True  \n",
       "6        True  \n",
       "7        True  \n",
       "8        True  \n",
       "12       True  \n",
       "13       True  \n",
       "14       True  \n",
       "\n",
       "[10 rows x 28 columns]"
      ]
     },
     "execution_count": 33,
     "metadata": {},
     "output_type": "execute_result"
    }
   ],
   "source": [
    "data.head(10)"
   ]
  },
  {
   "cell_type": "markdown",
   "id": "7d658cd4",
   "metadata": {},
   "source": [
    "**Se utiliza los nuevos datos de Superficie total para completar Precio USD/m2**"
   ]
  },
  {
   "cell_type": "code",
   "execution_count": 34,
   "id": "c6a38c82",
   "metadata": {},
   "outputs": [
    {
     "data": {
      "text/plain": [
       "0         1127.27\n",
       "2         1309.09\n",
       "4         1828.57\n",
       "5            0.00\n",
       "6         1226.42\n",
       "           ...   \n",
       "121215    7699.12\n",
       "121216    1383.33\n",
       "121217    2858.70\n",
       "121218    1997.92\n",
       "121219    1675.32\n",
       "Length: 99833, dtype: float64"
      ]
     },
     "execution_count": 34,
     "metadata": {},
     "output_type": "execute_result"
    }
   ],
   "source": [
    "#Se crea una columna nueva para completar datos faltantes\n",
    "price_usd_per_m2_clean=round(data['price_aprox_usd']/data['surface_total_in_m2'],2)\n",
    "price_usd_per_m2_clean.fillna(0)"
   ]
  },
  {
   "cell_type": "code",
   "execution_count": 35,
   "id": "c9b212b8",
   "metadata": {},
   "outputs": [],
   "source": [
    "data['price_usd_per_m2_clean']=price_usd_per_m2_clean"
   ]
  },
  {
   "cell_type": "code",
   "execution_count": 36,
   "id": "a36c89d7",
   "metadata": {},
   "outputs": [],
   "source": [
    "data.price_usd_per_m2.fillna(data.price_usd_per_m2_clean, inplace = True)"
   ]
  },
  {
   "cell_type": "code",
   "execution_count": 37,
   "id": "820be031",
   "metadata": {},
   "outputs": [
    {
     "data": {
      "text/plain": [
       "14.217743631865215"
      ]
     },
     "execution_count": 37,
     "metadata": {},
     "output_type": "execute_result"
    }
   ],
   "source": [
    "(data.price_usd_per_m2.isnull().sum()/data.price_usd_per_m2.shape[0]*100)"
   ]
  },
  {
   "cell_type": "markdown",
   "id": "8ab3b822",
   "metadata": {},
   "source": [
    "Los datos nulos han bajado de Precio de USD/m2 al 14%"
   ]
  },
  {
   "cell_type": "markdown",
   "id": "39f3034c",
   "metadata": {},
   "source": [
    "**Completar Precio USD/m2 segun la media por Barrio**\n"
   ]
  },
  {
   "cell_type": "code",
   "execution_count": 38,
   "id": "893cc750",
   "metadata": {},
   "outputs": [],
   "source": [
    "#Se agrupa y calcula la media por property_type y place_name\n",
    "#DF1= data (Original)\n",
    "#DF2 = price_usd_per_m2_mean\n",
    "#DF3 = price_per_m2_mean\n",
    "\n",
    "price_usd_per_m2_mean = data.groupby(['property_type','place_name'], as_index = False)['price_usd_per_m2'].mean()\n",
    "price_per_m2_mean = data.groupby(['property_type','place_name'], as_index = False)['price_per_m2'].mean()"
   ]
  },
  {
   "cell_type": "code",
   "execution_count": 39,
   "id": "1029069c",
   "metadata": {},
   "outputs": [
    {
     "data": {
      "text/html": [
       "<div>\n",
       "<style scoped>\n",
       "    .dataframe tbody tr th:only-of-type {\n",
       "        vertical-align: middle;\n",
       "    }\n",
       "\n",
       "    .dataframe tbody tr th {\n",
       "        vertical-align: top;\n",
       "    }\n",
       "\n",
       "    .dataframe thead th {\n",
       "        text-align: right;\n",
       "    }\n",
       "</style>\n",
       "<table border=\"1\" class=\"dataframe\">\n",
       "  <thead>\n",
       "    <tr style=\"text-align: right;\">\n",
       "      <th></th>\n",
       "      <th>property_type</th>\n",
       "      <th>place_name</th>\n",
       "      <th>price_usd_per_m2</th>\n",
       "    </tr>\n",
       "  </thead>\n",
       "  <tbody>\n",
       "    <tr>\n",
       "      <th>0</th>\n",
       "      <td>PH</td>\n",
       "      <td>Abasto</td>\n",
       "      <td>1629.325231</td>\n",
       "    </tr>\n",
       "    <tr>\n",
       "      <th>1</th>\n",
       "      <td>PH</td>\n",
       "      <td>Acassuso</td>\n",
       "      <td>2474.410340</td>\n",
       "    </tr>\n",
       "    <tr>\n",
       "      <th>2</th>\n",
       "      <td>PH</td>\n",
       "      <td>Adrogué</td>\n",
       "      <td>1865.874680</td>\n",
       "    </tr>\n",
       "    <tr>\n",
       "      <th>3</th>\n",
       "      <td>PH</td>\n",
       "      <td>Agronomía</td>\n",
       "      <td>3782.926332</td>\n",
       "    </tr>\n",
       "    <tr>\n",
       "      <th>4</th>\n",
       "      <td>PH</td>\n",
       "      <td>Aguas Verdes</td>\n",
       "      <td>545.454545</td>\n",
       "    </tr>\n",
       "    <tr>\n",
       "      <th>...</th>\n",
       "      <td>...</td>\n",
       "      <td>...</td>\n",
       "      <td>...</td>\n",
       "    </tr>\n",
       "    <tr>\n",
       "      <th>1863</th>\n",
       "      <td>store</td>\n",
       "      <td>Villa de Mayo</td>\n",
       "      <td>12500.000000</td>\n",
       "    </tr>\n",
       "    <tr>\n",
       "      <th>1864</th>\n",
       "      <td>store</td>\n",
       "      <td>Villa del Parque</td>\n",
       "      <td>6794.165915</td>\n",
       "    </tr>\n",
       "    <tr>\n",
       "      <th>1865</th>\n",
       "      <td>store</td>\n",
       "      <td>Virreyes</td>\n",
       "      <td>5142.730000</td>\n",
       "    </tr>\n",
       "    <tr>\n",
       "      <th>1866</th>\n",
       "      <td>store</td>\n",
       "      <td>Wilde</td>\n",
       "      <td>468.750000</td>\n",
       "    </tr>\n",
       "    <tr>\n",
       "      <th>1867</th>\n",
       "      <td>store</td>\n",
       "      <td>Yerba Buena</td>\n",
       "      <td>694.020321</td>\n",
       "    </tr>\n",
       "  </tbody>\n",
       "</table>\n",
       "<p>1868 rows × 3 columns</p>\n",
       "</div>"
      ],
      "text/plain": [
       "     property_type        place_name  price_usd_per_m2\n",
       "0               PH            Abasto       1629.325231\n",
       "1               PH          Acassuso       2474.410340\n",
       "2               PH           Adrogué       1865.874680\n",
       "3               PH         Agronomía       3782.926332\n",
       "4               PH      Aguas Verdes        545.454545\n",
       "...            ...               ...               ...\n",
       "1863         store     Villa de Mayo      12500.000000\n",
       "1864         store  Villa del Parque       6794.165915\n",
       "1865         store          Virreyes       5142.730000\n",
       "1866         store             Wilde        468.750000\n",
       "1867         store       Yerba Buena        694.020321\n",
       "\n",
       "[1868 rows x 3 columns]"
      ]
     },
     "metadata": {},
     "output_type": "display_data"
    }
   ],
   "source": [
    "display (price_usd_per_m2_mean)"
   ]
  },
  {
   "cell_type": "code",
   "execution_count": 40,
   "id": "c8f7eaa6",
   "metadata": {},
   "outputs": [
    {
     "data": {
      "text/html": [
       "<div>\n",
       "<style scoped>\n",
       "    .dataframe tbody tr th:only-of-type {\n",
       "        vertical-align: middle;\n",
       "    }\n",
       "\n",
       "    .dataframe tbody tr th {\n",
       "        vertical-align: top;\n",
       "    }\n",
       "\n",
       "    .dataframe thead th {\n",
       "        text-align: right;\n",
       "    }\n",
       "</style>\n",
       "<table border=\"1\" class=\"dataframe\">\n",
       "  <thead>\n",
       "    <tr style=\"text-align: right;\">\n",
       "      <th></th>\n",
       "      <th>property_type</th>\n",
       "      <th>place_name</th>\n",
       "      <th>price_per_m2</th>\n",
       "    </tr>\n",
       "  </thead>\n",
       "  <tbody>\n",
       "    <tr>\n",
       "      <th>0</th>\n",
       "      <td>PH</td>\n",
       "      <td>Abasto</td>\n",
       "      <td>2139.904220</td>\n",
       "    </tr>\n",
       "    <tr>\n",
       "      <th>1</th>\n",
       "      <td>PH</td>\n",
       "      <td>Acassuso</td>\n",
       "      <td>2639.115643</td>\n",
       "    </tr>\n",
       "    <tr>\n",
       "      <th>2</th>\n",
       "      <td>PH</td>\n",
       "      <td>Adrogué</td>\n",
       "      <td>1969.835338</td>\n",
       "    </tr>\n",
       "    <tr>\n",
       "      <th>3</th>\n",
       "      <td>PH</td>\n",
       "      <td>Agronomía</td>\n",
       "      <td>3857.432482</td>\n",
       "    </tr>\n",
       "    <tr>\n",
       "      <th>4</th>\n",
       "      <td>PH</td>\n",
       "      <td>Aguas Verdes</td>\n",
       "      <td>1000.000000</td>\n",
       "    </tr>\n",
       "    <tr>\n",
       "      <th>...</th>\n",
       "      <td>...</td>\n",
       "      <td>...</td>\n",
       "      <td>...</td>\n",
       "    </tr>\n",
       "    <tr>\n",
       "      <th>1863</th>\n",
       "      <td>store</td>\n",
       "      <td>Villa de Mayo</td>\n",
       "      <td>12500.000000</td>\n",
       "    </tr>\n",
       "    <tr>\n",
       "      <th>1864</th>\n",
       "      <td>store</td>\n",
       "      <td>Villa del Parque</td>\n",
       "      <td>7395.999831</td>\n",
       "    </tr>\n",
       "    <tr>\n",
       "      <th>1865</th>\n",
       "      <td>store</td>\n",
       "      <td>Virreyes</td>\n",
       "      <td>5142.727840</td>\n",
       "    </tr>\n",
       "    <tr>\n",
       "      <th>1866</th>\n",
       "      <td>store</td>\n",
       "      <td>Wilde</td>\n",
       "      <td>468.750000</td>\n",
       "    </tr>\n",
       "    <tr>\n",
       "      <th>1867</th>\n",
       "      <td>store</td>\n",
       "      <td>Yerba Buena</td>\n",
       "      <td>NaN</td>\n",
       "    </tr>\n",
       "  </tbody>\n",
       "</table>\n",
       "<p>1868 rows × 3 columns</p>\n",
       "</div>"
      ],
      "text/plain": [
       "     property_type        place_name  price_per_m2\n",
       "0               PH            Abasto   2139.904220\n",
       "1               PH          Acassuso   2639.115643\n",
       "2               PH           Adrogué   1969.835338\n",
       "3               PH         Agronomía   3857.432482\n",
       "4               PH      Aguas Verdes   1000.000000\n",
       "...            ...               ...           ...\n",
       "1863         store     Villa de Mayo  12500.000000\n",
       "1864         store  Villa del Parque   7395.999831\n",
       "1865         store          Virreyes   5142.727840\n",
       "1866         store             Wilde    468.750000\n",
       "1867         store       Yerba Buena           NaN\n",
       "\n",
       "[1868 rows x 3 columns]"
      ]
     },
     "metadata": {},
     "output_type": "display_data"
    }
   ],
   "source": [
    "display (price_per_m2_mean)"
   ]
  },
  {
   "cell_type": "code",
   "execution_count": 41,
   "id": "e4f5b9d2",
   "metadata": {},
   "outputs": [],
   "source": [
    "#Se agrega en los 3 DFs una columna concatenada de property_type y place_name para poder hacer el merge ¿?\n",
    "\n",
    "price_per_m2_mean[\"Concatenado\"] = price_per_m2_mean[\"property_type\"] + \" \" + price_per_m2_mean[\"place_name\"]\n",
    "price_usd_per_m2_mean[\"Concatenado\"] = price_per_m2_mean[\"property_type\"] + \" \" + price_per_m2_mean[\"place_name\"]\n",
    "data[\"Concatenado\"] = data[\"property_type\"] + \" \" + data[\"place_name\"]"
   ]
  },
  {
   "cell_type": "code",
   "execution_count": 42,
   "id": "a6c3ea97",
   "metadata": {},
   "outputs": [],
   "source": [
    "#Se renombra columnas para evitar que coincidan los nombres con el DF original \n",
    "\n",
    "price_per_m2_mean.rename(columns={'price_per_m2':'price_per_m2_clean'},inplace=True)\n",
    "price_usd_per_m2_mean.rename(columns={'price_usd_per_m2':'price_usd_per_m2_clean'},inplace=True)"
   ]
  },
  {
   "cell_type": "code",
   "execution_count": 43,
   "id": "eaa1ed94",
   "metadata": {},
   "outputs": [],
   "source": [
    "#Se dropea lo que no  hace falta\n",
    "df_price_per_m2_mean = price_per_m2_mean.drop(['property_type', 'place_name'], axis=1)\n",
    "df_price_usd_per_m2_mean = price_usd_per_m2_mean.drop(['property_type', 'place_name'], axis=1)"
   ]
  },
  {
   "cell_type": "code",
   "execution_count": 44,
   "id": "f62ae4d2",
   "metadata": {},
   "outputs": [],
   "source": [
    "#Se simplifica el data original para no cargar tantos datos y quedan  las col que se necesitan hacer el merge\n",
    "\n",
    "data_2 = data.loc[:, [\"Concatenado\", \"price_usd_per_m2\",\"price_per_m2\"]]"
   ]
  },
  {
   "cell_type": "code",
   "execution_count": 45,
   "id": "32dc9830",
   "metadata": {},
   "outputs": [],
   "source": [
    "#Se realiza  el primer merge \n",
    "\n",
    "data_3 = data_2.merge(df_price_usd_per_m2_mean, how = 'left', left_on = 'Concatenado', right_on = 'Concatenado')"
   ]
  },
  {
   "cell_type": "code",
   "execution_count": 46,
   "id": "1345ef25",
   "metadata": {},
   "outputs": [
    {
     "data": {
      "text/html": [
       "<div>\n",
       "<style scoped>\n",
       "    .dataframe tbody tr th:only-of-type {\n",
       "        vertical-align: middle;\n",
       "    }\n",
       "\n",
       "    .dataframe tbody tr th {\n",
       "        vertical-align: top;\n",
       "    }\n",
       "\n",
       "    .dataframe thead th {\n",
       "        text-align: right;\n",
       "    }\n",
       "</style>\n",
       "<table border=\"1\" class=\"dataframe\">\n",
       "  <thead>\n",
       "    <tr style=\"text-align: right;\">\n",
       "      <th></th>\n",
       "      <th>Concatenado</th>\n",
       "      <th>price_usd_per_m2</th>\n",
       "      <th>price_per_m2</th>\n",
       "      <th>price_usd_per_m2_clean</th>\n",
       "      <th>price_per_m2_clean</th>\n",
       "    </tr>\n",
       "  </thead>\n",
       "  <tbody>\n",
       "    <tr>\n",
       "      <th>0</th>\n",
       "      <td>PH Mataderos</td>\n",
       "      <td>1127.272727</td>\n",
       "      <td>1550.000000</td>\n",
       "      <td>1837.603516</td>\n",
       "      <td>2126.069745</td>\n",
       "    </tr>\n",
       "    <tr>\n",
       "      <th>1</th>\n",
       "      <td>apartment Mataderos</td>\n",
       "      <td>1309.090909</td>\n",
       "      <td>1309.090909</td>\n",
       "      <td>1990.397617</td>\n",
       "      <td>2310.660220</td>\n",
       "    </tr>\n",
       "    <tr>\n",
       "      <th>2</th>\n",
       "      <td>apartment Centro</td>\n",
       "      <td>1828.571429</td>\n",
       "      <td>1828.571429</td>\n",
       "      <td>1913.297733</td>\n",
       "      <td>5222.393853</td>\n",
       "    </tr>\n",
       "    <tr>\n",
       "      <th>3</th>\n",
       "      <td>house Gualeguaychú</td>\n",
       "      <td>NaN</td>\n",
       "      <td>NaN</td>\n",
       "      <td>916.670000</td>\n",
       "      <td>916.666667</td>\n",
       "    </tr>\n",
       "    <tr>\n",
       "      <th>4</th>\n",
       "      <td>PH Munro</td>\n",
       "      <td>1226.415094</td>\n",
       "      <td>1666.666667</td>\n",
       "      <td>1716.930575</td>\n",
       "      <td>1930.184797</td>\n",
       "    </tr>\n",
       "    <tr>\n",
       "      <th>...</th>\n",
       "      <td>...</td>\n",
       "      <td>...</td>\n",
       "      <td>...</td>\n",
       "      <td>...</td>\n",
       "      <td>...</td>\n",
       "    </tr>\n",
       "    <tr>\n",
       "      <th>99828</th>\n",
       "      <td>apartment Belgrano</td>\n",
       "      <td>7699.115044</td>\n",
       "      <td>9354.838710</td>\n",
       "      <td>3125.479843</td>\n",
       "      <td>8045.370411</td>\n",
       "    </tr>\n",
       "    <tr>\n",
       "      <th>99829</th>\n",
       "      <td>house Beccar</td>\n",
       "      <td>1383.333333</td>\n",
       "      <td>1383.333333</td>\n",
       "      <td>1546.806789</td>\n",
       "      <td>1792.094395</td>\n",
       "    </tr>\n",
       "    <tr>\n",
       "      <th>99830</th>\n",
       "      <td>apartment Villa Urquiza</td>\n",
       "      <td>2858.695652</td>\n",
       "      <td>3371.794872</td>\n",
       "      <td>2777.731896</td>\n",
       "      <td>8889.518568</td>\n",
       "    </tr>\n",
       "    <tr>\n",
       "      <th>99831</th>\n",
       "      <td>apartment Plaza Colón</td>\n",
       "      <td>1997.916667</td>\n",
       "      <td>1997.916667</td>\n",
       "      <td>1926.525327</td>\n",
       "      <td>2426.401944</td>\n",
       "    </tr>\n",
       "    <tr>\n",
       "      <th>99832</th>\n",
       "      <td>apartment Capital Federal</td>\n",
       "      <td>1675.324675</td>\n",
       "      <td>1675.324675</td>\n",
       "      <td>2376.964340</td>\n",
       "      <td>3281.423834</td>\n",
       "    </tr>\n",
       "  </tbody>\n",
       "</table>\n",
       "<p>99833 rows × 5 columns</p>\n",
       "</div>"
      ],
      "text/plain": [
       "                     Concatenado  price_usd_per_m2  price_per_m2  \\\n",
       "0                   PH Mataderos       1127.272727   1550.000000   \n",
       "1            apartment Mataderos       1309.090909   1309.090909   \n",
       "2               apartment Centro       1828.571429   1828.571429   \n",
       "3             house Gualeguaychú               NaN           NaN   \n",
       "4                       PH Munro       1226.415094   1666.666667   \n",
       "...                          ...               ...           ...   \n",
       "99828         apartment Belgrano       7699.115044   9354.838710   \n",
       "99829               house Beccar       1383.333333   1383.333333   \n",
       "99830    apartment Villa Urquiza       2858.695652   3371.794872   \n",
       "99831      apartment Plaza Colón       1997.916667   1997.916667   \n",
       "99832  apartment Capital Federal       1675.324675   1675.324675   \n",
       "\n",
       "       price_usd_per_m2_clean  price_per_m2_clean  \n",
       "0                 1837.603516         2126.069745  \n",
       "1                 1990.397617         2310.660220  \n",
       "2                 1913.297733         5222.393853  \n",
       "3                  916.670000          916.666667  \n",
       "4                 1716.930575         1930.184797  \n",
       "...                       ...                 ...  \n",
       "99828             3125.479843         8045.370411  \n",
       "99829             1546.806789         1792.094395  \n",
       "99830             2777.731896         8889.518568  \n",
       "99831             1926.525327         2426.401944  \n",
       "99832             2376.964340         3281.423834  \n",
       "\n",
       "[99833 rows x 5 columns]"
      ]
     },
     "execution_count": 46,
     "metadata": {},
     "output_type": "execute_result"
    }
   ],
   "source": [
    "#Se realiza el segundo merge\n",
    "\n",
    "data_4 = data_3.merge(df_price_per_m2_mean, how = 'left', left_on = 'Concatenado', right_on = 'Concatenado')\n",
    "data_4\n"
   ]
  },
  {
   "cell_type": "code",
   "execution_count": 47,
   "id": "91a4a315",
   "metadata": {},
   "outputs": [],
   "source": [
    "#Se reemplazan los Nan por la media correspondiente al place name y property type\n",
    "data_4.price_usd_per_m2.fillna(data_4.price_usd_per_m2_clean, inplace = True)\n",
    "data_4.price_per_m2.fillna(data_4.price_per_m2_clean, inplace = True)"
   ]
  },
  {
   "cell_type": "code",
   "execution_count": 48,
   "id": "1cb223b2",
   "metadata": {},
   "outputs": [
    {
     "data": {
      "text/html": [
       "<div>\n",
       "<style scoped>\n",
       "    .dataframe tbody tr th:only-of-type {\n",
       "        vertical-align: middle;\n",
       "    }\n",
       "\n",
       "    .dataframe tbody tr th {\n",
       "        vertical-align: top;\n",
       "    }\n",
       "\n",
       "    .dataframe thead th {\n",
       "        text-align: right;\n",
       "    }\n",
       "</style>\n",
       "<table border=\"1\" class=\"dataframe\">\n",
       "  <thead>\n",
       "    <tr style=\"text-align: right;\">\n",
       "      <th></th>\n",
       "      <th>Concatenado</th>\n",
       "      <th>price_usd_per_m2</th>\n",
       "      <th>price_per_m2</th>\n",
       "      <th>price_usd_per_m2_clean</th>\n",
       "      <th>price_per_m2_clean</th>\n",
       "    </tr>\n",
       "  </thead>\n",
       "  <tbody>\n",
       "    <tr>\n",
       "      <th>0</th>\n",
       "      <td>PH Mataderos</td>\n",
       "      <td>1127.272727</td>\n",
       "      <td>1550.000000</td>\n",
       "      <td>1837.603516</td>\n",
       "      <td>2126.069745</td>\n",
       "    </tr>\n",
       "    <tr>\n",
       "      <th>1</th>\n",
       "      <td>apartment Mataderos</td>\n",
       "      <td>1309.090909</td>\n",
       "      <td>1309.090909</td>\n",
       "      <td>1990.397617</td>\n",
       "      <td>2310.660220</td>\n",
       "    </tr>\n",
       "    <tr>\n",
       "      <th>2</th>\n",
       "      <td>apartment Centro</td>\n",
       "      <td>1828.571429</td>\n",
       "      <td>1828.571429</td>\n",
       "      <td>1913.297733</td>\n",
       "      <td>5222.393853</td>\n",
       "    </tr>\n",
       "    <tr>\n",
       "      <th>3</th>\n",
       "      <td>house Gualeguaychú</td>\n",
       "      <td>916.670000</td>\n",
       "      <td>916.666667</td>\n",
       "      <td>916.670000</td>\n",
       "      <td>916.666667</td>\n",
       "    </tr>\n",
       "    <tr>\n",
       "      <th>4</th>\n",
       "      <td>PH Munro</td>\n",
       "      <td>1226.415094</td>\n",
       "      <td>1666.666667</td>\n",
       "      <td>1716.930575</td>\n",
       "      <td>1930.184797</td>\n",
       "    </tr>\n",
       "    <tr>\n",
       "      <th>...</th>\n",
       "      <td>...</td>\n",
       "      <td>...</td>\n",
       "      <td>...</td>\n",
       "      <td>...</td>\n",
       "      <td>...</td>\n",
       "    </tr>\n",
       "    <tr>\n",
       "      <th>99828</th>\n",
       "      <td>apartment Belgrano</td>\n",
       "      <td>7699.115044</td>\n",
       "      <td>9354.838710</td>\n",
       "      <td>3125.479843</td>\n",
       "      <td>8045.370411</td>\n",
       "    </tr>\n",
       "    <tr>\n",
       "      <th>99829</th>\n",
       "      <td>house Beccar</td>\n",
       "      <td>1383.333333</td>\n",
       "      <td>1383.333333</td>\n",
       "      <td>1546.806789</td>\n",
       "      <td>1792.094395</td>\n",
       "    </tr>\n",
       "    <tr>\n",
       "      <th>99830</th>\n",
       "      <td>apartment Villa Urquiza</td>\n",
       "      <td>2858.695652</td>\n",
       "      <td>3371.794872</td>\n",
       "      <td>2777.731896</td>\n",
       "      <td>8889.518568</td>\n",
       "    </tr>\n",
       "    <tr>\n",
       "      <th>99831</th>\n",
       "      <td>apartment Plaza Colón</td>\n",
       "      <td>1997.916667</td>\n",
       "      <td>1997.916667</td>\n",
       "      <td>1926.525327</td>\n",
       "      <td>2426.401944</td>\n",
       "    </tr>\n",
       "    <tr>\n",
       "      <th>99832</th>\n",
       "      <td>apartment Capital Federal</td>\n",
       "      <td>1675.324675</td>\n",
       "      <td>1675.324675</td>\n",
       "      <td>2376.964340</td>\n",
       "      <td>3281.423834</td>\n",
       "    </tr>\n",
       "  </tbody>\n",
       "</table>\n",
       "<p>99833 rows × 5 columns</p>\n",
       "</div>"
      ],
      "text/plain": [
       "                     Concatenado  price_usd_per_m2  price_per_m2  \\\n",
       "0                   PH Mataderos       1127.272727   1550.000000   \n",
       "1            apartment Mataderos       1309.090909   1309.090909   \n",
       "2               apartment Centro       1828.571429   1828.571429   \n",
       "3             house Gualeguaychú        916.670000    916.666667   \n",
       "4                       PH Munro       1226.415094   1666.666667   \n",
       "...                          ...               ...           ...   \n",
       "99828         apartment Belgrano       7699.115044   9354.838710   \n",
       "99829               house Beccar       1383.333333   1383.333333   \n",
       "99830    apartment Villa Urquiza       2858.695652   3371.794872   \n",
       "99831      apartment Plaza Colón       1997.916667   1997.916667   \n",
       "99832  apartment Capital Federal       1675.324675   1675.324675   \n",
       "\n",
       "       price_usd_per_m2_clean  price_per_m2_clean  \n",
       "0                 1837.603516         2126.069745  \n",
       "1                 1990.397617         2310.660220  \n",
       "2                 1913.297733         5222.393853  \n",
       "3                  916.670000          916.666667  \n",
       "4                 1716.930575         1930.184797  \n",
       "...                       ...                 ...  \n",
       "99828             3125.479843         8045.370411  \n",
       "99829             1546.806789         1792.094395  \n",
       "99830             2777.731896         8889.518568  \n",
       "99831             1926.525327         2426.401944  \n",
       "99832             2376.964340         3281.423834  \n",
       "\n",
       "[99833 rows x 5 columns]"
      ]
     },
     "execution_count": 48,
     "metadata": {},
     "output_type": "execute_result"
    }
   ],
   "source": [
    "data_4"
   ]
  },
  {
   "cell_type": "code",
   "execution_count": 49,
   "id": "89ff1468",
   "metadata": {},
   "outputs": [],
   "source": [
    "#Se agregan las columnas con la media por property_type y place_name al DF original\n",
    "data['price_usd_per_m2_clean'] = data_4[\"price_usd_per_m2\"]\n",
    "data['price_per_m2_clean'] = data_4[\"price_per_m2\"]"
   ]
  },
  {
   "cell_type": "code",
   "execution_count": 50,
   "id": "c464f21d",
   "metadata": {},
   "outputs": [
    {
     "data": {
      "text/html": [
       "<div>\n",
       "<style scoped>\n",
       "    .dataframe tbody tr th:only-of-type {\n",
       "        vertical-align: middle;\n",
       "    }\n",
       "\n",
       "    .dataframe tbody tr th {\n",
       "        vertical-align: top;\n",
       "    }\n",
       "\n",
       "    .dataframe thead th {\n",
       "        text-align: right;\n",
       "    }\n",
       "</style>\n",
       "<table border=\"1\" class=\"dataframe\">\n",
       "  <thead>\n",
       "    <tr style=\"text-align: right;\">\n",
       "      <th></th>\n",
       "      <th>price_usd_per_m2</th>\n",
       "      <th>price_usd_per_m2_clean</th>\n",
       "    </tr>\n",
       "  </thead>\n",
       "  <tbody>\n",
       "    <tr>\n",
       "      <th>9076</th>\n",
       "      <td>3157.894737</td>\n",
       "      <td>4950.000000</td>\n",
       "    </tr>\n",
       "    <tr>\n",
       "      <th>83923</th>\n",
       "      <td>781.591596</td>\n",
       "      <td>2309.090909</td>\n",
       "    </tr>\n",
       "    <tr>\n",
       "      <th>70273</th>\n",
       "      <td>1517.857143</td>\n",
       "      <td>2692.310000</td>\n",
       "    </tr>\n",
       "    <tr>\n",
       "      <th>11802</th>\n",
       "      <td>2116.280000</td>\n",
       "      <td>2128.375510</td>\n",
       "    </tr>\n",
       "    <tr>\n",
       "      <th>51186</th>\n",
       "      <td>1735.537190</td>\n",
       "      <td>966.670000</td>\n",
       "    </tr>\n",
       "    <tr>\n",
       "      <th>1557</th>\n",
       "      <td>NaN</td>\n",
       "      <td>inf</td>\n",
       "    </tr>\n",
       "    <tr>\n",
       "      <th>76385</th>\n",
       "      <td>1953.125000</td>\n",
       "      <td>1309.523810</td>\n",
       "    </tr>\n",
       "    <tr>\n",
       "      <th>721</th>\n",
       "      <td>NaN</td>\n",
       "      <td>299.112933</td>\n",
       "    </tr>\n",
       "    <tr>\n",
       "      <th>39546</th>\n",
       "      <td>NaN</td>\n",
       "      <td>2538.922973</td>\n",
       "    </tr>\n",
       "    <tr>\n",
       "      <th>29849</th>\n",
       "      <td>NaN</td>\n",
       "      <td>1333.333333</td>\n",
       "    </tr>\n",
       "    <tr>\n",
       "      <th>8791</th>\n",
       "      <td>2796.610000</td>\n",
       "      <td>1287.880000</td>\n",
       "    </tr>\n",
       "    <tr>\n",
       "      <th>38094</th>\n",
       "      <td>6000.000000</td>\n",
       "      <td>2128.295143</td>\n",
       "    </tr>\n",
       "    <tr>\n",
       "      <th>75528</th>\n",
       "      <td>1106.194690</td>\n",
       "      <td>2500.000000</td>\n",
       "    </tr>\n",
       "    <tr>\n",
       "      <th>71522</th>\n",
       "      <td>NaN</td>\n",
       "      <td>2011.111111</td>\n",
       "    </tr>\n",
       "    <tr>\n",
       "      <th>102399</th>\n",
       "      <td>2844.830000</td>\n",
       "      <td>NaN</td>\n",
       "    </tr>\n",
       "    <tr>\n",
       "      <th>118530</th>\n",
       "      <td>989.470000</td>\n",
       "      <td>NaN</td>\n",
       "    </tr>\n",
       "    <tr>\n",
       "      <th>98216</th>\n",
       "      <td>2773.469388</td>\n",
       "      <td>2362.500000</td>\n",
       "    </tr>\n",
       "    <tr>\n",
       "      <th>46429</th>\n",
       "      <td>1600.000000</td>\n",
       "      <td>800.000000</td>\n",
       "    </tr>\n",
       "    <tr>\n",
       "      <th>72402</th>\n",
       "      <td>3125.000000</td>\n",
       "      <td>1829.552846</td>\n",
       "    </tr>\n",
       "    <tr>\n",
       "      <th>102426</th>\n",
       "      <td>1350.877193</td>\n",
       "      <td>NaN</td>\n",
       "    </tr>\n",
       "  </tbody>\n",
       "</table>\n",
       "</div>"
      ],
      "text/plain": [
       "        price_usd_per_m2  price_usd_per_m2_clean\n",
       "9076         3157.894737             4950.000000\n",
       "83923         781.591596             2309.090909\n",
       "70273        1517.857143             2692.310000\n",
       "11802        2116.280000             2128.375510\n",
       "51186        1735.537190              966.670000\n",
       "1557                 NaN                     inf\n",
       "76385        1953.125000             1309.523810\n",
       "721                  NaN              299.112933\n",
       "39546                NaN             2538.922973\n",
       "29849                NaN             1333.333333\n",
       "8791         2796.610000             1287.880000\n",
       "38094        6000.000000             2128.295143\n",
       "75528        1106.194690             2500.000000\n",
       "71522                NaN             2011.111111\n",
       "102399       2844.830000                     NaN\n",
       "118530        989.470000                     NaN\n",
       "98216        2773.469388             2362.500000\n",
       "46429        1600.000000              800.000000\n",
       "72402        3125.000000             1829.552846\n",
       "102426       1350.877193                     NaN"
      ]
     },
     "execution_count": 50,
     "metadata": {},
     "output_type": "execute_result"
    }
   ],
   "source": [
    "data[[\"price_usd_per_m2\",\"price_usd_per_m2_clean\"]].sample(20)"
   ]
  },
  {
   "cell_type": "code",
   "execution_count": 51,
   "id": "857dcf03",
   "metadata": {},
   "outputs": [
    {
     "data": {
      "text/plain": [
       "14.217743631865215"
      ]
     },
     "execution_count": 51,
     "metadata": {},
     "output_type": "execute_result"
    }
   ],
   "source": [
    "(data.price_usd_per_m2.isnull().sum()/data.price_usd_per_m2.shape[0]*100)"
   ]
  },
  {
   "cell_type": "markdown",
   "id": "efa446c3",
   "metadata": {},
   "source": [
    "Los nulos price_usd_per_m2 se reducen a un 14.21%"
   ]
  },
  {
   "cell_type": "markdown",
   "id": "cc10f67e",
   "metadata": {},
   "source": [
    "**Conversion de Divisas**"
   ]
  },
  {
   "cell_type": "code",
   "execution_count": 52,
   "id": "5db3c782",
   "metadata": {},
   "outputs": [
    {
     "data": {
      "text/plain": [
       "14.217743631865215"
      ]
     },
     "execution_count": 52,
     "metadata": {},
     "output_type": "execute_result"
    }
   ],
   "source": [
    "#Se quiere ver cuantos precios en USD me faltan \n",
    "data[\"price_aprox_usd\"].isnull().sum()/data.price_aprox_usd.shape[0]*100"
   ]
  },
  {
   "cell_type": "code",
   "execution_count": 53,
   "id": "c1687388",
   "metadata": {},
   "outputs": [
    {
     "data": {
      "text/plain": [
       "14194"
      ]
     },
     "execution_count": 53,
     "metadata": {},
     "output_type": "execute_result"
    }
   ],
   "source": [
    "data[\"price_aprox_usd\"].isnull().sum()"
   ]
  },
  {
   "cell_type": "markdown",
   "id": "3acebe5c",
   "metadata": {},
   "source": [
    "Luego de la limpieza de outliers vemos que los nulos de la columna price_aprox_usd han pasado de 16,83% a 14,21%"
   ]
  },
  {
   "cell_type": "code",
   "execution_count": 54,
   "id": "08ed3aaf",
   "metadata": {},
   "outputs": [
    {
     "data": {
      "text/plain": [
       "USD    74602\n",
       "ARS    11037\n",
       "Name: currency, dtype: int64"
      ]
     },
     "execution_count": 54,
     "metadata": {},
     "output_type": "execute_result"
    }
   ],
   "source": [
    "#Vemos cuantas divisas tiene la data\n",
    "\n",
    "divisas = data[\"currency\"]\n",
    "divisas.value_counts()"
   ]
  },
  {
   "cell_type": "markdown",
   "id": "75fb3b7a",
   "metadata": {},
   "source": [
    "Quiero pasar todos los precios de ARS a USD."
   ]
  },
  {
   "cell_type": "code",
   "execution_count": 55,
   "id": "025ca6de",
   "metadata": {},
   "outputs": [
    {
     "data": {
      "text/plain": [
       "14194"
      ]
     },
     "execution_count": 55,
     "metadata": {},
     "output_type": "execute_result"
    }
   ],
   "source": [
    "data[\"price\"].isnull().sum()"
   ]
  },
  {
   "cell_type": "code",
   "execution_count": 56,
   "id": "91ac4c90",
   "metadata": {},
   "outputs": [
    {
     "data": {
      "text/plain": [
       "14194"
      ]
     },
     "execution_count": 56,
     "metadata": {},
     "output_type": "execute_result"
    }
   ],
   "source": [
    "#Dado que es la misma cantidad quisiera ver si los null de price_aprox_usd tienen datos en la columna price // Como vemos todos los nulos son iguales\n",
    "mask_price_usd_null = data[\"price_aprox_usd\"].isnull()\n",
    "otra_moneda = data[\"price\"][mask_price_usd_null]\n",
    "otra_moneda.isnull().sum()"
   ]
  },
  {
   "cell_type": "markdown",
   "id": "76559da4",
   "metadata": {},
   "source": [
    "Como podemos ver todos los nulos de price_aprox_usd no se pueden completar con el price"
   ]
  },
  {
   "cell_type": "markdown",
   "id": "a9dc5bd7",
   "metadata": {},
   "source": [
    "#Se ha realizado el desarrollo igualmente. Se quiere pasar todos los precios de otras divisas de ARS a USD"
   ]
  },
  {
   "cell_type": "code",
   "execution_count": 57,
   "id": "f1b45203",
   "metadata": {},
   "outputs": [
    {
     "name": "stderr",
     "output_type": "stream",
     "text": [
      "C:\\Users\\gonza\\AppData\\Local\\Temp/ipykernel_15736/2199208490.py:4: UserWarning: Pandas doesn't allow columns to be created via a new attribute name - see https://pandas.pydata.org/pandas-docs/stable/indexing.html#attribute-access\n",
      "  data.cotizacion = data.price_aprox_local_currency[local_price_ARS_mask]/data.price_aprox_usd\n"
     ]
    },
    {
     "ename": "NameError",
     "evalue": "name 'cotizacion' is not defined",
     "output_type": "error",
     "traceback": [
      "\u001b[1;31m---------------------------------------------------------------------------\u001b[0m",
      "\u001b[1;31mNameError\u001b[0m                                 Traceback (most recent call last)",
      "\u001b[1;32m~\\AppData\\Local\\Temp/ipykernel_15736/2199208490.py\u001b[0m in \u001b[0;36m<module>\u001b[1;34m\u001b[0m\n\u001b[0;32m      4\u001b[0m \u001b[0mdata\u001b[0m\u001b[1;33m.\u001b[0m\u001b[0mcotizacion\u001b[0m \u001b[1;33m=\u001b[0m \u001b[0mdata\u001b[0m\u001b[1;33m.\u001b[0m\u001b[0mprice_aprox_local_currency\u001b[0m\u001b[1;33m[\u001b[0m\u001b[0mlocal_price_ARS_mask\u001b[0m\u001b[1;33m]\u001b[0m\u001b[1;33m/\u001b[0m\u001b[0mdata\u001b[0m\u001b[1;33m.\u001b[0m\u001b[0mprice_aprox_usd\u001b[0m\u001b[1;33m\u001b[0m\u001b[1;33m\u001b[0m\u001b[0m\n\u001b[0;32m      5\u001b[0m \u001b[1;33m\u001b[0m\u001b[0m\n\u001b[1;32m----> 6\u001b[1;33m \u001b[0mcotizacion\u001b[0m\u001b[1;33m.\u001b[0m\u001b[0mvalue_counts\u001b[0m\u001b[1;33m(\u001b[0m\u001b[1;33m)\u001b[0m\u001b[1;33m\u001b[0m\u001b[1;33m\u001b[0m\u001b[0m\n\u001b[0m",
      "\u001b[1;31mNameError\u001b[0m: name 'cotizacion' is not defined"
     ]
    }
   ],
   "source": [
    "#Se averigua el factor de conversion de USD a ARS.\n",
    "\n",
    "local_price_ARS_mask = data.currency == 'ARS'\n",
    "data.cotizacion = data.price_aprox_local_currency[local_price_ARS_mask]/data.price_aprox_usd\n",
    "\n",
    "cotizacion.value_counts()"
   ]
  },
  {
   "cell_type": "markdown",
   "id": "6e6f1cfa",
   "metadata": {},
   "source": [
    "1 USD = 17.6445 ARS"
   ]
  },
  {
   "cell_type": "code",
   "execution_count": 62,
   "id": "f3ef8254",
   "metadata": {},
   "outputs": [
    {
     "data": {
      "text/plain": [
       "float"
      ]
     },
     "execution_count": 62,
     "metadata": {},
     "output_type": "execute_result"
    }
   ],
   "source": [
    "#Definimos la cotización como variable aparte. Vemos el tipo de dato para ver si podemos realizar la operación\n",
    "cot = 17.6645\n",
    "type(cot)"
   ]
  },
  {
   "cell_type": "code",
   "execution_count": 63,
   "id": "de02d240",
   "metadata": {},
   "outputs": [
    {
     "data": {
      "text/plain": [
       "dtype('float64')"
      ]
     },
     "execution_count": 63,
     "metadata": {},
     "output_type": "execute_result"
    }
   ],
   "source": [
    "#Vemos el tipo de dato dentro de price_aprox_local_currency\n",
    "data.price_aprox_local_currency.dtype"
   ]
  },
  {
   "cell_type": "code",
   "execution_count": 64,
   "id": "6a1100be",
   "metadata": {},
   "outputs": [
    {
     "name": "stdout",
     "output_type": "stream",
     "text": [
      "[30811.09513431 70025.21611141 47617.14568768 ... 84142.30462226\n",
      " 84422.40708766 84422.40708766]\n"
     ]
    },
    {
     "name": "stderr",
     "output_type": "stream",
     "text": [
      "C:\\Users\\gonza\\AppData\\Local\\Temp/ipykernel_15736/2843848846.py:4: UserWarning: Pandas doesn't allow columns to be created via a new attribute name - see https://pandas.pydata.org/pandas-docs/stable/indexing.html#attribute-access\n",
      "  data.price_usd_conversion = np.array(data.price_aprox_local_currency[local_price_ARS_mask])/cot\n"
     ]
    }
   ],
   "source": [
    "#Una vez que tengo la cotización, hago la conversion de los precios ARS a USD\n",
    "#Al realizar la división me daba error, por eso convertí en array\n",
    "local_price_ARS_mask = data.currency == 'ARS'\n",
    "data.price_usd_conversion = np.array(data.price_aprox_local_currency[local_price_ARS_mask])/cot\n",
    "print(data.price_usd_conversion)"
   ]
  },
  {
   "cell_type": "code",
   "execution_count": 65,
   "id": "33b6d01a",
   "metadata": {},
   "outputs": [
    {
     "name": "stderr",
     "output_type": "stream",
     "text": [
      "C:\\Users\\gonza\\AppData\\Local\\Temp/ipykernel_15736/487569784.py:2: UserWarning: Pandas doesn't allow columns to be created via a new attribute name - see https://pandas.pydata.org/pandas-docs/stable/indexing.html#attribute-access\n",
      "  data.price_usd_conversion2 = data.price_aprox_local_currency[local_price_ARS_mask] / data.cotizacion\n"
     ]
    },
    {
     "data": {
      "text/plain": [
       "32      30846.02\n",
       "37      70104.59\n",
       "99      47671.12\n",
       "122    145817.55\n",
       "128     70104.59\n",
       "130     62315.19\n",
       "154     67300.41\n",
       "168    140209.19\n",
       "169     98707.27\n",
       "174     82664.53\n",
       "dtype: float64"
      ]
     },
     "execution_count": 65,
     "metadata": {},
     "output_type": "execute_result"
    }
   ],
   "source": [
    "#Completamos una nueva columna de price_usd_conversion2 rellenando los local price con las conversiones\n",
    "data.price_usd_conversion2 = data.price_aprox_local_currency[local_price_ARS_mask] / data.cotizacion\n",
    "data.price_usd_conversion2.round(2)\n",
    "data.price_usd_conversion2[local_price_ARS_mask].head(10)"
   ]
  },
  {
   "cell_type": "code",
   "execution_count": 66,
   "id": "cd879f0b",
   "metadata": {},
   "outputs": [
    {
     "data": {
      "text/plain": [
       "0      62000.0\n",
       "2      72000.0\n",
       "4      64000.0\n",
       "5          NaN\n",
       "6     130000.0\n",
       "7     138000.0\n",
       "8     195000.0\n",
       "12    115000.0\n",
       "13    111700.0\n",
       "14    147900.0\n",
       "dtype: float64"
      ]
     },
     "execution_count": 66,
     "metadata": {},
     "output_type": "execute_result"
    }
   ],
   "source": [
    "#Reemplazamos los datos nulos del  price_aprox_usd\n",
    "data.price_usd_conversion2.fillna(data.price_aprox_usd, inplace = True)\n",
    "data.price_usd_conversion2.head(10)"
   ]
  },
  {
   "cell_type": "code",
   "execution_count": 67,
   "id": "c9afcbff",
   "metadata": {},
   "outputs": [
    {
     "data": {
      "text/plain": [
       "14194"
      ]
     },
     "execution_count": 67,
     "metadata": {},
     "output_type": "execute_result"
    }
   ],
   "source": [
    "#Verificamos si hemos reducido los nulos.\n",
    "data.price_usd_conversion2.isnull().sum()"
   ]
  },
  {
   "cell_type": "markdown",
   "id": "b59ea7dc",
   "metadata": {},
   "source": [
    "Como podemos ver efectivamente no se puede completar los datos faltantes de price_aprox_usd con los datos de price. Es por ello que tomaremos el precio por m2 y los m2 para completar los datos faltantes "
   ]
  },
  {
   "cell_type": "code",
   "execution_count": 68,
   "id": "97577ae3",
   "metadata": {},
   "outputs": [
    {
     "data": {
      "text/plain": [
       "0"
      ]
     },
     "execution_count": 68,
     "metadata": {},
     "output_type": "execute_result"
    }
   ],
   "source": [
    "#Verificamos cuantos datos tenemos de surface_total_in_m2 ya limpio\n",
    "data[\"surface_total_in_m2\"].isnull().sum()\n"
   ]
  },
  {
   "cell_type": "code",
   "execution_count": 69,
   "id": "218200ce",
   "metadata": {},
   "outputs": [
    {
     "data": {
      "text/plain": [
       "14194"
      ]
     },
     "execution_count": 69,
     "metadata": {},
     "output_type": "execute_result"
    }
   ],
   "source": [
    "data[\"price_usd_per_m2\"].isnull().sum()"
   ]
  },
  {
   "cell_type": "code",
   "execution_count": 70,
   "id": "4cac499c",
   "metadata": {},
   "outputs": [
    {
     "data": {
      "text/plain": [
       "14194"
      ]
     },
     "execution_count": 70,
     "metadata": {},
     "output_type": "execute_result"
    }
   ],
   "source": [
    "#Dado que los nulos de price_usd_per_m2 es la misma cantidad de nulos de price_aprox_usd \n",
    "#queremos ver si son los mismos datos  \n",
    "mask_price_usd_null = data[\"price_aprox_usd\"].isnull()\n",
    "per_m2_usd = data[\"price_usd_per_m2\"][mask_price_usd_null]\n",
    "per_m2_usd.isnull().sum()"
   ]
  },
  {
   "cell_type": "markdown",
   "id": "2eddae99",
   "metadata": {},
   "source": [
    "Conclusión: como podemos ver los nulos de price_aprox_usd tampoco se pueden rellenar con la columna price_usd_per_m2 ya que les faltan los mismos datos. Se prueba realizar la misma operación pero con la columna limpiada."
   ]
  },
  {
   "cell_type": "markdown",
   "id": "822e7efc",
   "metadata": {},
   "source": [
    "**Analisis de Rooms**\n",
    "\n",
    "La columna Rooms tiene un 60.9% de valores faltantes.\n",
    "\n",
    "Vamos a intentar reducir ese número mediante la  patrones usando Regex."
   ]
  },
  {
   "cell_type": "markdown",
   "id": "ef339ed4",
   "metadata": {},
   "source": [
    "Contamos la cantidad de valores que tiene la columna Rooms:"
   ]
  },
  {
   "cell_type": "code",
   "execution_count": 71,
   "id": "98f17b55",
   "metadata": {},
   "outputs": [
    {
     "data": {
      "text/plain": [
       "2.0     11484\n",
       "3.0     10739\n",
       "1.0      6855\n",
       "4.0      5885\n",
       "5.0      2369\n",
       "6.0       851\n",
       "7.0       428\n",
       "8.0       217\n",
       "10.0      144\n",
       "9.0       114\n",
       "11.0       49\n",
       "12.0       36\n",
       "13.0       23\n",
       "15.0       18\n",
       "14.0       13\n",
       "17.0       12\n",
       "20.0        7\n",
       "22.0        7\n",
       "16.0        5\n",
       "21.0        4\n",
       "30.0        3\n",
       "25.0        3\n",
       "19.0        3\n",
       "18.0        3\n",
       "23.0        2\n",
       "24.0        1\n",
       "27.0        1\n",
       "29.0        1\n",
       "32.0        1\n",
       "28.0        1\n",
       "Name: rooms, dtype: int64"
      ]
     },
     "execution_count": 71,
     "metadata": {},
     "output_type": "execute_result"
    }
   ],
   "source": [
    "data.rooms.value_counts()"
   ]
  },
  {
   "cell_type": "markdown",
   "id": "21832312",
   "metadata": {},
   "source": [
    "Creamos una serie de la columna Title, la cual fue seleccionada para completar la columna Rooms."
   ]
  },
  {
   "cell_type": "code",
   "execution_count": 72,
   "id": "5af5a230",
   "metadata": {},
   "outputs": [],
   "source": [
    "data_title = data['title']"
   ]
  },
  {
   "cell_type": "markdown",
   "id": "3e398168",
   "metadata": {},
   "source": [
    "Visualizamos que tipos de datos tenemos en Title:"
   ]
  },
  {
   "cell_type": "code",
   "execution_count": 73,
   "id": "ec929865",
   "metadata": {},
   "outputs": [
    {
     "data": {
      "text/plain": [
       "DEPARTAMENTO EN VENTA                                       4199\n",
       "CASA EN VENTA                                               2110\n",
       "PH EN VENTA                                                  786\n",
       "Departamento - Nueva Cordoba                                 737\n",
       "Departamento - Rosario                                       582\n",
       "                                                            ... \n",
       "Excelente casa venta en una planta sobre cul de sac            1\n",
       "U$D 110.000 - Casa en Venta - H Irigoyen 1800     0            1\n",
       "PH DE 4 DORMITORIOS Y TERRAZA- todo luz                        1\n",
       "Dos Ambientes Cochera, Baulera y Amenities                     1\n",
       "U$D 125.000 - Casa en Venta - Gral Jose M Paz B     1100       1\n",
       "Name: title, Length: 58561, dtype: int64"
      ]
     },
     "execution_count": 73,
     "metadata": {},
     "output_type": "execute_result"
    }
   ],
   "source": [
    "data_title.value_counts()"
   ]
  },
  {
   "cell_type": "markdown",
   "id": "4b1b2acd",
   "metadata": {},
   "source": [
    "Patrón para la busqueda de número de ambientes en Title:\n",
    "\n",
    "* Numero de ambientes <numero_ambientes> como un digito (\\d).\n",
    "* Seguido por un espacio (\\s).\n",
    "* Seguido por una palabra <ambientes> que comienza con \"amb\"."
   ]
  },
  {
   "cell_type": "code",
   "execution_count": 74,
   "id": "128a5c02",
   "metadata": {},
   "outputs": [],
   "source": [
    "pattern_ambiente = \"(?P<numero_ambientes>\\d)\\s(?P<ambientes>amb)\"\n",
    "pattern_ambiente_regex = re.compile(pattern_ambiente,re.IGNORECASE)\n"
   ]
  },
  {
   "cell_type": "markdown",
   "id": "d1dc5061",
   "metadata": {},
   "source": [
    "Buscamos el patrón en Title:"
   ]
  },
  {
   "cell_type": "code",
   "execution_count": 75,
   "id": "558cb81b",
   "metadata": {},
   "outputs": [
    {
     "data": {
      "text/plain": [
       "0          <regex.Match object; span=(0, 5), match='2 AMB'>\n",
       "2          <regex.Match object; span=(0, 5), match='2 AMB'>\n",
       "4         <regex.Match object; span=(6, 11), match='2 AMB'>\n",
       "5                                                      None\n",
       "6                                                      None\n",
       "                                ...                        \n",
       "121215    <regex.Match object; span=(31, 36), match='3 a...\n",
       "121216                                                 None\n",
       "121217                                                 None\n",
       "121218     <regex.Match object; span=(0, 5), match='2 amb'>\n",
       "121219                                                 None\n",
       "Name: title, Length: 99833, dtype: object"
      ]
     },
     "execution_count": 75,
     "metadata": {},
     "output_type": "execute_result"
    }
   ],
   "source": [
    "resultado_ambientes = data_title.apply(lambda x: x if x is None else pattern_ambiente_regex.search(x))\n",
    "resultado_ambientes"
   ]
  },
  {
   "cell_type": "markdown",
   "id": "ab20d3a3",
   "metadata": {},
   "source": [
    "Traigo solo el numero_ambientes y luego creo una máscara para las no nulas:"
   ]
  },
  {
   "cell_type": "code",
   "execution_count": 76,
   "id": "60282911",
   "metadata": {},
   "outputs": [
    {
     "data": {
      "text/plain": [
       "0            2\n",
       "2            2\n",
       "4            2\n",
       "5         None\n",
       "6         None\n",
       "          ... \n",
       "121215       3\n",
       "121216    None\n",
       "121217    None\n",
       "121218       2\n",
       "121219    None\n",
       "Name: title, Length: 99833, dtype: object"
      ]
     },
     "execution_count": 76,
     "metadata": {},
     "output_type": "execute_result"
    }
   ],
   "source": [
    "ambientes_match = resultado_ambientes.apply(lambda x: x if x is None else x.group('numero_ambientes'))\n",
    "ambientes_match"
   ]
  },
  {
   "cell_type": "code",
   "execution_count": 77,
   "id": "0ea765da",
   "metadata": {},
   "outputs": [
    {
     "data": {
      "text/plain": [
       "0          True\n",
       "2          True\n",
       "4          True\n",
       "5         False\n",
       "6         False\n",
       "          ...  \n",
       "121215     True\n",
       "121216    False\n",
       "121217    False\n",
       "121218     True\n",
       "121219    False\n",
       "Name: title, Length: 99833, dtype: bool"
      ]
     },
     "execution_count": 77,
     "metadata": {},
     "output_type": "execute_result"
    }
   ],
   "source": [
    "mask_ambientes_match_notnull = ambientes_match.notnull()\n",
    "mask_ambientes_match_notnull"
   ]
  },
  {
   "cell_type": "markdown",
   "id": "b86896ad",
   "metadata": {},
   "source": [
    "Aloco la nueva serie de datos en una nueva columna llamada rooms_clean y agrego los valores no nulos de rooms:"
   ]
  },
  {
   "cell_type": "code",
   "execution_count": 78,
   "id": "f0898850",
   "metadata": {},
   "outputs": [],
   "source": [
    "data.loc[mask_ambientes_match_notnull, \"rooms_clean\"] = ambientes_match[mask_ambientes_match_notnull]"
   ]
  },
  {
   "cell_type": "code",
   "execution_count": 79,
   "id": "1399b737",
   "metadata": {},
   "outputs": [
    {
     "data": {
      "text/plain": [
       "99833"
      ]
     },
     "execution_count": 79,
     "metadata": {},
     "output_type": "execute_result"
    }
   ],
   "source": [
    "len(data['rooms'])"
   ]
  },
  {
   "cell_type": "code",
   "execution_count": 80,
   "id": "6b06a599",
   "metadata": {},
   "outputs": [],
   "source": [
    "data.rooms_clean.fillna(data.rooms, inplace = True)"
   ]
  },
  {
   "cell_type": "code",
   "execution_count": 81,
   "id": "ce816a79",
   "metadata": {},
   "outputs": [
    {
     "data": {
      "text/html": [
       "<div>\n",
       "<style scoped>\n",
       "    .dataframe tbody tr th:only-of-type {\n",
       "        vertical-align: middle;\n",
       "    }\n",
       "\n",
       "    .dataframe tbody tr th {\n",
       "        vertical-align: top;\n",
       "    }\n",
       "\n",
       "    .dataframe thead th {\n",
       "        text-align: right;\n",
       "    }\n",
       "</style>\n",
       "<table border=\"1\" class=\"dataframe\">\n",
       "  <thead>\n",
       "    <tr style=\"text-align: right;\">\n",
       "      <th></th>\n",
       "      <th>rooms_clean</th>\n",
       "      <th>rooms</th>\n",
       "    </tr>\n",
       "  </thead>\n",
       "  <tbody>\n",
       "    <tr>\n",
       "      <th>0</th>\n",
       "      <td>2</td>\n",
       "      <td>NaN</td>\n",
       "    </tr>\n",
       "    <tr>\n",
       "      <th>2</th>\n",
       "      <td>2</td>\n",
       "      <td>NaN</td>\n",
       "    </tr>\n",
       "    <tr>\n",
       "      <th>4</th>\n",
       "      <td>2</td>\n",
       "      <td>NaN</td>\n",
       "    </tr>\n",
       "    <tr>\n",
       "      <th>5</th>\n",
       "      <td>NaN</td>\n",
       "      <td>NaN</td>\n",
       "    </tr>\n",
       "    <tr>\n",
       "      <th>6</th>\n",
       "      <td>NaN</td>\n",
       "      <td>NaN</td>\n",
       "    </tr>\n",
       "    <tr>\n",
       "      <th>7</th>\n",
       "      <td>NaN</td>\n",
       "      <td>NaN</td>\n",
       "    </tr>\n",
       "    <tr>\n",
       "      <th>8</th>\n",
       "      <td>NaN</td>\n",
       "      <td>NaN</td>\n",
       "    </tr>\n",
       "    <tr>\n",
       "      <th>12</th>\n",
       "      <td>2</td>\n",
       "      <td>NaN</td>\n",
       "    </tr>\n",
       "    <tr>\n",
       "      <th>13</th>\n",
       "      <td>1</td>\n",
       "      <td>1.0</td>\n",
       "    </tr>\n",
       "    <tr>\n",
       "      <th>14</th>\n",
       "      <td>1</td>\n",
       "      <td>1.0</td>\n",
       "    </tr>\n",
       "    <tr>\n",
       "      <th>15</th>\n",
       "      <td>NaN</td>\n",
       "      <td>NaN</td>\n",
       "    </tr>\n",
       "    <tr>\n",
       "      <th>16</th>\n",
       "      <td>4</td>\n",
       "      <td>4.0</td>\n",
       "    </tr>\n",
       "    <tr>\n",
       "      <th>18</th>\n",
       "      <td>NaN</td>\n",
       "      <td>NaN</td>\n",
       "    </tr>\n",
       "    <tr>\n",
       "      <th>19</th>\n",
       "      <td>3</td>\n",
       "      <td>3.0</td>\n",
       "    </tr>\n",
       "    <tr>\n",
       "      <th>20</th>\n",
       "      <td>NaN</td>\n",
       "      <td>NaN</td>\n",
       "    </tr>\n",
       "    <tr>\n",
       "      <th>21</th>\n",
       "      <td>4</td>\n",
       "      <td>4.0</td>\n",
       "    </tr>\n",
       "    <tr>\n",
       "      <th>22</th>\n",
       "      <td>NaN</td>\n",
       "      <td>NaN</td>\n",
       "    </tr>\n",
       "    <tr>\n",
       "      <th>23</th>\n",
       "      <td>2</td>\n",
       "      <td>2.0</td>\n",
       "    </tr>\n",
       "    <tr>\n",
       "      <th>26</th>\n",
       "      <td>NaN</td>\n",
       "      <td>NaN</td>\n",
       "    </tr>\n",
       "    <tr>\n",
       "      <th>27</th>\n",
       "      <td>NaN</td>\n",
       "      <td>NaN</td>\n",
       "    </tr>\n",
       "  </tbody>\n",
       "</table>\n",
       "</div>"
      ],
      "text/plain": [
       "   rooms_clean  rooms\n",
       "0            2    NaN\n",
       "2            2    NaN\n",
       "4            2    NaN\n",
       "5          NaN    NaN\n",
       "6          NaN    NaN\n",
       "7          NaN    NaN\n",
       "8          NaN    NaN\n",
       "12           2    NaN\n",
       "13           1    1.0\n",
       "14           1    1.0\n",
       "15         NaN    NaN\n",
       "16           4    4.0\n",
       "18         NaN    NaN\n",
       "19           3    3.0\n",
       "20         NaN    NaN\n",
       "21           4    4.0\n",
       "22         NaN    NaN\n",
       "23           2    2.0\n",
       "26         NaN    NaN\n",
       "27         NaN    NaN"
      ]
     },
     "execution_count": 81,
     "metadata": {},
     "output_type": "execute_result"
    }
   ],
   "source": [
    "data[['rooms_clean','rooms']].head(20)"
   ]
  },
  {
   "cell_type": "code",
   "execution_count": 82,
   "id": "79d8e8a1",
   "metadata": {},
   "outputs": [
    {
     "data": {
      "text/plain": [
       "53.37914316909238"
      ]
     },
     "execution_count": 82,
     "metadata": {},
     "output_type": "execute_result"
    }
   ],
   "source": [
    "(data.rooms_clean.isnull().sum()/data.rooms_clean.shape[0]*100)\n",
    "        "
   ]
  },
  {
   "cell_type": "markdown",
   "id": "83a28606",
   "metadata": {},
   "source": [
    "**Conclusión - Columna Rooms**\n",
    "\n",
    "La busqueda de valores mediante patrones para completar la columna rooms solo redujo del 59.9% al 53.4% el porcentaje de valores nulos.\n",
    "\n",
    "El indicador sigue siendo demasiado alto para poder realizar un análisis representativo de la columna."
   ]
  },
  {
   "cell_type": "code",
   "execution_count": 83,
   "id": "24c98293",
   "metadata": {},
   "outputs": [
    {
     "name": "stdout",
     "output_type": "stream",
     "text": [
      "<class 'pandas.core.frame.DataFrame'>\n",
      "Int64Index: 99833 entries, 0 to 121219\n",
      "Data columns (total 32 columns):\n",
      " #   Column                      Non-Null Count  Dtype  \n",
      "---  ------                      --------------  -----  \n",
      " 0   Unnamed: 0                  99833 non-null  int64  \n",
      " 1   operation                   99833 non-null  object \n",
      " 2   property_type               99833 non-null  object \n",
      " 3   place_name                  99812 non-null  object \n",
      " 4   place_with_parent_names     99833 non-null  object \n",
      " 5   country_name                99833 non-null  object \n",
      " 6   state_name                  99833 non-null  object \n",
      " 7   geonames_id                 84045 non-null  float64\n",
      " 8   lat-lon                     56227 non-null  object \n",
      " 9   lat                         56227 non-null  float64\n",
      " 10  lon                         56227 non-null  float64\n",
      " 11  price                       85639 non-null  float64\n",
      " 12  currency                    85639 non-null  object \n",
      " 13  price_aprox_local_currency  85639 non-null  float64\n",
      " 14  price_aprox_usd             85639 non-null  float64\n",
      " 15  surface_total_in_m2         99833 non-null  float64\n",
      " 16  surface_covered_in_m2       92813 non-null  float64\n",
      " 17  price_usd_per_m2            85639 non-null  float64\n",
      " 18  price_per_m2                80517 non-null  float64\n",
      " 19  floor                       6957 non-null   float64\n",
      " 20  rooms                       39279 non-null  float64\n",
      " 21  expenses                    12594 non-null  float64\n",
      " 22  properati_url               99833 non-null  object \n",
      " 23  description                 99832 non-null  object \n",
      " 24  title                       99833 non-null  object \n",
      " 25  image_thumbnail             97500 non-null  object \n",
      " 26  m2_cubierto_clean           92813 non-null  float64\n",
      " 27  condicion                   99833 non-null  bool   \n",
      " 28  price_usd_per_m2_clean      81981 non-null  float64\n",
      " 29  Concatenado                 99812 non-null  object \n",
      " 30  price_per_m2_clean          81802 non-null  float64\n",
      " 31  rooms_clean                 46543 non-null  object \n",
      "dtypes: bool(1), float64(16), int64(1), object(14)\n",
      "memory usage: 27.0+ MB\n"
     ]
    }
   ],
   "source": [
    "data.info()"
   ]
  },
  {
   "cell_type": "code",
   "execution_count": 84,
   "id": "2a34d53f",
   "metadata": {},
   "outputs": [
    {
     "data": {
      "text/plain": [
       "floor                         93.031362\n",
       "expenses                      87.384933\n",
       "rooms                         60.655294\n",
       "rooms_clean                   53.379143\n",
       "lat-lon                       43.678944\n",
       "lat                           43.678944\n",
       "lon                           43.678944\n",
       "price_per_m2                  19.348312\n",
       "price_per_m2_clean            18.061162\n",
       "price_usd_per_m2_clean        17.881863\n",
       "geonames_id                   15.814410\n",
       "price_aprox_usd               14.217744\n",
       "price_usd_per_m2              14.217744\n",
       "price_aprox_local_currency    14.217744\n",
       "currency                      14.217744\n",
       "price                         14.217744\n",
       "m2_cubierto_clean              7.031743\n",
       "surface_covered_in_m2          7.031743\n",
       "image_thumbnail                2.336903\n",
       "Concatenado                    0.021035\n",
       "place_name                     0.021035\n",
       "description                    0.001002\n",
       "operation                      0.000000\n",
       "country_name                   0.000000\n",
       "property_type                  0.000000\n",
       "place_with_parent_names        0.000000\n",
       "surface_total_in_m2            0.000000\n",
       "state_name                     0.000000\n",
       "properati_url                  0.000000\n",
       "title                          0.000000\n",
       "condicion                      0.000000\n",
       "Unnamed: 0                     0.000000\n",
       "dtype: float64"
      ]
     },
     "execution_count": 84,
     "metadata": {},
     "output_type": "execute_result"
    }
   ],
   "source": [
    "(data.isnull().sum()/data.shape[0]*100).sort_values(ascending=False)"
   ]
  },
  {
   "cell_type": "markdown",
   "id": "4f96f109",
   "metadata": {},
   "source": [
    "**CONCLUSIONES DE LIMPIEZA DE VALORES NULOS EN EL DATA SET**\n",
    "\n",
    "Podemos observar las siguiente mejores en nuestra Data:\n",
    "**Variable Precio**\n",
    "Los nulos de la columna price_usd_per_m2_clean han bajado del 43,39% al 17,88% se pudo completar más información.\n",
    "Los nulos de la columna price_aprox_usd han bajado del 16,83% al 14,21% en este caso no se pudo completar más información pero se redujo gracias a la eliminación de outliers en m2.\n",
    "\n",
    "**Variable Tamaño**: \n",
    "La columna surface_total_in_m2 que contaba con el 32.44% de sus datos en nulos ya no tiene nulos. \n",
    "La columna surface_covered_in_m2 se ha reducido del 16,42% al 7,03% \n",
    "La columna rooms si bien se pudo reducir de 59.9% al 53.4%, debido al gran nº de datos faltantes no se usará.\n",
    "\n",
    "**Variable Altura**: Columna floor por el momento no completaremos esta columna ya que nos falta el 93.48% de los datos\n",
    "\n"
   ]
  },
  {
   "cell_type": "markdown",
   "id": "ccba445e",
   "metadata": {},
   "source": [
    "**EXTRA - Analisis CAPITAL FEDERAL:**\n",
    "\n",
    "**Se realizara un estudio con una comparacion de propiedades entre Palermo y Belgrano para un potencial comprador**."
   ]
  },
  {
   "cell_type": "markdown",
   "id": "86d0e0e3",
   "metadata": {},
   "source": [
    "**1. Se compara precios de USD/m2 en Palermo vs Belgrano**"
   ]
  },
  {
   "cell_type": "code",
   "execution_count": 85,
   "id": "816b414c",
   "metadata": {},
   "outputs": [],
   "source": [
    "mask_capitalfederal = data['state_name'] == 'Capital Federal'\n",
    "capital_federal = data.loc[mask_capitalfederal,:]\n"
   ]
  },
  {
   "cell_type": "code",
   "execution_count": 86,
   "id": "2f78f173",
   "metadata": {},
   "outputs": [],
   "source": [
    "mask_palermo=capital_federal.place_name=='Palermo' \n",
    "mask_belgrano=capital_federal.place_name=='Belgrano'\n",
    "mask_palermo_o_belgrano = mask_belgrano | mask_palermo\n",
    "palermo_o_belgrano = capital_federal[mask_palermo_o_belgrano]"
   ]
  },
  {
   "cell_type": "code",
   "execution_count": 87,
   "id": "ac11e037",
   "metadata": {},
   "outputs": [
    {
     "data": {
      "text/html": [
       "<div>\n",
       "<style scoped>\n",
       "    .dataframe tbody tr th:only-of-type {\n",
       "        vertical-align: middle;\n",
       "    }\n",
       "\n",
       "    .dataframe tbody tr th {\n",
       "        vertical-align: top;\n",
       "    }\n",
       "\n",
       "    .dataframe thead th {\n",
       "        text-align: right;\n",
       "    }\n",
       "</style>\n",
       "<table border=\"1\" class=\"dataframe\">\n",
       "  <thead>\n",
       "    <tr style=\"text-align: right;\">\n",
       "      <th></th>\n",
       "      <th>place_name</th>\n",
       "      <th>price_usd_per_m2</th>\n",
       "    </tr>\n",
       "  </thead>\n",
       "  <tbody>\n",
       "    <tr>\n",
       "      <th>1</th>\n",
       "      <td>Palermo</td>\n",
       "      <td>3580.39</td>\n",
       "    </tr>\n",
       "    <tr>\n",
       "      <th>0</th>\n",
       "      <td>Belgrano</td>\n",
       "      <td>3160.68</td>\n",
       "    </tr>\n",
       "  </tbody>\n",
       "</table>\n",
       "</div>"
      ],
      "text/plain": [
       "  place_name  price_usd_per_m2\n",
       "1    Palermo           3580.39\n",
       "0   Belgrano           3160.68"
      ]
     },
     "execution_count": 87,
     "metadata": {},
     "output_type": "execute_result"
    }
   ],
   "source": [
    "grupo = round(palermo_o_belgrano.groupby(['place_name'], as_index =False)['price_usd_per_m2'].mean(),2)\n",
    "grupo.sort_values(by= ['price_usd_per_m2'], ascending=False)"
   ]
  },
  {
   "cell_type": "code",
   "execution_count": 88,
   "id": "47cdb2d6",
   "metadata": {},
   "outputs": [],
   "source": [
    "import seaborn as sns"
   ]
  },
  {
   "cell_type": "code",
   "execution_count": 89,
   "id": "da16038e",
   "metadata": {},
   "outputs": [
    {
     "data": {
      "text/plain": [
       "<AxesSubplot:xlabel='place_name', ylabel='price_usd_per_m2'>"
      ]
     },
     "execution_count": 89,
     "metadata": {},
     "output_type": "execute_result"
    },
    {
     "data": {
      "image/png": "[encoded data removed]",
      "text/plain": [
       "<Figure size 432x288 with 1 Axes>"
      ]
     },
     "metadata": {
      "needs_background": "light"
     },
     "output_type": "display_data"
    }
   ],
   "source": [
    "sns.barplot(x=palermo_o_belgrano['place_name'], y=palermo_o_belgrano['price_usd_per_m2'], color='grey')"
   ]
  },
  {
   "cell_type": "code",
   "execution_count": 90,
   "id": "02727353",
   "metadata": {},
   "outputs": [
    {
     "data": {
      "text/html": [
       "<div>\n",
       "<style scoped>\n",
       "    .dataframe tbody tr th:only-of-type {\n",
       "        vertical-align: middle;\n",
       "    }\n",
       "\n",
       "    .dataframe tbody tr th {\n",
       "        vertical-align: top;\n",
       "    }\n",
       "\n",
       "    .dataframe thead th {\n",
       "        text-align: right;\n",
       "    }\n",
       "</style>\n",
       "<table border=\"1\" class=\"dataframe\">\n",
       "  <thead>\n",
       "    <tr style=\"text-align: right;\">\n",
       "      <th></th>\n",
       "      <th>surface_total_in_m2</th>\n",
       "    </tr>\n",
       "    <tr>\n",
       "      <th>place_name</th>\n",
       "      <th></th>\n",
       "    </tr>\n",
       "  </thead>\n",
       "  <tbody>\n",
       "    <tr>\n",
       "      <th>Belgrano</th>\n",
       "      <td>81.68</td>\n",
       "    </tr>\n",
       "    <tr>\n",
       "      <th>Palermo</th>\n",
       "      <td>77.18</td>\n",
       "    </tr>\n",
       "  </tbody>\n",
       "</table>\n",
       "</div>"
      ],
      "text/plain": [
       "            surface_total_in_m2\n",
       "place_name                     \n",
       "Belgrano                  81.68\n",
       "Palermo                   77.18"
      ]
     },
     "execution_count": 90,
     "metadata": {},
     "output_type": "execute_result"
    }
   ],
   "source": [
    "#CSuperficie total promedio en cada barrio\n",
    "round(palermo_o_belgrano.groupby(['place_name'])[['surface_total_in_m2']].mean(),2)"
   ]
  },
  {
   "cell_type": "code",
   "execution_count": 91,
   "id": "1adb8879",
   "metadata": {},
   "outputs": [
    {
     "data": {
      "text/html": [
       "<div>\n",
       "<style scoped>\n",
       "    .dataframe tbody tr th:only-of-type {\n",
       "        vertical-align: middle;\n",
       "    }\n",
       "\n",
       "    .dataframe tbody tr th {\n",
       "        vertical-align: top;\n",
       "    }\n",
       "\n",
       "    .dataframe thead th {\n",
       "        text-align: right;\n",
       "    }\n",
       "</style>\n",
       "<table border=\"1\" class=\"dataframe\">\n",
       "  <thead>\n",
       "    <tr style=\"text-align: right;\">\n",
       "      <th></th>\n",
       "      <th>operation</th>\n",
       "    </tr>\n",
       "    <tr>\n",
       "      <th>place_name</th>\n",
       "      <th></th>\n",
       "    </tr>\n",
       "  </thead>\n",
       "  <tbody>\n",
       "    <tr>\n",
       "      <th>Belgrano</th>\n",
       "      <td>2482</td>\n",
       "    </tr>\n",
       "    <tr>\n",
       "      <th>Palermo</th>\n",
       "      <td>2463</td>\n",
       "    </tr>\n",
       "  </tbody>\n",
       "</table>\n",
       "</div>"
      ],
      "text/plain": [
       "            operation\n",
       "place_name           \n",
       "Belgrano         2482\n",
       "Palermo          2463"
      ]
     },
     "execution_count": 91,
     "metadata": {},
     "output_type": "execute_result"
    }
   ],
   "source": [
    "#Cantidad de propiedades en venta en cada barrio\n",
    "palermo_o_belgrano.groupby(['place_name'])[['operation']].count()"
   ]
  },
  {
   "cell_type": "code",
   "execution_count": 92,
   "id": "b7376728",
   "metadata": {},
   "outputs": [],
   "source": [
    "#Juntar en un grafico el precio de venta, la superficie promedio y la cantidad de propiedades en venta para cada uno de los barrios"
   ]
  },
  {
   "cell_type": "markdown",
   "id": "c5b754f0",
   "metadata": {},
   "source": [
    "Visualizo que cantidad de datos tiene cada barrio de Capital Federal utilizando la columna place_with_parent_names:"
   ]
  },
  {
   "cell_type": "markdown",
   "id": "8ac9a654",
   "metadata": {},
   "source": [
    "### TP2\n",
    "\n",
    "---"
   ]
  },
  {
   "cell_type": "markdown",
   "id": "89b610ed",
   "metadata": {},
   "source": [
    "Fue elegido como dataset a analizar Departamentos en Palermo por la cantidad de datos disponibles."
   ]
  },
  {
   "cell_type": "code",
   "execution_count": 93,
   "id": "f96e3ef1",
   "metadata": {},
   "outputs": [],
   "source": [
    "mask_capitalfederal = data['state_name'] == 'Capital Federal'\n",
    "capital_federal = data.loc[mask_capitalfederal,:]\n"
   ]
  },
  {
   "cell_type": "code",
   "execution_count": 94,
   "id": "6ecde59d",
   "metadata": {},
   "outputs": [],
   "source": [
    "mask_palermo=capital_federal.place_name=='Palermo' \n",
    "mask_apartment=capital_federal.property_type =='apartment'\n",
    "mask_palermo_apartments = mask_apartment & mask_palermo\n",
    "palermo_apartments = capital_federal[mask_palermo_apartments]"
   ]
  },
  {
   "cell_type": "code",
   "execution_count": 95,
   "id": "f3d025fb",
   "metadata": {},
   "outputs": [],
   "source": [
    "palermo_apartments_clean = palermo_apartments[['surface_total_in_m2','price_aprox_usd']]"
   ]
  },
  {
   "cell_type": "code",
   "execution_count": 96,
   "id": "fecc2f1d",
   "metadata": {},
   "outputs": [
    {
     "data": {
      "text/plain": [
       "(2203, 2)"
      ]
     },
     "execution_count": 96,
     "metadata": {},
     "output_type": "execute_result"
    }
   ],
   "source": [
    "palermo_apartments_clean.shape"
   ]
  },
  {
   "cell_type": "code",
   "execution_count": 97,
   "id": "75bf49d7",
   "metadata": {},
   "outputs": [
    {
     "data": {
      "text/html": [
       "<div>\n",
       "<style scoped>\n",
       "    .dataframe tbody tr th:only-of-type {\n",
       "        vertical-align: middle;\n",
       "    }\n",
       "\n",
       "    .dataframe tbody tr th {\n",
       "        vertical-align: top;\n",
       "    }\n",
       "\n",
       "    .dataframe thead th {\n",
       "        text-align: right;\n",
       "    }\n",
       "</style>\n",
       "<table border=\"1\" class=\"dataframe\">\n",
       "  <thead>\n",
       "    <tr style=\"text-align: right;\">\n",
       "      <th></th>\n",
       "      <th>surface_total_in_m2</th>\n",
       "      <th>price_aprox_usd</th>\n",
       "    </tr>\n",
       "  </thead>\n",
       "  <tbody>\n",
       "    <tr>\n",
       "      <th>19</th>\n",
       "      <td>104.0</td>\n",
       "      <td>350000.0</td>\n",
       "    </tr>\n",
       "    <tr>\n",
       "      <th>21</th>\n",
       "      <td>118.0</td>\n",
       "      <td>270500.0</td>\n",
       "    </tr>\n",
       "    <tr>\n",
       "      <th>241</th>\n",
       "      <td>39.0</td>\n",
       "      <td>147300.0</td>\n",
       "    </tr>\n",
       "    <tr>\n",
       "      <th>386</th>\n",
       "      <td>70.0</td>\n",
       "      <td>179000.0</td>\n",
       "    </tr>\n",
       "    <tr>\n",
       "      <th>444</th>\n",
       "      <td>43.0</td>\n",
       "      <td>95000.0</td>\n",
       "    </tr>\n",
       "  </tbody>\n",
       "</table>\n",
       "</div>"
      ],
      "text/plain": [
       "     surface_total_in_m2  price_aprox_usd\n",
       "19                 104.0         350000.0\n",
       "21                 118.0         270500.0\n",
       "241                 39.0         147300.0\n",
       "386                 70.0         179000.0\n",
       "444                 43.0          95000.0"
      ]
     },
     "execution_count": 97,
     "metadata": {},
     "output_type": "execute_result"
    }
   ],
   "source": [
    "palermo_apartments_clean.head(5)"
   ]
  },
  {
   "cell_type": "code",
   "execution_count": 98,
   "id": "02e0561e",
   "metadata": {},
   "outputs": [
    {
     "name": "stderr",
     "output_type": "stream",
     "text": [
      "C:\\Users\\gonza\\AppData\\Local\\Temp/ipykernel_15736/4229900191.py:1: SettingWithCopyWarning: \n",
      "A value is trying to be set on a copy of a slice from a DataFrame\n",
      "\n",
      "See the caveats in the documentation: https://pandas.pydata.org/pandas-docs/stable/user_guide/indexing.html#returning-a-view-versus-a-copy\n",
      "  palermo_apartments_clean.dropna(inplace = True)\n"
     ]
    }
   ],
   "source": [
    "palermo_apartments_clean.dropna(inplace = True)\n"
   ]
  },
  {
   "cell_type": "code",
   "execution_count": 99,
   "id": "281f0dad",
   "metadata": {},
   "outputs": [
    {
     "data": {
      "text/plain": [
       "0"
      ]
     },
     "execution_count": 99,
     "metadata": {},
     "output_type": "execute_result"
    }
   ],
   "source": [
    "palermo_apartments_clean['surface_total_in_m2'].isnull().sum()"
   ]
  },
  {
   "cell_type": "code",
   "execution_count": 100,
   "id": "0de22d64",
   "metadata": {},
   "outputs": [
    {
     "data": {
      "text/plain": [
       "0"
      ]
     },
     "execution_count": 100,
     "metadata": {},
     "output_type": "execute_result"
    }
   ],
   "source": [
    "palermo_apartments_clean[\"price_aprox_usd\"].isnull().sum()"
   ]
  },
  {
   "cell_type": "markdown",
   "id": "81b1cbc7",
   "metadata": {},
   "source": [
    "**CORRELACION DE VARIABLES**"
   ]
  },
  {
   "cell_type": "code",
   "execution_count": 101,
   "id": "de80c792",
   "metadata": {},
   "outputs": [
    {
     "data": {
      "text/plain": [
       "<AxesSubplot:>"
      ]
     },
     "execution_count": 101,
     "metadata": {},
     "output_type": "execute_result"
    },
    {
     "data": {
      "image/png": "[encoded data removed]",
      "text/plain": [
       "<Figure size 1152x576 with 2 Axes>"
      ]
     },
     "metadata": {
      "needs_background": "light"
     },
     "output_type": "display_data"
    }
   ],
   "source": [
    "import matplotlib.pyplot as plt\n",
    "\n",
    "fig, ax = plt.subplots()\n",
    "# the size of A4 paper\n",
    "fig.set_size_inches(16, 8)\n",
    "sns.heatmap(palermo_apartments_clean[['price_aprox_usd','surface_total_in_m2']].corr(), annot=True,vmin=-1, cmap='Reds')"
   ]
  },
  {
   "cell_type": "markdown",
   "id": "500d66f3",
   "metadata": {},
   "source": [
    "**REGRESION LINEAL**\n",
    "\n",
    "---"
   ]
  },
  {
   "cell_type": "code",
   "execution_count": 102,
   "id": "a1def4b9",
   "metadata": {},
   "outputs": [
    {
     "data": {
      "image/png": "[encoded data removed]",
      "text/plain": [
       "<Figure size 432x288 with 1 Axes>"
      ]
     },
     "metadata": {
      "needs_background": "light"
     },
     "output_type": "display_data"
    }
   ],
   "source": [
    "g=sns.regplot(data = palermo_apartments_clean, x = \"surface_total_in_m2\", y = \"price_aprox_usd\", \n",
    "            ci = 95,\n",
    "            scatter_kws = {\"color\": \"blue\", 's': 10},\n",
    "            line_kws = {\"color\": \"red\"}); \n",
    "#ylabels = ['{:,.2f}'.format(x) + 'K' for x in g.get_xticks()/1000]\n",
    "#g.set_yticklabels(ylabels)\n",
    "#ARREGLAR ESCALA GRAFICO EN EJE Y"
   ]
  },
  {
   "cell_type": "code",
   "execution_count": 103,
   "id": "2d5e61f2",
   "metadata": {},
   "outputs": [
    {
     "data": {
      "text/plain": [
       "count    1.908000e+03\n",
       "mean     2.231412e+05\n",
       "std      1.383647e+05\n",
       "min      3.343159e+04\n",
       "25%      1.300000e+05\n",
       "50%      1.800000e+05\n",
       "75%      2.709375e+05\n",
       "max      1.400000e+06\n",
       "Name: price_aprox_usd, dtype: float64"
      ]
     },
     "execution_count": 103,
     "metadata": {},
     "output_type": "execute_result"
    }
   ],
   "source": [
    "palermo_apartments_clean.price_aprox_usd.describe()"
   ]
  },
  {
   "cell_type": "code",
   "execution_count": 104,
   "id": "2e8db5f4",
   "metadata": {},
   "outputs": [
    {
     "data": {
      "text/html": [
       "<div>\n",
       "<style scoped>\n",
       "    .dataframe tbody tr th:only-of-type {\n",
       "        vertical-align: middle;\n",
       "    }\n",
       "\n",
       "    .dataframe tbody tr th {\n",
       "        vertical-align: top;\n",
       "    }\n",
       "\n",
       "    .dataframe thead th {\n",
       "        text-align: right;\n",
       "    }\n",
       "</style>\n",
       "<table border=\"1\" class=\"dataframe\">\n",
       "  <thead>\n",
       "    <tr style=\"text-align: right;\">\n",
       "      <th></th>\n",
       "      <th>price_aprox_usd</th>\n",
       "    </tr>\n",
       "  </thead>\n",
       "  <tbody>\n",
       "    <tr>\n",
       "      <th>19</th>\n",
       "      <td>350000.0</td>\n",
       "    </tr>\n",
       "    <tr>\n",
       "      <th>21</th>\n",
       "      <td>270500.0</td>\n",
       "    </tr>\n",
       "    <tr>\n",
       "      <th>241</th>\n",
       "      <td>147300.0</td>\n",
       "    </tr>\n",
       "    <tr>\n",
       "      <th>386</th>\n",
       "      <td>179000.0</td>\n",
       "    </tr>\n",
       "    <tr>\n",
       "      <th>444</th>\n",
       "      <td>95000.0</td>\n",
       "    </tr>\n",
       "  </tbody>\n",
       "</table>\n",
       "</div>"
      ],
      "text/plain": [
       "     price_aprox_usd\n",
       "19          350000.0\n",
       "21          270500.0\n",
       "241         147300.0\n",
       "386         179000.0\n",
       "444          95000.0"
      ]
     },
     "execution_count": 104,
     "metadata": {},
     "output_type": "execute_result"
    }
   ],
   "source": [
    "# Pongo el target en otro Dataframe\n",
    "targets = pd.DataFrame(palermo_apartments_clean.price_aprox_usd, columns=[\"price_aprox_usd\"])\n",
    "targets.head(5)"
   ]
  },
  {
   "cell_type": "code",
   "execution_count": 105,
   "id": "92688425",
   "metadata": {},
   "outputs": [
    {
     "name": "stderr",
     "output_type": "stream",
     "text": [
      "C:\\Users\\gonza\\anaconda3\\envs\\dhdsblend2021\\lib\\site-packages\\seaborn\\distributions.py:2551: FutureWarning: `distplot` is a deprecated function and will be removed in a future version. Please adapt your code to use either `displot` (a figure-level function with similar flexibility) or `histplot` (an axes-level function for histograms).\n",
      "  warnings.warn(msg, FutureWarning)\n"
     ]
    },
    {
     "data": {
      "text/plain": [
       "<AxesSubplot:xlabel='surface_total_in_m2', ylabel='Density'>"
      ]
     },
     "execution_count": 105,
     "metadata": {},
     "output_type": "execute_result"
    },
    {
     "data": {
      "image/png": "[encoded data removed]",
      "text/plain": [
       "<Figure size 432x288 with 1 Axes>"
      ]
     },
     "metadata": {
      "needs_background": "light"
     },
     "output_type": "display_data"
    }
   ],
   "source": [
    "sns.distplot(palermo_apartments_clean[\"surface_total_in_m2\"], bins=70)"
   ]
  },
  {
   "cell_type": "code",
   "execution_count": 106,
   "id": "7f031e23",
   "metadata": {},
   "outputs": [
    {
     "name": "stderr",
     "output_type": "stream",
     "text": [
      "C:\\Users\\gonza\\anaconda3\\envs\\dhdsblend2021\\lib\\site-packages\\seaborn\\distributions.py:2551: FutureWarning: `distplot` is a deprecated function and will be removed in a future version. Please adapt your code to use either `displot` (a figure-level function with similar flexibility) or `histplot` (an axes-level function for histograms).\n",
      "  warnings.warn(msg, FutureWarning)\n"
     ]
    },
    {
     "data": {
      "text/plain": [
       "<AxesSubplot:xlabel='price_aprox_usd', ylabel='Density'>"
      ]
     },
     "execution_count": 106,
     "metadata": {},
     "output_type": "execute_result"
    },
    {
     "data": {
      "image/png": "[encoded data removed]",
      "text/plain": [
       "<Figure size 432x288 with 1 Axes>"
      ]
     },
     "metadata": {
      "needs_background": "light"
     },
     "output_type": "display_data"
    }
   ],
   "source": [
    "sns.distplot(palermo_apartments_clean[\"price_aprox_usd\"], bins=70)"
   ]
  },
  {
   "cell_type": "code",
   "execution_count": 107,
   "id": "3fcc8d84",
   "metadata": {},
   "outputs": [
    {
     "data": {
      "text/plain": [
       "0"
      ]
     },
     "execution_count": 107,
     "metadata": {},
     "output_type": "execute_result"
    }
   ],
   "source": [
    "palermo_apartments_clean[\"price_aprox_usd\"].isnull().sum()"
   ]
  },
  {
   "cell_type": "code",
   "execution_count": 108,
   "id": "04331e79",
   "metadata": {},
   "outputs": [
    {
     "data": {
      "text/plain": [
       "0"
      ]
     },
     "execution_count": 108,
     "metadata": {},
     "output_type": "execute_result"
    }
   ],
   "source": [
    "palermo_apartments_clean[\"price_aprox_usd\"].isnull().sum()"
   ]
  },
  {
   "cell_type": "code",
   "execution_count": 109,
   "id": "91704a05",
   "metadata": {},
   "outputs": [
    {
     "data": {
      "text/plain": [
       "surface_total_in_m2    0\n",
       "dtype: int64"
      ]
     },
     "execution_count": 109,
     "metadata": {},
     "output_type": "execute_result"
    }
   ],
   "source": [
    "palermo_apartments_clean[[\"surface_total_in_m2\"]].isnull().sum()"
   ]
  },
  {
   "cell_type": "code",
   "execution_count": 110,
   "id": "a628c7f2",
   "metadata": {},
   "outputs": [],
   "source": [
    "from sklearn import linear_model\n",
    "from sklearn import preprocessing\n",
    "from sklearn.metrics import mean_squared_error, r2_score, accuracy_score\n",
    "from sklearn.model_selection import train_test_split"
   ]
  },
  {
   "cell_type": "code",
   "execution_count": 122,
   "id": "b16062bf",
   "metadata": {},
   "outputs": [
    {
     "name": "stdout",
     "output_type": "stream",
     "text": [
      "R2 train: 0.6174869803256845\n",
      "R2 test: 0.5935302109641928\n",
      "Intercepto=   -14383.570641759783\n",
      "Superficie=   [3478.77912578]\n",
      "R2_train=   0.6106037216666489\n"
     ]
    }
   ],
   "source": [
    "# Seleccionamos la variable predictora y la objetivo.\n",
    "X = palermo_apartments_clean[[\"surface_total_in_m2\"]]\n",
    "y = targets[\"price_aprox_usd\"]\n",
    "\n",
    "# Estandarizamos variable dependiente\n",
    "#standard = preprocessing.scale(X)\n",
    "\n",
    "# Instanciamos el modelo.\n",
    "#lm = linear_model.LinearRegression()\n",
    "\n",
    "X_train, X_test, y_train, y_test = train_test_split(X, y,random_state=10)\n",
    "\n",
    "#Ajustamos el modelo a los datos de entrenamiento\n",
    "model= lm.fit(X_train, y_train)\n",
    "\n",
    "y_pred = lm.predict(X_test)\n",
    "r2_test = r2_score(y_test, y_pred)\n",
    "r2_train = r2_score(y_train, lm.predict(X_train))\n",
    "\n",
    "print(f\"R2 train: {r2_train}\")\n",
    "print(f\"R2 test: {r2_test}\")\n",
    "\n",
    "\n",
    "\n",
    "#ypred = lm.predict(Xtest)\n",
    "#\n",
    "# Guardamos  las predicciones en un nuevo vector que llamaremos predictions.\n",
    "#predictions = lm.predict(X)\n",
    "\n",
    "# Imprimimos el intercepto y los coeficientes como atributos del objeto entrenado.\n",
    "print ('Intercepto=', ' ', model.intercept_)\n",
    "print ('Superficie=', ' ', model.coef_)\n",
    "# imprimos la metrica que mide la bondad de ajusto del modelo. En este caso el R2.\n",
    "print ('R2_train=', ' ', model.score(X, y))\n"
   ]
  },
  {
   "cell_type": "code",
   "execution_count": 131,
   "id": "a18ad87f",
   "metadata": {},
   "outputs": [
    {
     "data": {
      "image/png": "[encoded data removed]",
      "text/plain": [
       "<Figure size 432x288 with 1 Axes>"
      ]
     },
     "metadata": {
      "needs_background": "light"
     },
     "output_type": "display_data"
    }
   ],
   "source": [
    "plt.plot(y_test,y_test, '.',c='black')\n",
    "plt.scatter(y_pred, y_test, s=30, c='r', marker='+', zorder=50)\n",
    "plt.xlabel(\"Predicciones\")\n",
    "plt.ylabel(\"Valores reales\")\n",
    "plt.title('Comparación entre el modelo y los valores reales')\n",
    "plt.show()"
   ]
  },
  {
   "cell_type": "markdown",
   "id": "ca17b47a",
   "metadata": {},
   "source": [
    "**Conclusiones**\n",
    "- El valor de las propiedades (eje X) nunca vale cero, es por eso que el numero da tan bajo.\n",
    "- Que el valor de R2 Train y Test sea tan cercano, quiere decir que no se demuestran a primera vista grandes problemas de generalizacion de datos.\n",
    "- R2 = 0.6 es un buen valor de bondad de ajuste del modelo."
   ]
  },
  {
   "cell_type": "code",
   "execution_count": null,
   "id": "cebf8750",
   "metadata": {},
   "outputs": [],
   "source": []
  }
 ],
 "metadata": {
  "kernelspec": {
   "display_name": "Python 3 (ipykernel)",
   "language": "python",
   "name": "python3"
  },
  "language_info": {
   "codemirror_mode": {
    "name": "ipython",
    "version": 3
   },
   "file_extension": ".py",
   "mimetype": "text/x-python",
   "name": "python",
   "nbconvert_exporter": "python",
   "pygments_lexer": "ipython3",
   "version": "3.8.12"
  }
 },
 "nbformat": 4,
 "nbformat_minor": 5
}
